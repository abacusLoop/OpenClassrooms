{
 "cells": [
  {
   "cell_type": "markdown",
   "id": "6b78156e",
   "metadata": {},
   "source": [
    "# La gestion des données de la boutique BottleNeck"
   ]
  },
  {
   "cell_type": "markdown",
   "id": "264da5fd",
   "metadata": {},
   "source": [
    "MISSION: \n",
    "- Nettoyer les données et créer un tableau pour les ventes en ligne\n",
    "- Analyser les ventes en ligne"
   ]
  },
  {
   "cell_type": "code",
   "execution_count": 1,
   "id": "4d067519",
   "metadata": {},
   "outputs": [],
   "source": [
    "import pandas as pd\n",
    "import numpy as np\n",
    "import matplotlib.pyplot as plt\n",
    "import seaborn as sns\n",
    "import datetime as dt\n",
    "import scipy.stats as st\n",
    "import os\n",
    "os.chdir(\"C:/Users/majai/Dropbox/DATA ANALYST formation/Project 5/Livrables\")"
   ]
  },
  {
   "cell_type": "markdown",
   "id": "411af37a",
   "metadata": {},
   "source": [
    "L'importation des données:"
   ]
  },
  {
   "cell_type": "code",
   "execution_count": 2,
   "id": "3c254b84",
   "metadata": {},
   "outputs": [
    {
     "name": "stderr",
     "output_type": "stream",
     "text": [
      "C:\\Users\\majai\\anaconda3\\lib\\site-packages\\openpyxl\\worksheet\\_reader.py:312: UserWarning: Unknown extension is not supported and will be removed\n",
      "  warn(msg)\n"
     ]
    }
   ],
   "source": [
    "erp = pd.read_excel('erp.xlsx')\n",
    "liaison = pd.read_excel('liaison.xlsx')\n",
    "web = pd.read_excel('web.xlsx')"
   ]
  },
  {
   "cell_type": "markdown",
   "id": "d5cbbdf0",
   "metadata": {},
   "source": [
    "## 1. Exploration des trois tableaux"
   ]
  },
  {
   "cell_type": "markdown",
   "id": "4d83da9f",
   "metadata": {},
   "source": [
    "## Data *erp* "
   ]
  },
  {
   "cell_type": "code",
   "execution_count": 3,
   "id": "162d9881",
   "metadata": {},
   "outputs": [
    {
     "data": {
      "text/html": [
       "<div>\n",
       "<style scoped>\n",
       "    .dataframe tbody tr th:only-of-type {\n",
       "        vertical-align: middle;\n",
       "    }\n",
       "\n",
       "    .dataframe tbody tr th {\n",
       "        vertical-align: top;\n",
       "    }\n",
       "\n",
       "    .dataframe thead th {\n",
       "        text-align: right;\n",
       "    }\n",
       "</style>\n",
       "<table border=\"1\" class=\"dataframe\">\n",
       "  <thead>\n",
       "    <tr style=\"text-align: right;\">\n",
       "      <th></th>\n",
       "      <th>product_id</th>\n",
       "      <th>onsale_web</th>\n",
       "      <th>price</th>\n",
       "      <th>stock_quantity</th>\n",
       "      <th>stock_status</th>\n",
       "    </tr>\n",
       "  </thead>\n",
       "  <tbody>\n",
       "    <tr>\n",
       "      <th>0</th>\n",
       "      <td>3847</td>\n",
       "      <td>1</td>\n",
       "      <td>24.2</td>\n",
       "      <td>0</td>\n",
       "      <td>outofstock</td>\n",
       "    </tr>\n",
       "    <tr>\n",
       "      <th>1</th>\n",
       "      <td>3849</td>\n",
       "      <td>1</td>\n",
       "      <td>34.3</td>\n",
       "      <td>0</td>\n",
       "      <td>outofstock</td>\n",
       "    </tr>\n",
       "    <tr>\n",
       "      <th>2</th>\n",
       "      <td>3850</td>\n",
       "      <td>1</td>\n",
       "      <td>20.8</td>\n",
       "      <td>0</td>\n",
       "      <td>outofstock</td>\n",
       "    </tr>\n",
       "    <tr>\n",
       "      <th>3</th>\n",
       "      <td>4032</td>\n",
       "      <td>1</td>\n",
       "      <td>14.1</td>\n",
       "      <td>0</td>\n",
       "      <td>outofstock</td>\n",
       "    </tr>\n",
       "    <tr>\n",
       "      <th>4</th>\n",
       "      <td>4039</td>\n",
       "      <td>1</td>\n",
       "      <td>46.0</td>\n",
       "      <td>0</td>\n",
       "      <td>outofstock</td>\n",
       "    </tr>\n",
       "  </tbody>\n",
       "</table>\n",
       "</div>"
      ],
      "text/plain": [
       "   product_id  onsale_web  price  stock_quantity stock_status\n",
       "0        3847           1   24.2               0   outofstock\n",
       "1        3849           1   34.3               0   outofstock\n",
       "2        3850           1   20.8               0   outofstock\n",
       "3        4032           1   14.1               0   outofstock\n",
       "4        4039           1   46.0               0   outofstock"
      ]
     },
     "execution_count": 3,
     "metadata": {},
     "output_type": "execute_result"
    }
   ],
   "source": [
    "erp.head()"
   ]
  },
  {
   "cell_type": "code",
   "execution_count": 4,
   "id": "57bf7f5d",
   "metadata": {},
   "outputs": [
    {
     "data": {
      "text/plain": [
       "825"
      ]
     },
     "execution_count": 4,
     "metadata": {},
     "output_type": "execute_result"
    }
   ],
   "source": [
    "len(erp)"
   ]
  },
  {
   "cell_type": "code",
   "execution_count": 5,
   "id": "2f9c527b",
   "metadata": {},
   "outputs": [
    {
     "data": {
      "text/plain": [
       "product_id        0\n",
       "onsale_web        0\n",
       "price             0\n",
       "stock_quantity    0\n",
       "stock_status      0\n",
       "dtype: int64"
      ]
     },
     "execution_count": 5,
     "metadata": {},
     "output_type": "execute_result"
    }
   ],
   "source": [
    "erp.isnull().sum()"
   ]
  },
  {
   "cell_type": "code",
   "execution_count": 6,
   "id": "2da9cb0e",
   "metadata": {},
   "outputs": [
    {
     "data": {
      "text/html": [
       "<div>\n",
       "<style scoped>\n",
       "    .dataframe tbody tr th:only-of-type {\n",
       "        vertical-align: middle;\n",
       "    }\n",
       "\n",
       "    .dataframe tbody tr th {\n",
       "        vertical-align: top;\n",
       "    }\n",
       "\n",
       "    .dataframe thead th {\n",
       "        text-align: right;\n",
       "    }\n",
       "</style>\n",
       "<table border=\"1\" class=\"dataframe\">\n",
       "  <thead>\n",
       "    <tr style=\"text-align: right;\">\n",
       "      <th></th>\n",
       "      <th>product_id</th>\n",
       "      <th>onsale_web</th>\n",
       "      <th>price</th>\n",
       "      <th>stock_quantity</th>\n",
       "      <th>stock_status</th>\n",
       "    </tr>\n",
       "  </thead>\n",
       "  <tbody>\n",
       "  </tbody>\n",
       "</table>\n",
       "</div>"
      ],
      "text/plain": [
       "Empty DataFrame\n",
       "Columns: [product_id, onsale_web, price, stock_quantity, stock_status]\n",
       "Index: []"
      ]
     },
     "execution_count": 6,
     "metadata": {},
     "output_type": "execute_result"
    }
   ],
   "source": [
    "erp[erp.duplicated()]"
   ]
  },
  {
   "cell_type": "code",
   "execution_count": 7,
   "id": "89c5598f",
   "metadata": {
    "scrolled": true
   },
   "outputs": [
    {
     "data": {
      "text/html": [
       "<div>\n",
       "<style scoped>\n",
       "    .dataframe tbody tr th:only-of-type {\n",
       "        vertical-align: middle;\n",
       "    }\n",
       "\n",
       "    .dataframe tbody tr th {\n",
       "        vertical-align: top;\n",
       "    }\n",
       "\n",
       "    .dataframe thead th {\n",
       "        text-align: right;\n",
       "    }\n",
       "</style>\n",
       "<table border=\"1\" class=\"dataframe\">\n",
       "  <thead>\n",
       "    <tr style=\"text-align: right;\">\n",
       "      <th></th>\n",
       "      <th>product_id</th>\n",
       "      <th>onsale_web</th>\n",
       "      <th>price</th>\n",
       "      <th>stock_quantity</th>\n",
       "      <th>stock_status</th>\n",
       "    </tr>\n",
       "  </thead>\n",
       "  <tbody>\n",
       "  </tbody>\n",
       "</table>\n",
       "</div>"
      ],
      "text/plain": [
       "Empty DataFrame\n",
       "Columns: [product_id, onsale_web, price, stock_quantity, stock_status]\n",
       "Index: []"
      ]
     },
     "execution_count": 7,
     "metadata": {},
     "output_type": "execute_result"
    }
   ],
   "source": [
    "erp[erp.duplicated(subset=[\"product_id\"])]"
   ]
  },
  {
   "cell_type": "markdown",
   "id": "d9db2fde",
   "metadata": {},
   "source": [
    "Le tableau *erp* a 825 lignes et 5 colonnes, il n'y a pas de valeurs nulles ni de doublons."
   ]
  },
  {
   "cell_type": "code",
   "execution_count": 8,
   "id": "60692371",
   "metadata": {},
   "outputs": [
    {
     "data": {
      "image/png": "[encoded data removed]",
      "text/plain": [
       "<Figure size 432x288 with 1 Axes>"
      ]
     },
     "metadata": {
      "needs_background": "light"
     },
     "output_type": "display_data"
    }
   ],
   "source": [
    "erp[\"price\"].hist(bins=20)\n",
    "plt.title(\"Histogramme des prix\")\n",
    "plt.xlabel(\"Prix\")\n",
    "plt.ylabel(\"Count\")\n",
    "plt.show()"
   ]
  },
  {
   "cell_type": "code",
   "execution_count": 9,
   "id": "9dd1ae81",
   "metadata": {},
   "outputs": [
    {
     "data": {
      "text/plain": [
       "717"
      ]
     },
     "execution_count": 9,
     "metadata": {},
     "output_type": "execute_result"
    }
   ],
   "source": [
    "sum(erp[\"onsale_web\"]==1)"
   ]
  },
  {
   "cell_type": "code",
   "execution_count": 10,
   "id": "c2e8cf26",
   "metadata": {},
   "outputs": [
    {
     "data": {
      "text/plain": [
       "108"
      ]
     },
     "execution_count": 10,
     "metadata": {},
     "output_type": "execute_result"
    }
   ],
   "source": [
    "sum(erp[\"onsale_web\"]==0)"
   ]
  },
  {
   "cell_type": "markdown",
   "id": "affae1ba",
   "metadata": {},
   "source": [
    "Sur 825 produits, 717 (86.9%) sont vendus en ligne et 108 (13.1%) ne sont pas vendus en ligne."
   ]
  },
  {
   "cell_type": "code",
   "execution_count": 11,
   "id": "1da6898f",
   "metadata": {},
   "outputs": [
    {
     "data": {
      "image/png": "[encoded data removed]",
      "text/plain": [
       "<Figure size 432x288 with 1 Axes>"
      ]
     },
     "metadata": {},
     "output_type": "display_data"
    }
   ],
   "source": [
    "labs = [\"Vendus en ligne\", \"Non vendus en ligne\"]\n",
    "plt.pie(erp[\"onsale_web\"].value_counts(normalize=True), labels=labs, autopct='%1.1f%%')\n",
    "plt.axis('equal')\n",
    "plt.title(\"Pourcentage de produits vendus en ligne\")\n",
    "plt.show()"
   ]
  },
  {
   "cell_type": "code",
   "execution_count": 12,
   "id": "02f87db8",
   "metadata": {},
   "outputs": [
    {
     "data": {
      "text/plain": [
       "(32.73654114365413, 30.28518518518519)"
      ]
     },
     "execution_count": 12,
     "metadata": {},
     "output_type": "execute_result"
    }
   ],
   "source": [
    "erp['price'][erp['onsale_web'] == 1].mean(), erp['price'][erp['onsale_web'] == 0].mean()"
   ]
  },
  {
   "cell_type": "code",
   "execution_count": 13,
   "id": "b702ef00",
   "metadata": {},
   "outputs": [
    {
     "data": {
      "text/plain": [
       "Ttest_indResult(statistic=0.8861898206819775, pvalue=0.37577411260593163)"
      ]
     },
     "execution_count": 13,
     "metadata": {},
     "output_type": "execute_result"
    }
   ],
   "source": [
    "import scipy.stats as stats\n",
    "stats.ttest_ind(erp['price'][erp['onsale_web'] == 1], erp['price'][erp['onsale_web'] == 0])"
   ]
  },
  {
   "cell_type": "markdown",
   "id": "9f00ff4d",
   "metadata": {},
   "source": [
    "Le prix moyen des produits vendus en ligne est de 32.74€ et le prix moyen des produits non vendus en ligne est de 30.29€. \n",
    "\n",
    "En utilisant le t-test, je trouve que la différence de prix n'est pas statistiquement significative."
   ]
  },
  {
   "cell_type": "code",
   "execution_count": 14,
   "id": "a8c11b58",
   "metadata": {},
   "outputs": [
    {
     "data": {
      "image/png": "[encoded data removed]",
      "text/plain": [
       "<Figure size 432x288 with 1 Axes>"
      ]
     },
     "metadata": {
      "needs_background": "light"
     },
     "output_type": "display_data"
    },
    {
     "data": {
      "image/png": "[encoded data removed]",
      "text/plain": [
       "<Figure size 432x288 with 1 Axes>"
      ]
     },
     "metadata": {
      "needs_background": "light"
     },
     "output_type": "display_data"
    }
   ],
   "source": [
    "erp[erp[\"onsale_web\"]==1][\"price\"].hist(density=True, bins=20)\n",
    "plt.title(\"Histogramme des prix des produits vendus en ligne\")\n",
    "plt.xlabel(\"Prix\")\n",
    "plt.ylabel(\"La fréquence\")\n",
    "plt.show()\n",
    "\n",
    "erp[erp[\"onsale_web\"]==0][\"price\"].hist(density=True, bins=20)\n",
    "plt.title(\"Histogramme des prix des produits non vendus en ligne\")\n",
    "plt.xlabel(\"Prix\")\n",
    "plt.ylabel(\"La fréquence\")\n",
    "plt.show()"
   ]
  },
  {
   "cell_type": "code",
   "execution_count": 15,
   "id": "f7886eac",
   "metadata": {},
   "outputs": [
    {
     "data": {
      "image/png": "[encoded data removed]",
      "text/plain": [
       "<Figure size 864x288 with 1 Axes>"
      ]
     },
     "metadata": {
      "needs_background": "light"
     },
     "output_type": "display_data"
    }
   ],
   "source": [
    "erp[\"sold_online\"] = erp[\"onsale_web\"].replace({0:\"Non\", 1:\"Oui\"})\n",
    "\n",
    "plt.figure(figsize=(12,4))\n",
    "\n",
    "sns.boxplot(x=\"price\", y=\"sold_online\", orient=\"h\", data=erp)\n",
    "plt.title(\"Boîte à moustaches des prix des produits regroupés selon qu'ils sont vendus en ligne ou non\")\n",
    "plt.xlabel(\"Prix\")\n",
    "plt.ylabel(\"Vendus on ligne\")\n",
    "\n",
    "plt.show()"
   ]
  },
  {
   "cell_type": "markdown",
   "id": "b262f673",
   "metadata": {},
   "source": [
    "Sur les histogrammes et boîtes à moustaches ci-dessus on peut voir que la distribution des prix des produits est différente pour les produits vendus en ligne et les produits non vendus en ligne. Cependant, cette différence n'est pas statistiquement significative."
   ]
  },
  {
   "cell_type": "markdown",
   "id": "3c4c6f3f",
   "metadata": {},
   "source": [
    "## Data *liaison*"
   ]
  },
  {
   "cell_type": "code",
   "execution_count": 16,
   "id": "bdb8f202",
   "metadata": {},
   "outputs": [
    {
     "data": {
      "text/html": [
       "<div>\n",
       "<style scoped>\n",
       "    .dataframe tbody tr th:only-of-type {\n",
       "        vertical-align: middle;\n",
       "    }\n",
       "\n",
       "    .dataframe tbody tr th {\n",
       "        vertical-align: top;\n",
       "    }\n",
       "\n",
       "    .dataframe thead th {\n",
       "        text-align: right;\n",
       "    }\n",
       "</style>\n",
       "<table border=\"1\" class=\"dataframe\">\n",
       "  <thead>\n",
       "    <tr style=\"text-align: right;\">\n",
       "      <th></th>\n",
       "      <th>product_id</th>\n",
       "      <th>id_web</th>\n",
       "    </tr>\n",
       "  </thead>\n",
       "  <tbody>\n",
       "    <tr>\n",
       "      <th>0</th>\n",
       "      <td>3847</td>\n",
       "      <td>15298</td>\n",
       "    </tr>\n",
       "    <tr>\n",
       "      <th>1</th>\n",
       "      <td>3849</td>\n",
       "      <td>15296</td>\n",
       "    </tr>\n",
       "    <tr>\n",
       "      <th>2</th>\n",
       "      <td>3850</td>\n",
       "      <td>15300</td>\n",
       "    </tr>\n",
       "    <tr>\n",
       "      <th>3</th>\n",
       "      <td>4032</td>\n",
       "      <td>19814</td>\n",
       "    </tr>\n",
       "    <tr>\n",
       "      <th>4</th>\n",
       "      <td>4039</td>\n",
       "      <td>19815</td>\n",
       "    </tr>\n",
       "  </tbody>\n",
       "</table>\n",
       "</div>"
      ],
      "text/plain": [
       "   product_id id_web\n",
       "0        3847  15298\n",
       "1        3849  15296\n",
       "2        3850  15300\n",
       "3        4032  19814\n",
       "4        4039  19815"
      ]
     },
     "execution_count": 16,
     "metadata": {},
     "output_type": "execute_result"
    }
   ],
   "source": [
    "liaison.head()"
   ]
  },
  {
   "cell_type": "code",
   "execution_count": 17,
   "id": "dacef022",
   "metadata": {},
   "outputs": [
    {
     "data": {
      "text/plain": [
       "825"
      ]
     },
     "execution_count": 17,
     "metadata": {},
     "output_type": "execute_result"
    }
   ],
   "source": [
    "len(liaison)"
   ]
  },
  {
   "cell_type": "code",
   "execution_count": 18,
   "id": "2c932668",
   "metadata": {},
   "outputs": [
    {
     "data": {
      "text/plain": [
       "product_id     0\n",
       "id_web        91\n",
       "dtype: int64"
      ]
     },
     "execution_count": 18,
     "metadata": {},
     "output_type": "execute_result"
    }
   ],
   "source": [
    "liaison.isnull().sum()"
   ]
  },
  {
   "cell_type": "code",
   "execution_count": 19,
   "id": "23a5615a",
   "metadata": {},
   "outputs": [
    {
     "data": {
      "text/html": [
       "<div>\n",
       "<style scoped>\n",
       "    .dataframe tbody tr th:only-of-type {\n",
       "        vertical-align: middle;\n",
       "    }\n",
       "\n",
       "    .dataframe tbody tr th {\n",
       "        vertical-align: top;\n",
       "    }\n",
       "\n",
       "    .dataframe thead th {\n",
       "        text-align: right;\n",
       "    }\n",
       "</style>\n",
       "<table border=\"1\" class=\"dataframe\">\n",
       "  <thead>\n",
       "    <tr style=\"text-align: right;\">\n",
       "      <th></th>\n",
       "      <th>product_id</th>\n",
       "      <th>id_web</th>\n",
       "    </tr>\n",
       "  </thead>\n",
       "  <tbody>\n",
       "  </tbody>\n",
       "</table>\n",
       "</div>"
      ],
      "text/plain": [
       "Empty DataFrame\n",
       "Columns: [product_id, id_web]\n",
       "Index: []"
      ]
     },
     "execution_count": 19,
     "metadata": {},
     "output_type": "execute_result"
    }
   ],
   "source": [
    "liaison[liaison.duplicated()]"
   ]
  },
  {
   "cell_type": "code",
   "execution_count": 20,
   "id": "19ff7cff",
   "metadata": {},
   "outputs": [],
   "source": [
    "liaison = liaison.rename(columns={'id_web': 'sku'})"
   ]
  },
  {
   "cell_type": "markdown",
   "id": "0dd93d6b",
   "metadata": {},
   "source": [
    "Le tableau *liaison*, qui sert comme le lien entre *product_id* et *sku*, a 825 lignes et 2 colonnes. Il y a 91 produits qui n'ont pas de *sku*."
   ]
  },
  {
   "cell_type": "markdown",
   "id": "cfbde8ff",
   "metadata": {},
   "source": [
    "Maintenant je vais créer un nouveau tableau en fusionnant *erp* et *liaison*. Puisque je n'ai besoin que d'informations sur les ventes en ligne, je supprimerai les observations où le sku est manquant."
   ]
  },
  {
   "cell_type": "code",
   "execution_count": 21,
   "id": "a800e717",
   "metadata": {},
   "outputs": [],
   "source": [
    "web_wine = pd.merge(erp, liaison, how=\"left\", on=\"product_id\") "
   ]
  },
  {
   "cell_type": "code",
   "execution_count": 22,
   "id": "f13d9c17",
   "metadata": {},
   "outputs": [],
   "source": [
    "web_wine = web_wine[~web_wine[\"sku\"].isnull()]"
   ]
  },
  {
   "cell_type": "code",
   "execution_count": 23,
   "id": "7acf2486",
   "metadata": {},
   "outputs": [
    {
     "data": {
      "text/html": [
       "<div>\n",
       "<style scoped>\n",
       "    .dataframe tbody tr th:only-of-type {\n",
       "        vertical-align: middle;\n",
       "    }\n",
       "\n",
       "    .dataframe tbody tr th {\n",
       "        vertical-align: top;\n",
       "    }\n",
       "\n",
       "    .dataframe thead th {\n",
       "        text-align: right;\n",
       "    }\n",
       "</style>\n",
       "<table border=\"1\" class=\"dataframe\">\n",
       "  <thead>\n",
       "    <tr style=\"text-align: right;\">\n",
       "      <th></th>\n",
       "      <th>product_id</th>\n",
       "      <th>onsale_web</th>\n",
       "      <th>price</th>\n",
       "      <th>stock_quantity</th>\n",
       "      <th>stock_status</th>\n",
       "      <th>sold_online</th>\n",
       "      <th>sku</th>\n",
       "    </tr>\n",
       "  </thead>\n",
       "  <tbody>\n",
       "    <tr>\n",
       "      <th>0</th>\n",
       "      <td>3847</td>\n",
       "      <td>1</td>\n",
       "      <td>24.2</td>\n",
       "      <td>0</td>\n",
       "      <td>outofstock</td>\n",
       "      <td>Oui</td>\n",
       "      <td>15298</td>\n",
       "    </tr>\n",
       "    <tr>\n",
       "      <th>1</th>\n",
       "      <td>3849</td>\n",
       "      <td>1</td>\n",
       "      <td>34.3</td>\n",
       "      <td>0</td>\n",
       "      <td>outofstock</td>\n",
       "      <td>Oui</td>\n",
       "      <td>15296</td>\n",
       "    </tr>\n",
       "    <tr>\n",
       "      <th>2</th>\n",
       "      <td>3850</td>\n",
       "      <td>1</td>\n",
       "      <td>20.8</td>\n",
       "      <td>0</td>\n",
       "      <td>outofstock</td>\n",
       "      <td>Oui</td>\n",
       "      <td>15300</td>\n",
       "    </tr>\n",
       "    <tr>\n",
       "      <th>3</th>\n",
       "      <td>4032</td>\n",
       "      <td>1</td>\n",
       "      <td>14.1</td>\n",
       "      <td>0</td>\n",
       "      <td>outofstock</td>\n",
       "      <td>Oui</td>\n",
       "      <td>19814</td>\n",
       "    </tr>\n",
       "    <tr>\n",
       "      <th>4</th>\n",
       "      <td>4039</td>\n",
       "      <td>1</td>\n",
       "      <td>46.0</td>\n",
       "      <td>0</td>\n",
       "      <td>outofstock</td>\n",
       "      <td>Oui</td>\n",
       "      <td>19815</td>\n",
       "    </tr>\n",
       "  </tbody>\n",
       "</table>\n",
       "</div>"
      ],
      "text/plain": [
       "   product_id  onsale_web  price  stock_quantity stock_status sold_online  \\\n",
       "0        3847           1   24.2               0   outofstock         Oui   \n",
       "1        3849           1   34.3               0   outofstock         Oui   \n",
       "2        3850           1   20.8               0   outofstock         Oui   \n",
       "3        4032           1   14.1               0   outofstock         Oui   \n",
       "4        4039           1   46.0               0   outofstock         Oui   \n",
       "\n",
       "     sku  \n",
       "0  15298  \n",
       "1  15296  \n",
       "2  15300  \n",
       "3  19814  \n",
       "4  19815  "
      ]
     },
     "execution_count": 23,
     "metadata": {},
     "output_type": "execute_result"
    }
   ],
   "source": [
    "web_wine.head()"
   ]
  },
  {
   "cell_type": "markdown",
   "id": "675a929b",
   "metadata": {},
   "source": [
    "## Data *web*"
   ]
  },
  {
   "cell_type": "code",
   "execution_count": 24,
   "id": "cdc2f0a4",
   "metadata": {},
   "outputs": [
    {
     "data": {
      "text/html": [
       "<div>\n",
       "<style scoped>\n",
       "    .dataframe tbody tr th:only-of-type {\n",
       "        vertical-align: middle;\n",
       "    }\n",
       "\n",
       "    .dataframe tbody tr th {\n",
       "        vertical-align: top;\n",
       "    }\n",
       "\n",
       "    .dataframe thead th {\n",
       "        text-align: right;\n",
       "    }\n",
       "</style>\n",
       "<table border=\"1\" class=\"dataframe\">\n",
       "  <thead>\n",
       "    <tr style=\"text-align: right;\">\n",
       "      <th></th>\n",
       "      <th>sku</th>\n",
       "      <th>virtual</th>\n",
       "      <th>downloadable</th>\n",
       "      <th>rating_count</th>\n",
       "      <th>average_rating</th>\n",
       "      <th>total_sales</th>\n",
       "      <th>tax_status</th>\n",
       "      <th>tax_class</th>\n",
       "      <th>post_author</th>\n",
       "      <th>post_date</th>\n",
       "      <th>...</th>\n",
       "      <th>post_name</th>\n",
       "      <th>post_modified</th>\n",
       "      <th>post_modified_gmt</th>\n",
       "      <th>post_content_filtered</th>\n",
       "      <th>post_parent</th>\n",
       "      <th>guid</th>\n",
       "      <th>menu_order</th>\n",
       "      <th>post_type</th>\n",
       "      <th>post_mime_type</th>\n",
       "      <th>comment_count</th>\n",
       "    </tr>\n",
       "  </thead>\n",
       "  <tbody>\n",
       "    <tr>\n",
       "      <th>0</th>\n",
       "      <td>38</td>\n",
       "      <td>0</td>\n",
       "      <td>0</td>\n",
       "      <td>0</td>\n",
       "      <td>0.0</td>\n",
       "      <td>38.0</td>\n",
       "      <td>taxable</td>\n",
       "      <td>NaN</td>\n",
       "      <td>2.0</td>\n",
       "      <td>2018-04-18 12:25:58</td>\n",
       "      <td>...</td>\n",
       "      <td>emile-boeckel-cremant-brut-blanc-de-blancs</td>\n",
       "      <td>2020-08-27 17:15:03</td>\n",
       "      <td>2020-08-27 15:15:03</td>\n",
       "      <td>NaN</td>\n",
       "      <td>0.0</td>\n",
       "      <td>https://www.bottle-neck.fr/?post_type=product&amp;...</td>\n",
       "      <td>0.0</td>\n",
       "      <td>product</td>\n",
       "      <td>NaN</td>\n",
       "      <td>0.0</td>\n",
       "    </tr>\n",
       "    <tr>\n",
       "      <th>1</th>\n",
       "      <td>38</td>\n",
       "      <td>0</td>\n",
       "      <td>0</td>\n",
       "      <td>0</td>\n",
       "      <td>0.0</td>\n",
       "      <td>38.0</td>\n",
       "      <td>NaN</td>\n",
       "      <td>NaN</td>\n",
       "      <td>2.0</td>\n",
       "      <td>2018-04-18 12:25:58</td>\n",
       "      <td>...</td>\n",
       "      <td>emile-boeckel-cremant-brut-blanc-de-blancs</td>\n",
       "      <td>2020-08-27 17:15:03</td>\n",
       "      <td>2020-08-27 15:15:03</td>\n",
       "      <td>NaN</td>\n",
       "      <td>0.0</td>\n",
       "      <td>https://www.bottle-neck.fr/wp-content/uploads/...</td>\n",
       "      <td>0.0</td>\n",
       "      <td>attachment</td>\n",
       "      <td>image/jpeg</td>\n",
       "      <td>0.0</td>\n",
       "    </tr>\n",
       "    <tr>\n",
       "      <th>2</th>\n",
       "      <td>41</td>\n",
       "      <td>0</td>\n",
       "      <td>0</td>\n",
       "      <td>0</td>\n",
       "      <td>0.0</td>\n",
       "      <td>0.0</td>\n",
       "      <td>taxable</td>\n",
       "      <td>NaN</td>\n",
       "      <td>2.0</td>\n",
       "      <td>2018-04-14 12:01:43</td>\n",
       "      <td>...</td>\n",
       "      <td>marcel-windholtz-eau-de-marc-de-gewurztraminer</td>\n",
       "      <td>2020-08-03 10:25:02</td>\n",
       "      <td>2020-08-03 08:25:02</td>\n",
       "      <td>NaN</td>\n",
       "      <td>0.0</td>\n",
       "      <td>https://www.bottle-neck.fr/?post_type=product&amp;...</td>\n",
       "      <td>0.0</td>\n",
       "      <td>product</td>\n",
       "      <td>NaN</td>\n",
       "      <td>0.0</td>\n",
       "    </tr>\n",
       "    <tr>\n",
       "      <th>3</th>\n",
       "      <td>41</td>\n",
       "      <td>0</td>\n",
       "      <td>0</td>\n",
       "      <td>0</td>\n",
       "      <td>0.0</td>\n",
       "      <td>0.0</td>\n",
       "      <td>NaN</td>\n",
       "      <td>NaN</td>\n",
       "      <td>2.0</td>\n",
       "      <td>2018-04-14 12:01:43</td>\n",
       "      <td>...</td>\n",
       "      <td>marcel-windholtz-eau-de-marc-de-gewurztraminer</td>\n",
       "      <td>2020-08-03 10:25:02</td>\n",
       "      <td>2020-08-03 08:25:02</td>\n",
       "      <td>NaN</td>\n",
       "      <td>0.0</td>\n",
       "      <td>https://www.bottle-neck.fr/wp-content/uploads/...</td>\n",
       "      <td>0.0</td>\n",
       "      <td>attachment</td>\n",
       "      <td>image/jpeg</td>\n",
       "      <td>0.0</td>\n",
       "    </tr>\n",
       "    <tr>\n",
       "      <th>4</th>\n",
       "      <td>304</td>\n",
       "      <td>0</td>\n",
       "      <td>0</td>\n",
       "      <td>0</td>\n",
       "      <td>0.0</td>\n",
       "      <td>40.0</td>\n",
       "      <td>taxable</td>\n",
       "      <td>NaN</td>\n",
       "      <td>2.0</td>\n",
       "      <td>2018-02-13 12:57:44</td>\n",
       "      <td>...</td>\n",
       "      <td>gosset-champagne-grande-reserve</td>\n",
       "      <td>2020-08-27 11:25:02</td>\n",
       "      <td>2020-08-27 09:25:02</td>\n",
       "      <td>NaN</td>\n",
       "      <td>0.0</td>\n",
       "      <td>https://www.bottle-neck.fr/?post_type=product&amp;...</td>\n",
       "      <td>0.0</td>\n",
       "      <td>product</td>\n",
       "      <td>NaN</td>\n",
       "      <td>0.0</td>\n",
       "    </tr>\n",
       "  </tbody>\n",
       "</table>\n",
       "<p>5 rows × 28 columns</p>\n",
       "</div>"
      ],
      "text/plain": [
       "   sku  virtual  downloadable  rating_count  average_rating  total_sales  \\\n",
       "0   38        0             0             0             0.0         38.0   \n",
       "1   38        0             0             0             0.0         38.0   \n",
       "2   41        0             0             0             0.0          0.0   \n",
       "3   41        0             0             0             0.0          0.0   \n",
       "4  304        0             0             0             0.0         40.0   \n",
       "\n",
       "  tax_status  tax_class  post_author           post_date  ...  \\\n",
       "0    taxable        NaN          2.0 2018-04-18 12:25:58  ...   \n",
       "1        NaN        NaN          2.0 2018-04-18 12:25:58  ...   \n",
       "2    taxable        NaN          2.0 2018-04-14 12:01:43  ...   \n",
       "3        NaN        NaN          2.0 2018-04-14 12:01:43  ...   \n",
       "4    taxable        NaN          2.0 2018-02-13 12:57:44  ...   \n",
       "\n",
       "                                        post_name       post_modified  \\\n",
       "0      emile-boeckel-cremant-brut-blanc-de-blancs 2020-08-27 17:15:03   \n",
       "1      emile-boeckel-cremant-brut-blanc-de-blancs 2020-08-27 17:15:03   \n",
       "2  marcel-windholtz-eau-de-marc-de-gewurztraminer 2020-08-03 10:25:02   \n",
       "3  marcel-windholtz-eau-de-marc-de-gewurztraminer 2020-08-03 10:25:02   \n",
       "4                 gosset-champagne-grande-reserve 2020-08-27 11:25:02   \n",
       "\n",
       "    post_modified_gmt post_content_filtered post_parent  \\\n",
       "0 2020-08-27 15:15:03                   NaN         0.0   \n",
       "1 2020-08-27 15:15:03                   NaN         0.0   \n",
       "2 2020-08-03 08:25:02                   NaN         0.0   \n",
       "3 2020-08-03 08:25:02                   NaN         0.0   \n",
       "4 2020-08-27 09:25:02                   NaN         0.0   \n",
       "\n",
       "                                                guid menu_order   post_type  \\\n",
       "0  https://www.bottle-neck.fr/?post_type=product&...        0.0     product   \n",
       "1  https://www.bottle-neck.fr/wp-content/uploads/...        0.0  attachment   \n",
       "2  https://www.bottle-neck.fr/?post_type=product&...        0.0     product   \n",
       "3  https://www.bottle-neck.fr/wp-content/uploads/...        0.0  attachment   \n",
       "4  https://www.bottle-neck.fr/?post_type=product&...        0.0     product   \n",
       "\n",
       "  post_mime_type comment_count  \n",
       "0            NaN           0.0  \n",
       "1     image/jpeg           0.0  \n",
       "2            NaN           0.0  \n",
       "3     image/jpeg           0.0  \n",
       "4            NaN           0.0  \n",
       "\n",
       "[5 rows x 28 columns]"
      ]
     },
     "execution_count": 24,
     "metadata": {},
     "output_type": "execute_result"
    }
   ],
   "source": [
    "web.head()"
   ]
  },
  {
   "cell_type": "code",
   "execution_count": 25,
   "id": "8b22c30b",
   "metadata": {},
   "outputs": [
    {
     "data": {
      "text/plain": [
       "1513"
      ]
     },
     "execution_count": 25,
     "metadata": {},
     "output_type": "execute_result"
    }
   ],
   "source": [
    "len(web)"
   ]
  },
  {
   "cell_type": "code",
   "execution_count": 26,
   "id": "1a814f21",
   "metadata": {},
   "outputs": [
    {
     "data": {
      "text/plain": [
       "sku                        85\n",
       "virtual                     0\n",
       "downloadable                0\n",
       "rating_count                0\n",
       "average_rating             83\n",
       "total_sales                83\n",
       "tax_status                797\n",
       "tax_class                1513\n",
       "post_author                83\n",
       "post_date                  83\n",
       "post_date_gmt              83\n",
       "post_content             1513\n",
       "post_title                 83\n",
       "post_excerpt              797\n",
       "post_status                83\n",
       "comment_status             83\n",
       "ping_status                83\n",
       "post_password            1513\n",
       "post_name                  83\n",
       "post_modified              83\n",
       "post_modified_gmt          83\n",
       "post_content_filtered    1513\n",
       "post_parent                83\n",
       "guid                       83\n",
       "menu_order                 83\n",
       "post_type                  83\n",
       "post_mime_type            799\n",
       "comment_count              83\n",
       "dtype: int64"
      ]
     },
     "execution_count": 26,
     "metadata": {},
     "output_type": "execute_result"
    }
   ],
   "source": [
    "web.isnull().sum()"
   ]
  },
  {
   "cell_type": "markdown",
   "id": "a6d9122d",
   "metadata": {},
   "source": [
    "Le tableau *web* a 1 513 observations et 28 colonnes. Je dois nettoyer ce tableux le fusionner avec le tableux *erp*."
   ]
  },
  {
   "cell_type": "markdown",
   "id": "10e04f4b",
   "metadata": {},
   "source": [
    "Je peux éliminer les observations avec *sku* manquant.\n",
    "\n",
    "Je peux éliminer les colonnes où toutes les valeurs sont manquantes (*classe de taxe, post_content, post password, post_content filtered*)."
   ]
  },
  {
   "cell_type": "code",
   "execution_count": 27,
   "id": "eeb399dd",
   "metadata": {},
   "outputs": [],
   "source": [
    "web = web[~web[\"sku\"].isnull()]\n",
    "web = web.drop(columns=[\"tax_class\", \"post_content\", \"post_password\",  \"post_content_filtered\" ])"
   ]
  },
  {
   "cell_type": "code",
   "execution_count": 28,
   "id": "db2183a9",
   "metadata": {},
   "outputs": [
    {
     "data": {
      "text/html": [
       "<div>\n",
       "<style scoped>\n",
       "    .dataframe tbody tr th:only-of-type {\n",
       "        vertical-align: middle;\n",
       "    }\n",
       "\n",
       "    .dataframe tbody tr th {\n",
       "        vertical-align: top;\n",
       "    }\n",
       "\n",
       "    .dataframe thead th {\n",
       "        text-align: right;\n",
       "    }\n",
       "</style>\n",
       "<table border=\"1\" class=\"dataframe\">\n",
       "  <thead>\n",
       "    <tr style=\"text-align: right;\">\n",
       "      <th></th>\n",
       "      <th>virtual</th>\n",
       "      <th>downloadable</th>\n",
       "      <th>rating_count</th>\n",
       "      <th>average_rating</th>\n",
       "      <th>total_sales</th>\n",
       "      <th>post_author</th>\n",
       "      <th>post_parent</th>\n",
       "      <th>menu_order</th>\n",
       "      <th>comment_count</th>\n",
       "    </tr>\n",
       "  </thead>\n",
       "  <tbody>\n",
       "    <tr>\n",
       "      <th>count</th>\n",
       "      <td>1428.0</td>\n",
       "      <td>1428.0</td>\n",
       "      <td>1428.0</td>\n",
       "      <td>1428.0</td>\n",
       "      <td>1428.000000</td>\n",
       "      <td>1428.000000</td>\n",
       "      <td>1428.0</td>\n",
       "      <td>1428.0</td>\n",
       "      <td>1428.0</td>\n",
       "    </tr>\n",
       "    <tr>\n",
       "      <th>mean</th>\n",
       "      <td>0.0</td>\n",
       "      <td>0.0</td>\n",
       "      <td>0.0</td>\n",
       "      <td>0.0</td>\n",
       "      <td>4.012605</td>\n",
       "      <td>1.998599</td>\n",
       "      <td>0.0</td>\n",
       "      <td>0.0</td>\n",
       "      <td>0.0</td>\n",
       "    </tr>\n",
       "    <tr>\n",
       "      <th>std</th>\n",
       "      <td>0.0</td>\n",
       "      <td>0.0</td>\n",
       "      <td>0.0</td>\n",
       "      <td>0.0</td>\n",
       "      <td>8.515198</td>\n",
       "      <td>0.037411</td>\n",
       "      <td>0.0</td>\n",
       "      <td>0.0</td>\n",
       "      <td>0.0</td>\n",
       "    </tr>\n",
       "    <tr>\n",
       "      <th>min</th>\n",
       "      <td>0.0</td>\n",
       "      <td>0.0</td>\n",
       "      <td>0.0</td>\n",
       "      <td>0.0</td>\n",
       "      <td>0.000000</td>\n",
       "      <td>1.000000</td>\n",
       "      <td>0.0</td>\n",
       "      <td>0.0</td>\n",
       "      <td>0.0</td>\n",
       "    </tr>\n",
       "    <tr>\n",
       "      <th>25%</th>\n",
       "      <td>0.0</td>\n",
       "      <td>0.0</td>\n",
       "      <td>0.0</td>\n",
       "      <td>0.0</td>\n",
       "      <td>0.000000</td>\n",
       "      <td>2.000000</td>\n",
       "      <td>0.0</td>\n",
       "      <td>0.0</td>\n",
       "      <td>0.0</td>\n",
       "    </tr>\n",
       "    <tr>\n",
       "      <th>50%</th>\n",
       "      <td>0.0</td>\n",
       "      <td>0.0</td>\n",
       "      <td>0.0</td>\n",
       "      <td>0.0</td>\n",
       "      <td>1.000000</td>\n",
       "      <td>2.000000</td>\n",
       "      <td>0.0</td>\n",
       "      <td>0.0</td>\n",
       "      <td>0.0</td>\n",
       "    </tr>\n",
       "    <tr>\n",
       "      <th>75%</th>\n",
       "      <td>0.0</td>\n",
       "      <td>0.0</td>\n",
       "      <td>0.0</td>\n",
       "      <td>0.0</td>\n",
       "      <td>4.000000</td>\n",
       "      <td>2.000000</td>\n",
       "      <td>0.0</td>\n",
       "      <td>0.0</td>\n",
       "      <td>0.0</td>\n",
       "    </tr>\n",
       "    <tr>\n",
       "      <th>max</th>\n",
       "      <td>0.0</td>\n",
       "      <td>0.0</td>\n",
       "      <td>0.0</td>\n",
       "      <td>0.0</td>\n",
       "      <td>96.000000</td>\n",
       "      <td>2.000000</td>\n",
       "      <td>0.0</td>\n",
       "      <td>0.0</td>\n",
       "      <td>0.0</td>\n",
       "    </tr>\n",
       "  </tbody>\n",
       "</table>\n",
       "</div>"
      ],
      "text/plain": [
       "       virtual  downloadable  rating_count  average_rating  total_sales  \\\n",
       "count   1428.0        1428.0        1428.0          1428.0  1428.000000   \n",
       "mean       0.0           0.0           0.0             0.0     4.012605   \n",
       "std        0.0           0.0           0.0             0.0     8.515198   \n",
       "min        0.0           0.0           0.0             0.0     0.000000   \n",
       "25%        0.0           0.0           0.0             0.0     0.000000   \n",
       "50%        0.0           0.0           0.0             0.0     1.000000   \n",
       "75%        0.0           0.0           0.0             0.0     4.000000   \n",
       "max        0.0           0.0           0.0             0.0    96.000000   \n",
       "\n",
       "       post_author  post_parent  menu_order  comment_count  \n",
       "count  1428.000000       1428.0      1428.0         1428.0  \n",
       "mean      1.998599          0.0         0.0            0.0  \n",
       "std       0.037411          0.0         0.0            0.0  \n",
       "min       1.000000          0.0         0.0            0.0  \n",
       "25%       2.000000          0.0         0.0            0.0  \n",
       "50%       2.000000          0.0         0.0            0.0  \n",
       "75%       2.000000          0.0         0.0            0.0  \n",
       "max       2.000000          0.0         0.0            0.0  "
      ]
     },
     "execution_count": 28,
     "metadata": {},
     "output_type": "execute_result"
    }
   ],
   "source": [
    "web.describe()"
   ]
  },
  {
   "cell_type": "code",
   "execution_count": 29,
   "id": "c290e9ae",
   "metadata": {},
   "outputs": [
    {
     "data": {
      "text/plain": [
       "(array([0], dtype=int64),\n",
       " array([0], dtype=int64),\n",
       " array([0], dtype=int64),\n",
       " array([0.]),\n",
       " array([0.]),\n",
       " array([0.]),\n",
       " array([0.]))"
      ]
     },
     "execution_count": 29,
     "metadata": {},
     "output_type": "execute_result"
    }
   ],
   "source": [
    "web[\"virtual\"].unique(), web[\"downloadable\"].unique(), web[\"rating_count\"].unique(), web[\"average_rating\"].unique(), web[\"post_parent\"].unique(), web[\"menu_order\"].unique(), web[\"comment_count\"].unique(),  "
   ]
  },
  {
   "cell_type": "markdown",
   "id": "df76376b",
   "metadata": {},
   "source": [
    "Il y a plusieurs colonnes où toutes les valeurs sont égales à zéro - je peux les éliminer."
   ]
  },
  {
   "cell_type": "code",
   "execution_count": 30,
   "id": "32cf9427",
   "metadata": {},
   "outputs": [],
   "source": [
    "web = web.drop(columns=[\"virtual\", \"downloadable\", \"rating_count\",  \"average_rating\", \"post_parent\", \"menu_order\", \"comment_count\"])"
   ]
  },
  {
   "cell_type": "code",
   "execution_count": 31,
   "id": "5227ac30",
   "metadata": {},
   "outputs": [
    {
     "data": {
      "text/plain": [
       "714"
      ]
     },
     "execution_count": 31,
     "metadata": {},
     "output_type": "execute_result"
    }
   ],
   "source": [
    "web[{\"sku\", \"total_sales\", \"post_author\", \"post_date\", \"post_title\", \"post_name\", \"post_modified\"}].duplicated().sum()"
   ]
  },
  {
   "cell_type": "code",
   "execution_count": 32,
   "id": "f0cffa1f",
   "metadata": {},
   "outputs": [
    {
     "data": {
      "text/plain": [
       "count    714.0\n",
       "mean       2.0\n",
       "std        0.0\n",
       "min        2.0\n",
       "25%        2.0\n",
       "50%        2.0\n",
       "75%        2.0\n",
       "max        2.0\n",
       "Name: sku, dtype: float64"
      ]
     },
     "execution_count": 32,
     "metadata": {},
     "output_type": "execute_result"
    }
   ],
   "source": [
    "web[\"sku\"].value_counts().describe()"
   ]
  },
  {
   "cell_type": "markdown",
   "id": "c3a8fef7",
   "metadata": {},
   "source": [
    "Chaque *sku* vient exactement deux fois (mean=2, std=0). Seules les différentes colonnes sont *tax_status*, *post_excerpt*, *guid*, *post_type* et *post_mime_type*.\n",
    "\n",
    "Dans la colonne *guid* il y a des liens vers des sites Web : un vers le produit et un autre vers la pièce jointe (image). \n",
    "\n",
    "Lorsque *post_type = \"produit\"*, *tax_status = \"taxable\"*. \n",
    "\n",
    "Lorsque *post_type = \"attachement\"*, *tax_status = NaN* et *post_mime_type = \"image\"*. Toutes les autres valeurs sont ou identiques ou manquantes.\n",
    "\n",
    "Je vais prendre toutes les colonnes avec des doublons, supprimer les doublons, et créer deux tableaux avec un *sku* unique. \n",
    "\n",
    "*web1* contient toutes les données sauf le lien vers *attachment*, et *web2* contient le *sku* et les liens vers *attachment (image)*.\n",
    "\n",
    "\n",
    "Puis je fusionne deux tableaux."
   ]
  },
  {
   "cell_type": "code",
   "execution_count": 33,
   "id": "dfe0b5ed",
   "metadata": {},
   "outputs": [],
   "source": [
    "web1 = web[web[\"post_type\"]==\"product\"].rename(columns={\"guid\":\"product\"})"
   ]
  },
  {
   "cell_type": "code",
   "execution_count": 34,
   "id": "ec549ce0",
   "metadata": {},
   "outputs": [],
   "source": [
    "web2 = web[web[\"post_type\"]==\"attachment\"]\n",
    "web2 = web2[{\"sku\", \"guid\"}].rename(columns={\"guid\":\"image\"})"
   ]
  },
  {
   "cell_type": "code",
   "execution_count": 35,
   "id": "d8e7792c",
   "metadata": {},
   "outputs": [],
   "source": [
    "web_data = pd.merge(web1, web2, how=\"left\", on=\"sku\" ).drop(columns=[\"post_mime_type\", \"post_type\"])"
   ]
  },
  {
   "cell_type": "markdown",
   "id": "48df9704",
   "metadata": {},
   "source": [
    "Enfin, je fusionne les tableux *erp*, *liaison* et *web* pour obtenir *web_wine*, et je ne garde que les produits vendus en ligne."
   ]
  },
  {
   "cell_type": "code",
   "execution_count": 36,
   "id": "0542ec4d",
   "metadata": {},
   "outputs": [],
   "source": [
    "web_wine = pd.merge(web_wine, web_data, how=\"inner\", on=\"sku\")"
   ]
  },
  {
   "cell_type": "code",
   "execution_count": 37,
   "id": "f9a101eb",
   "metadata": {},
   "outputs": [],
   "source": [
    "web_wine.head();"
   ]
  },
  {
   "cell_type": "code",
   "execution_count": 38,
   "id": "0a97aa8b",
   "metadata": {},
   "outputs": [
    {
     "name": "stdout",
     "output_type": "stream",
     "text": [
      "product_id\n",
      "onsale_web\n",
      "price\n",
      "stock_quantity\n",
      "stock_status\n",
      "sold_online\n",
      "sku\n",
      "total_sales\n",
      "tax_status\n",
      "post_author\n",
      "post_date\n",
      "post_date_gmt\n",
      "post_title\n",
      "post_excerpt\n",
      "post_status\n",
      "comment_status\n",
      "ping_status\n",
      "post_name\n",
      "post_modified\n",
      "post_modified_gmt\n",
      "product\n",
      "image\n"
     ]
    }
   ],
   "source": [
    "for col in web_wine.columns:\n",
    "    print(col)"
   ]
  },
  {
   "cell_type": "code",
   "execution_count": 39,
   "id": "56849fcb",
   "metadata": {},
   "outputs": [
    {
     "data": {
      "text/plain": [
       "714"
      ]
     },
     "execution_count": 39,
     "metadata": {},
     "output_type": "execute_result"
    }
   ],
   "source": [
    "len(web_wine)"
   ]
  },
  {
   "cell_type": "markdown",
   "id": "683a7080",
   "metadata": {},
   "source": [
    "*web_wine* est le tableau final avec les données propres et les informations complètes sur les 714 produits vendus en ligne. "
   ]
  },
  {
   "cell_type": "code",
   "execution_count": 40,
   "id": "93292aae",
   "metadata": {},
   "outputs": [
    {
     "data": {
      "text/html": [
       "<div>\n",
       "<style scoped>\n",
       "    .dataframe tbody tr th:only-of-type {\n",
       "        vertical-align: middle;\n",
       "    }\n",
       "\n",
       "    .dataframe tbody tr th {\n",
       "        vertical-align: top;\n",
       "    }\n",
       "\n",
       "    .dataframe thead th {\n",
       "        text-align: right;\n",
       "    }\n",
       "</style>\n",
       "<table border=\"1\" class=\"dataframe\">\n",
       "  <thead>\n",
       "    <tr style=\"text-align: right;\">\n",
       "      <th></th>\n",
       "      <th>product_id</th>\n",
       "      <th>onsale_web</th>\n",
       "      <th>price</th>\n",
       "      <th>stock_quantity</th>\n",
       "      <th>stock_status</th>\n",
       "      <th>sold_online</th>\n",
       "      <th>sku</th>\n",
       "      <th>total_sales</th>\n",
       "      <th>tax_status</th>\n",
       "      <th>post_author</th>\n",
       "      <th>...</th>\n",
       "      <th>post_title</th>\n",
       "      <th>post_excerpt</th>\n",
       "      <th>post_status</th>\n",
       "      <th>comment_status</th>\n",
       "      <th>ping_status</th>\n",
       "      <th>post_name</th>\n",
       "      <th>post_modified</th>\n",
       "      <th>post_modified_gmt</th>\n",
       "      <th>product</th>\n",
       "      <th>image</th>\n",
       "    </tr>\n",
       "  </thead>\n",
       "  <tbody>\n",
       "    <tr>\n",
       "      <th>0</th>\n",
       "      <td>3847</td>\n",
       "      <td>1</td>\n",
       "      <td>24.2</td>\n",
       "      <td>0</td>\n",
       "      <td>outofstock</td>\n",
       "      <td>Oui</td>\n",
       "      <td>15298</td>\n",
       "      <td>6.0</td>\n",
       "      <td>taxable</td>\n",
       "      <td>2.0</td>\n",
       "      <td>...</td>\n",
       "      <td>Pierre Jean Villa Saint-Joseph Préface 2018</td>\n",
       "      <td>Il exhale un nez subtil, racé avec du poivre f...</td>\n",
       "      <td>publish</td>\n",
       "      <td>closed</td>\n",
       "      <td>closed</td>\n",
       "      <td>pierre-jean-villa-saint-joseph-preface-2018</td>\n",
       "      <td>2019-12-30 09:30:29</td>\n",
       "      <td>2019-12-30 08:30:29</td>\n",
       "      <td>https://www.bottle-neck.fr/?post_type=product&amp;...</td>\n",
       "      <td>https://www.bottle-neck.fr/wp-content/uploads/...</td>\n",
       "    </tr>\n",
       "    <tr>\n",
       "      <th>1</th>\n",
       "      <td>3849</td>\n",
       "      <td>1</td>\n",
       "      <td>34.3</td>\n",
       "      <td>0</td>\n",
       "      <td>outofstock</td>\n",
       "      <td>Oui</td>\n",
       "      <td>15296</td>\n",
       "      <td>0.0</td>\n",
       "      <td>taxable</td>\n",
       "      <td>2.0</td>\n",
       "      <td>...</td>\n",
       "      <td>Pierre Jean Villa Saint-Joseph Rouge Tildé 2017</td>\n",
       "      <td>Les vieilles vignes lui apportent une rare pro...</td>\n",
       "      <td>publish</td>\n",
       "      <td>closed</td>\n",
       "      <td>closed</td>\n",
       "      <td>pierre-jean-villa-saint-joseph-tilde-2017</td>\n",
       "      <td>2019-12-21 09:00:17</td>\n",
       "      <td>2019-12-21 08:00:17</td>\n",
       "      <td>https://www.bottle-neck.fr/?post_type=product&amp;...</td>\n",
       "      <td>https://www.bottle-neck.fr/wp-content/uploads/...</td>\n",
       "    </tr>\n",
       "    <tr>\n",
       "      <th>2</th>\n",
       "      <td>3850</td>\n",
       "      <td>1</td>\n",
       "      <td>20.8</td>\n",
       "      <td>0</td>\n",
       "      <td>outofstock</td>\n",
       "      <td>Oui</td>\n",
       "      <td>15300</td>\n",
       "      <td>0.0</td>\n",
       "      <td>taxable</td>\n",
       "      <td>2.0</td>\n",
       "      <td>...</td>\n",
       "      <td>Pierre Jean Villa Crozes-Hermitage Accroche Co...</td>\n",
       "      <td>Dentelle de fruit de jeunes syrah, aux tanins ...</td>\n",
       "      <td>publish</td>\n",
       "      <td>closed</td>\n",
       "      <td>closed</td>\n",
       "      <td>pierre-jean-villa-croze-hermitage-accroche-coe...</td>\n",
       "      <td>2020-06-26 18:15:03</td>\n",
       "      <td>2020-06-26 16:15:03</td>\n",
       "      <td>https://www.bottle-neck.fr/?post_type=product&amp;...</td>\n",
       "      <td>https://www.bottle-neck.fr/wp-content/uploads/...</td>\n",
       "    </tr>\n",
       "    <tr>\n",
       "      <th>3</th>\n",
       "      <td>4032</td>\n",
       "      <td>1</td>\n",
       "      <td>14.1</td>\n",
       "      <td>0</td>\n",
       "      <td>outofstock</td>\n",
       "      <td>Oui</td>\n",
       "      <td>19814</td>\n",
       "      <td>3.0</td>\n",
       "      <td>taxable</td>\n",
       "      <td>2.0</td>\n",
       "      <td>...</td>\n",
       "      <td>Pierre Jean Villa IGP Collines Rhodaniennes Ga...</td>\n",
       "      <td>Gamine représente tout le fruité et la gourman...</td>\n",
       "      <td>publish</td>\n",
       "      <td>closed</td>\n",
       "      <td>closed</td>\n",
       "      <td>pierre-jean-villa-igp-gamine-2018</td>\n",
       "      <td>2020-01-04 16:36:01</td>\n",
       "      <td>2020-01-04 15:36:01</td>\n",
       "      <td>https://www.bottle-neck.fr/?post_type=product&amp;...</td>\n",
       "      <td>https://www.bottle-neck.fr/wp-content/uploads/...</td>\n",
       "    </tr>\n",
       "    <tr>\n",
       "      <th>4</th>\n",
       "      <td>4039</td>\n",
       "      <td>1</td>\n",
       "      <td>46.0</td>\n",
       "      <td>0</td>\n",
       "      <td>outofstock</td>\n",
       "      <td>Oui</td>\n",
       "      <td>19815</td>\n",
       "      <td>0.0</td>\n",
       "      <td>taxable</td>\n",
       "      <td>2.0</td>\n",
       "      <td>...</td>\n",
       "      <td>Pierre Jean Villa Côte Rôtie Carmina 2017</td>\n",
       "      <td>Le côte rôtie Carmina monte en puissance mais ...</td>\n",
       "      <td>publish</td>\n",
       "      <td>closed</td>\n",
       "      <td>closed</td>\n",
       "      <td>pierre-jean-villa-cote-rotie-carmina-2017</td>\n",
       "      <td>2020-01-04 16:36:10</td>\n",
       "      <td>2020-01-04 15:36:10</td>\n",
       "      <td>https://www.bottle-neck.fr/?post_type=product&amp;...</td>\n",
       "      <td>https://www.bottle-neck.fr/wp-content/uploads/...</td>\n",
       "    </tr>\n",
       "  </tbody>\n",
       "</table>\n",
       "<p>5 rows × 22 columns</p>\n",
       "</div>"
      ],
      "text/plain": [
       "   product_id  onsale_web  price  stock_quantity stock_status sold_online  \\\n",
       "0        3847           1   24.2               0   outofstock         Oui   \n",
       "1        3849           1   34.3               0   outofstock         Oui   \n",
       "2        3850           1   20.8               0   outofstock         Oui   \n",
       "3        4032           1   14.1               0   outofstock         Oui   \n",
       "4        4039           1   46.0               0   outofstock         Oui   \n",
       "\n",
       "     sku  total_sales tax_status  post_author  ...  \\\n",
       "0  15298          6.0    taxable          2.0  ...   \n",
       "1  15296          0.0    taxable          2.0  ...   \n",
       "2  15300          0.0    taxable          2.0  ...   \n",
       "3  19814          3.0    taxable          2.0  ...   \n",
       "4  19815          0.0    taxable          2.0  ...   \n",
       "\n",
       "                                          post_title  \\\n",
       "0        Pierre Jean Villa Saint-Joseph Préface 2018   \n",
       "1    Pierre Jean Villa Saint-Joseph Rouge Tildé 2017   \n",
       "2  Pierre Jean Villa Crozes-Hermitage Accroche Co...   \n",
       "3  Pierre Jean Villa IGP Collines Rhodaniennes Ga...   \n",
       "4          Pierre Jean Villa Côte Rôtie Carmina 2017   \n",
       "\n",
       "                                        post_excerpt post_status  \\\n",
       "0  Il exhale un nez subtil, racé avec du poivre f...     publish   \n",
       "1  Les vieilles vignes lui apportent une rare pro...     publish   \n",
       "2  Dentelle de fruit de jeunes syrah, aux tanins ...     publish   \n",
       "3  Gamine représente tout le fruité et la gourman...     publish   \n",
       "4  Le côte rôtie Carmina monte en puissance mais ...     publish   \n",
       "\n",
       "  comment_status ping_status  \\\n",
       "0         closed      closed   \n",
       "1         closed      closed   \n",
       "2         closed      closed   \n",
       "3         closed      closed   \n",
       "4         closed      closed   \n",
       "\n",
       "                                           post_name       post_modified  \\\n",
       "0        pierre-jean-villa-saint-joseph-preface-2018 2019-12-30 09:30:29   \n",
       "1          pierre-jean-villa-saint-joseph-tilde-2017 2019-12-21 09:00:17   \n",
       "2  pierre-jean-villa-croze-hermitage-accroche-coe... 2020-06-26 18:15:03   \n",
       "3                  pierre-jean-villa-igp-gamine-2018 2020-01-04 16:36:01   \n",
       "4          pierre-jean-villa-cote-rotie-carmina-2017 2020-01-04 16:36:10   \n",
       "\n",
       "    post_modified_gmt                                            product  \\\n",
       "0 2019-12-30 08:30:29  https://www.bottle-neck.fr/?post_type=product&...   \n",
       "1 2019-12-21 08:00:17  https://www.bottle-neck.fr/?post_type=product&...   \n",
       "2 2020-06-26 16:15:03  https://www.bottle-neck.fr/?post_type=product&...   \n",
       "3 2020-01-04 15:36:01  https://www.bottle-neck.fr/?post_type=product&...   \n",
       "4 2020-01-04 15:36:10  https://www.bottle-neck.fr/?post_type=product&...   \n",
       "\n",
       "                                               image  \n",
       "0  https://www.bottle-neck.fr/wp-content/uploads/...  \n",
       "1  https://www.bottle-neck.fr/wp-content/uploads/...  \n",
       "2  https://www.bottle-neck.fr/wp-content/uploads/...  \n",
       "3  https://www.bottle-neck.fr/wp-content/uploads/...  \n",
       "4  https://www.bottle-neck.fr/wp-content/uploads/...  \n",
       "\n",
       "[5 rows x 22 columns]"
      ]
     },
     "execution_count": 40,
     "metadata": {},
     "output_type": "execute_result"
    }
   ],
   "source": [
    "web_wine.head()"
   ]
  },
  {
   "cell_type": "markdown",
   "id": "6487ad70",
   "metadata": {},
   "source": [
    "## 2. Analysis"
   ]
  },
  {
   "cell_type": "markdown",
   "id": "8c596e72",
   "metadata": {},
   "source": [
    "Pour les besoins de l'analyse, je ne prendrai que les colonnes nécessaires de *web_wine*."
   ]
  },
  {
   "cell_type": "code",
   "execution_count": 41,
   "id": "da6aa387",
   "metadata": {},
   "outputs": [],
   "source": [
    "data = web_wine.drop(columns=[\"onsale_web\", \"sold_online\", \"tax_status\", \"post_author\", \"post_status\", \"comment_status\", \"ping_status\", \"post_date_gmt\", \"post_modified\", \"product\", \"image\"])"
   ]
  },
  {
   "cell_type": "code",
   "execution_count": 42,
   "id": "0b2cb4bf",
   "metadata": {},
   "outputs": [
    {
     "data": {
      "text/html": [
       "<div>\n",
       "<style scoped>\n",
       "    .dataframe tbody tr th:only-of-type {\n",
       "        vertical-align: middle;\n",
       "    }\n",
       "\n",
       "    .dataframe tbody tr th {\n",
       "        vertical-align: top;\n",
       "    }\n",
       "\n",
       "    .dataframe thead th {\n",
       "        text-align: right;\n",
       "    }\n",
       "</style>\n",
       "<table border=\"1\" class=\"dataframe\">\n",
       "  <thead>\n",
       "    <tr style=\"text-align: right;\">\n",
       "      <th></th>\n",
       "      <th>product_id</th>\n",
       "      <th>price</th>\n",
       "      <th>stock_quantity</th>\n",
       "      <th>stock_status</th>\n",
       "      <th>sku</th>\n",
       "      <th>total_sales</th>\n",
       "      <th>post_date</th>\n",
       "      <th>post_title</th>\n",
       "      <th>post_excerpt</th>\n",
       "      <th>post_name</th>\n",
       "      <th>post_modified_gmt</th>\n",
       "    </tr>\n",
       "  </thead>\n",
       "  <tbody>\n",
       "    <tr>\n",
       "      <th>0</th>\n",
       "      <td>3847</td>\n",
       "      <td>24.2</td>\n",
       "      <td>0</td>\n",
       "      <td>outofstock</td>\n",
       "      <td>15298</td>\n",
       "      <td>6.0</td>\n",
       "      <td>2018-02-08 12:58:52</td>\n",
       "      <td>Pierre Jean Villa Saint-Joseph Préface 2018</td>\n",
       "      <td>Il exhale un nez subtil, racé avec du poivre f...</td>\n",
       "      <td>pierre-jean-villa-saint-joseph-preface-2018</td>\n",
       "      <td>2019-12-30 08:30:29</td>\n",
       "    </tr>\n",
       "    <tr>\n",
       "      <th>1</th>\n",
       "      <td>3849</td>\n",
       "      <td>34.3</td>\n",
       "      <td>0</td>\n",
       "      <td>outofstock</td>\n",
       "      <td>15296</td>\n",
       "      <td>0.0</td>\n",
       "      <td>2018-02-08 13:49:41</td>\n",
       "      <td>Pierre Jean Villa Saint-Joseph Rouge Tildé 2017</td>\n",
       "      <td>Les vieilles vignes lui apportent une rare pro...</td>\n",
       "      <td>pierre-jean-villa-saint-joseph-tilde-2017</td>\n",
       "      <td>2019-12-21 08:00:17</td>\n",
       "    </tr>\n",
       "    <tr>\n",
       "      <th>2</th>\n",
       "      <td>3850</td>\n",
       "      <td>20.8</td>\n",
       "      <td>0</td>\n",
       "      <td>outofstock</td>\n",
       "      <td>15300</td>\n",
       "      <td>0.0</td>\n",
       "      <td>2018-02-08 14:08:36</td>\n",
       "      <td>Pierre Jean Villa Crozes-Hermitage Accroche Co...</td>\n",
       "      <td>Dentelle de fruit de jeunes syrah, aux tanins ...</td>\n",
       "      <td>pierre-jean-villa-croze-hermitage-accroche-coe...</td>\n",
       "      <td>2020-06-26 16:15:03</td>\n",
       "    </tr>\n",
       "    <tr>\n",
       "      <th>3</th>\n",
       "      <td>4032</td>\n",
       "      <td>14.1</td>\n",
       "      <td>0</td>\n",
       "      <td>outofstock</td>\n",
       "      <td>19814</td>\n",
       "      <td>3.0</td>\n",
       "      <td>2018-02-09 14:01:05</td>\n",
       "      <td>Pierre Jean Villa IGP Collines Rhodaniennes Ga...</td>\n",
       "      <td>Gamine représente tout le fruité et la gourman...</td>\n",
       "      <td>pierre-jean-villa-igp-gamine-2018</td>\n",
       "      <td>2020-01-04 15:36:01</td>\n",
       "    </tr>\n",
       "    <tr>\n",
       "      <th>4</th>\n",
       "      <td>4039</td>\n",
       "      <td>46.0</td>\n",
       "      <td>0</td>\n",
       "      <td>outofstock</td>\n",
       "      <td>19815</td>\n",
       "      <td>0.0</td>\n",
       "      <td>2018-02-12 09:04:37</td>\n",
       "      <td>Pierre Jean Villa Côte Rôtie Carmina 2017</td>\n",
       "      <td>Le côte rôtie Carmina monte en puissance mais ...</td>\n",
       "      <td>pierre-jean-villa-cote-rotie-carmina-2017</td>\n",
       "      <td>2020-01-04 15:36:10</td>\n",
       "    </tr>\n",
       "  </tbody>\n",
       "</table>\n",
       "</div>"
      ],
      "text/plain": [
       "   product_id  price  stock_quantity stock_status    sku  total_sales  \\\n",
       "0        3847   24.2               0   outofstock  15298          6.0   \n",
       "1        3849   34.3               0   outofstock  15296          0.0   \n",
       "2        3850   20.8               0   outofstock  15300          0.0   \n",
       "3        4032   14.1               0   outofstock  19814          3.0   \n",
       "4        4039   46.0               0   outofstock  19815          0.0   \n",
       "\n",
       "            post_date                                         post_title  \\\n",
       "0 2018-02-08 12:58:52        Pierre Jean Villa Saint-Joseph Préface 2018   \n",
       "1 2018-02-08 13:49:41    Pierre Jean Villa Saint-Joseph Rouge Tildé 2017   \n",
       "2 2018-02-08 14:08:36  Pierre Jean Villa Crozes-Hermitage Accroche Co...   \n",
       "3 2018-02-09 14:01:05  Pierre Jean Villa IGP Collines Rhodaniennes Ga...   \n",
       "4 2018-02-12 09:04:37          Pierre Jean Villa Côte Rôtie Carmina 2017   \n",
       "\n",
       "                                        post_excerpt  \\\n",
       "0  Il exhale un nez subtil, racé avec du poivre f...   \n",
       "1  Les vieilles vignes lui apportent une rare pro...   \n",
       "2  Dentelle de fruit de jeunes syrah, aux tanins ...   \n",
       "3  Gamine représente tout le fruité et la gourman...   \n",
       "4  Le côte rôtie Carmina monte en puissance mais ...   \n",
       "\n",
       "                                           post_name   post_modified_gmt  \n",
       "0        pierre-jean-villa-saint-joseph-preface-2018 2019-12-30 08:30:29  \n",
       "1          pierre-jean-villa-saint-joseph-tilde-2017 2019-12-21 08:00:17  \n",
       "2  pierre-jean-villa-croze-hermitage-accroche-coe... 2020-06-26 16:15:03  \n",
       "3                  pierre-jean-villa-igp-gamine-2018 2020-01-04 15:36:01  \n",
       "4          pierre-jean-villa-cote-rotie-carmina-2017 2020-01-04 15:36:10  "
      ]
     },
     "execution_count": 42,
     "metadata": {},
     "output_type": "execute_result"
    }
   ],
   "source": [
    "data.head()"
   ]
  },
  {
   "cell_type": "code",
   "execution_count": 43,
   "id": "85fef006",
   "metadata": {},
   "outputs": [
    {
     "name": "stdout",
     "output_type": "stream",
     "text": [
      "product_id\n",
      "price\n",
      "stock_quantity\n",
      "stock_status\n",
      "sku\n",
      "total_sales\n",
      "post_date\n",
      "post_title\n",
      "post_excerpt\n",
      "post_name\n",
      "post_modified_gmt\n"
     ]
    }
   ],
   "source": [
    "for col in data.columns:\n",
    "    print(col)"
   ]
  },
  {
   "cell_type": "code",
   "execution_count": 44,
   "id": "82b4682e",
   "metadata": {},
   "outputs": [
    {
     "data": {
      "image/png": "[encoded data removed]",
      "text/plain": [
       "<Figure size 432x288 with 1 Axes>"
      ]
     },
     "metadata": {
      "needs_background": "light"
     },
     "output_type": "display_data"
    }
   ],
   "source": [
    "sns.histplot(data=data, x=\"price\")\n",
    "plt.title(\"Histogramme des prix\")\n",
    "plt.xlabel(\"Prix\")\n",
    "\n",
    "plt.show()"
   ]
  },
  {
   "cell_type": "code",
   "execution_count": 45,
   "id": "537b6903",
   "metadata": {},
   "outputs": [],
   "source": [
    "data[\"total_amount\"] = data[\"price\"]*data[\"total_sales\"]"
   ]
  },
  {
   "cell_type": "code",
   "execution_count": 46,
   "id": "cc60babd",
   "metadata": {},
   "outputs": [
    {
     "data": {
      "text/plain": [
       "(32.49313725490197, 4.012605042016807, 98.83557422969189)"
      ]
     },
     "execution_count": 46,
     "metadata": {},
     "output_type": "execute_result"
    }
   ],
   "source": [
    "data[\"price\"].mean(), data[\"total_sales\"].mean(), data[\"total_amount\"].mean()"
   ]
  },
  {
   "cell_type": "markdown",
   "id": "a4fbe32e",
   "metadata": {},
   "source": [
    "Le prix moyen des produits vendus en ligne est de 32.49€, le nombre moyen de ventes est de 4 par produit, et le revenu moyen est de 98.84€ par produit. "
   ]
  },
  {
   "cell_type": "markdown",
   "id": "c50240aa",
   "metadata": {},
   "source": [
    "La liste des 10 produits qui ont généré le plus de CA:"
   ]
  },
  {
   "cell_type": "code",
   "execution_count": 47,
   "id": "718832b6",
   "metadata": {},
   "outputs": [
    {
     "data": {
      "text/html": [
       "<div>\n",
       "<style scoped>\n",
       "    .dataframe tbody tr th:only-of-type {\n",
       "        vertical-align: middle;\n",
       "    }\n",
       "\n",
       "    .dataframe tbody tr th {\n",
       "        vertical-align: top;\n",
       "    }\n",
       "\n",
       "    .dataframe thead th {\n",
       "        text-align: right;\n",
       "    }\n",
       "</style>\n",
       "<table border=\"1\" class=\"dataframe\">\n",
       "  <thead>\n",
       "    <tr style=\"text-align: right;\">\n",
       "      <th></th>\n",
       "      <th>product_id</th>\n",
       "      <th>post_title</th>\n",
       "      <th>price</th>\n",
       "      <th>total_sales</th>\n",
       "      <th>total_amount</th>\n",
       "    </tr>\n",
       "  </thead>\n",
       "  <tbody>\n",
       "    <tr>\n",
       "      <th>194</th>\n",
       "      <td>4334</td>\n",
       "      <td>Champagne Gosset Grand Blanc de Blancs</td>\n",
       "      <td>49.0</td>\n",
       "      <td>96.0</td>\n",
       "      <td>4704.0</td>\n",
       "    </tr>\n",
       "    <tr>\n",
       "      <th>71</th>\n",
       "      <td>4144</td>\n",
       "      <td>Champagne Gosset Grand Rosé</td>\n",
       "      <td>49.0</td>\n",
       "      <td>87.0</td>\n",
       "      <td>4263.0</td>\n",
       "    </tr>\n",
       "    <tr>\n",
       "      <th>218</th>\n",
       "      <td>4402</td>\n",
       "      <td>Cognac Frapin VIP XO</td>\n",
       "      <td>176.0</td>\n",
       "      <td>13.0</td>\n",
       "      <td>2288.0</td>\n",
       "    </tr>\n",
       "    <tr>\n",
       "      <th>70</th>\n",
       "      <td>4142</td>\n",
       "      <td>Champagne Gosset Grand Millésime 2006</td>\n",
       "      <td>53.0</td>\n",
       "      <td>30.0</td>\n",
       "      <td>1590.0</td>\n",
       "    </tr>\n",
       "    <tr>\n",
       "      <th>69</th>\n",
       "      <td>4141</td>\n",
       "      <td>Champagne Gosset Grande Réserve</td>\n",
       "      <td>39.0</td>\n",
       "      <td>40.0</td>\n",
       "      <td>1560.0</td>\n",
       "    </tr>\n",
       "    <tr>\n",
       "      <th>201</th>\n",
       "      <td>4355</td>\n",
       "      <td>Champagne Egly-Ouriet Grand Cru Blanc de Noirs</td>\n",
       "      <td>126.5</td>\n",
       "      <td>11.0</td>\n",
       "      <td>1391.5</td>\n",
       "    </tr>\n",
       "    <tr>\n",
       "      <th>199</th>\n",
       "      <td>4352</td>\n",
       "      <td>Champagne Egly-Ouriet Grand Cru Millésimé 2008</td>\n",
       "      <td>225.0</td>\n",
       "      <td>5.0</td>\n",
       "      <td>1125.0</td>\n",
       "    </tr>\n",
       "    <tr>\n",
       "      <th>79</th>\n",
       "      <td>4153</td>\n",
       "      <td>Elian Daros Côtes du Marmandais Clos Baquey 2015</td>\n",
       "      <td>29.0</td>\n",
       "      <td>36.0</td>\n",
       "      <td>1044.0</td>\n",
       "    </tr>\n",
       "    <tr>\n",
       "      <th>651</th>\n",
       "      <td>6206</td>\n",
       "      <td>Domaine Giudicelli Patrimonio Blanc 2019</td>\n",
       "      <td>25.2</td>\n",
       "      <td>41.0</td>\n",
       "      <td>1033.2</td>\n",
       "    </tr>\n",
       "    <tr>\n",
       "      <th>30</th>\n",
       "      <td>4068</td>\n",
       "      <td>Gilles Robin Crozes-Hermitage Rouge Papillon 2019</td>\n",
       "      <td>16.6</td>\n",
       "      <td>62.0</td>\n",
       "      <td>1029.2</td>\n",
       "    </tr>\n",
       "  </tbody>\n",
       "</table>\n",
       "</div>"
      ],
      "text/plain": [
       "     product_id                                         post_title  price  \\\n",
       "194        4334             Champagne Gosset Grand Blanc de Blancs   49.0   \n",
       "71         4144                        Champagne Gosset Grand Rosé   49.0   \n",
       "218        4402                               Cognac Frapin VIP XO  176.0   \n",
       "70         4142              Champagne Gosset Grand Millésime 2006   53.0   \n",
       "69         4141                    Champagne Gosset Grande Réserve   39.0   \n",
       "201        4355     Champagne Egly-Ouriet Grand Cru Blanc de Noirs  126.5   \n",
       "199        4352     Champagne Egly-Ouriet Grand Cru Millésimé 2008  225.0   \n",
       "79         4153   Elian Daros Côtes du Marmandais Clos Baquey 2015   29.0   \n",
       "651        6206           Domaine Giudicelli Patrimonio Blanc 2019   25.2   \n",
       "30         4068  Gilles Robin Crozes-Hermitage Rouge Papillon 2019   16.6   \n",
       "\n",
       "     total_sales  total_amount  \n",
       "194         96.0        4704.0  \n",
       "71          87.0        4263.0  \n",
       "218         13.0        2288.0  \n",
       "70          30.0        1590.0  \n",
       "69          40.0        1560.0  \n",
       "201         11.0        1391.5  \n",
       "199          5.0        1125.0  \n",
       "79          36.0        1044.0  \n",
       "651         41.0        1033.2  \n",
       "30          62.0        1029.2  "
      ]
     },
     "execution_count": 47,
     "metadata": {},
     "output_type": "execute_result"
    }
   ],
   "source": [
    "data[[\"product_id\",\"post_title\", \"price\", \"total_sales\", \"total_amount\"]].sort_values(by=\"total_amount\", ascending=False)[0:10]"
   ]
  },
  {
   "cell_type": "code",
   "execution_count": 48,
   "id": "369a7d66",
   "metadata": {},
   "outputs": [
    {
     "data": {
      "text/plain": [
       "Timestamp('2018-02-08 12:58:52')"
      ]
     },
     "execution_count": 48,
     "metadata": {},
     "output_type": "execute_result"
    }
   ],
   "source": [
    "data[\"post_date\"].min()"
   ]
  },
  {
   "cell_type": "code",
   "execution_count": 49,
   "id": "a608b28e",
   "metadata": {},
   "outputs": [
    {
     "data": {
      "text/plain": [
       "70568.6"
      ]
     },
     "execution_count": 49,
     "metadata": {},
     "output_type": "execute_result"
    }
   ],
   "source": [
    "data[\"total_amount\"].sum()"
   ]
  },
  {
   "cell_type": "code",
   "execution_count": 50,
   "id": "31ffd6f0",
   "metadata": {},
   "outputs": [
    {
     "data": {
      "text/plain": [
       "2865.0"
      ]
     },
     "execution_count": 50,
     "metadata": {},
     "output_type": "execute_result"
    }
   ],
   "source": [
    "data[\"total_sales\"].sum()"
   ]
  },
  {
   "cell_type": "markdown",
   "id": "92c9deac",
   "metadata": {},
   "source": [
    "Depuis février 2018, la boutique **BottleNeck** a vendu 2 865 produits pour une valeur totale de 70 568.60 €."
   ]
  },
  {
   "cell_type": "markdown",
   "id": "c8cc2171",
   "metadata": {},
   "source": [
    "Je vais créer une fonction *category* qui regroupe les prix en 4 catégories (bas, moyen bas, moyen haut, haut). "
   ]
  },
  {
   "cell_type": "code",
   "execution_count": 51,
   "id": "9b57babc",
   "metadata": {},
   "outputs": [],
   "source": [
    "def category(x):\n",
    "    if x<=20.0:\n",
    "        return \"Bas\"\n",
    "    elif (x>20.0 and x<=50):\n",
    "        return \"Moyen bas\"\n",
    "    elif (x>50.0 and x<=80):\n",
    "        return \"Moyen haut\" \n",
    "    else:\n",
    "        return \"Haut\"\n",
    "\n",
    "data[\"category\"] = data[\"price\"].apply(category)"
   ]
  },
  {
   "cell_type": "code",
   "execution_count": 52,
   "id": "6b095599",
   "metadata": {},
   "outputs": [],
   "source": [
    "price = pd.pivot_table(data, values={\"total_sales\", \"total_amount\"}, index=\"category\", aggfunc=np.sum )"
   ]
  },
  {
   "cell_type": "code",
   "execution_count": 53,
   "id": "5f7e308c",
   "metadata": {},
   "outputs": [],
   "source": [
    "price[\"perc_amount\"] = 100*price[\"total_amount\"]/(data[\"total_amount\"].sum())\n",
    "price[\"perc_sales\"] = 100*price[\"total_sales\"]/(data[\"total_sales\"].sum())\n",
    "price[\"price_range\"] = [ \"<20€\", \">80€\", \"20-50€\", \"50-80€\"]"
   ]
  },
  {
   "cell_type": "code",
   "execution_count": 54,
   "id": "a4b65b89",
   "metadata": {},
   "outputs": [
    {
     "data": {
      "text/html": [
       "<div>\n",
       "<style scoped>\n",
       "    .dataframe tbody tr th:only-of-type {\n",
       "        vertical-align: middle;\n",
       "    }\n",
       "\n",
       "    .dataframe tbody tr th {\n",
       "        vertical-align: top;\n",
       "    }\n",
       "\n",
       "    .dataframe thead th {\n",
       "        text-align: right;\n",
       "    }\n",
       "</style>\n",
       "<table border=\"1\" class=\"dataframe\">\n",
       "  <thead>\n",
       "    <tr style=\"text-align: right;\">\n",
       "      <th></th>\n",
       "      <th>total_amount</th>\n",
       "      <th>total_sales</th>\n",
       "      <th>perc_amount</th>\n",
       "      <th>perc_sales</th>\n",
       "      <th>price_range</th>\n",
       "    </tr>\n",
       "    <tr>\n",
       "      <th>category</th>\n",
       "      <th></th>\n",
       "      <th></th>\n",
       "      <th></th>\n",
       "      <th></th>\n",
       "      <th></th>\n",
       "    </tr>\n",
       "  </thead>\n",
       "  <tbody>\n",
       "    <tr>\n",
       "      <th>Bas</th>\n",
       "      <td>18340.5</td>\n",
       "      <td>1558.0</td>\n",
       "      <td>25.989604</td>\n",
       "      <td>54.380454</td>\n",
       "      <td>&lt;20€</td>\n",
       "    </tr>\n",
       "    <tr>\n",
       "      <th>Haut</th>\n",
       "      <td>6970.0</td>\n",
       "      <td>45.0</td>\n",
       "      <td>9.876914</td>\n",
       "      <td>1.570681</td>\n",
       "      <td>&gt;80€</td>\n",
       "    </tr>\n",
       "    <tr>\n",
       "      <th>Moyen bas</th>\n",
       "      <td>36972.3</td>\n",
       "      <td>1124.0</td>\n",
       "      <td>52.391999</td>\n",
       "      <td>39.232112</td>\n",
       "      <td>20-50€</td>\n",
       "    </tr>\n",
       "    <tr>\n",
       "      <th>Moyen haut</th>\n",
       "      <td>8285.8</td>\n",
       "      <td>138.0</td>\n",
       "      <td>11.741483</td>\n",
       "      <td>4.816754</td>\n",
       "      <td>50-80€</td>\n",
       "    </tr>\n",
       "  </tbody>\n",
       "</table>\n",
       "</div>"
      ],
      "text/plain": [
       "            total_amount  total_sales  perc_amount  perc_sales price_range\n",
       "category                                                                  \n",
       "Bas              18340.5       1558.0    25.989604   54.380454        <20€\n",
       "Haut              6970.0         45.0     9.876914    1.570681        >80€\n",
       "Moyen bas        36972.3       1124.0    52.391999   39.232112      20-50€\n",
       "Moyen haut        8285.8        138.0    11.741483    4.816754      50-80€"
      ]
     },
     "execution_count": 54,
     "metadata": {},
     "output_type": "execute_result"
    }
   ],
   "source": [
    "price"
   ]
  },
  {
   "cell_type": "markdown",
   "id": "f3d7b28c",
   "metadata": {},
   "source": [
    "Dans le tableau ci-dessus, nous pouvons voir que le vin d'un prix *moyen bas* a généré le plus de CA, tandis que le vin de prix bas a eu le plus grand nombre de ventes."
   ]
  },
  {
   "cell_type": "code",
   "execution_count": 55,
   "id": "369512c1",
   "metadata": {},
   "outputs": [
    {
     "data": {
      "image/png": "[encoded data removed]",
      "text/plain": [
       "<Figure size 504x504 with 1 Axes>"
      ]
     },
     "metadata": {},
     "output_type": "display_data"
    }
   ],
   "source": [
    "price_group = data.groupby(\"category\")[\"total_sales\"].sum()\n",
    "pie, ax = plt.subplots(figsize=[7,7])\n",
    "price_group.plot.pie(autopct=\"%.1f%%\", explode=[0.05]*4, pctdistance=0.5)\n",
    "plt.title(\"Le nombre de ventes selon la catégorie de prix\")\n",
    "plt.ylabel(\"\")\n",
    "plt.show()"
   ]
  },
  {
   "cell_type": "code",
   "execution_count": 56,
   "id": "ce4020a6",
   "metadata": {},
   "outputs": [
    {
     "data": {
      "image/png": "[encoded data removed]",
      "text/plain": [
       "<Figure size 504x504 with 1 Axes>"
      ]
     },
     "metadata": {},
     "output_type": "display_data"
    }
   ],
   "source": [
    "price_group = data.groupby(\"category\")[\"total_amount\"].sum()\n",
    "pie, ax = plt.subplots(figsize=[7,7])\n",
    "price_group.plot.pie(autopct=\"%.1f%%\", explode=[0.05]*4, pctdistance=0.5)\n",
    "plt.title(\"Montant total selon la catégorie de prix\")\n",
    "plt.ylabel(\"\")\n",
    "plt.show()"
   ]
  },
  {
   "cell_type": "code",
   "execution_count": 57,
   "id": "9d00b5db",
   "metadata": {},
   "outputs": [
    {
     "data": {
      "image/png": "[encoded data removed]",
      "text/plain": [
       "<Figure size 504x504 with 1 Axes>"
      ]
     },
     "metadata": {},
     "output_type": "display_data"
    }
   ],
   "source": [
    "price_group_amount = data.groupby(\"category\")[\"total_amount\"].sum()\n",
    "sns.set_theme(style=\"whitegrid\")\n",
    "pie, ax = plt.subplots(figsize=[7,7])\n",
    "price_group_amount.sort_values().plot.bar()\n",
    "plt.title(\"Montant total (en €) selon la catégorie de prix\")\n",
    "plt.xlabel(\"\")\n",
    "plt.show()"
   ]
  },
  {
   "cell_type": "code",
   "execution_count": 58,
   "id": "165088ee",
   "metadata": {},
   "outputs": [
    {
     "data": {
      "image/png": "[encoded data removed]",
      "text/plain": [
       "<Figure size 576x360 with 1 Axes>"
      ]
     },
     "metadata": {},
     "output_type": "display_data"
    }
   ],
   "source": [
    "plt.subplots(figsize=[8,5])\n",
    "sns.scatterplot(data=data, x=\"price\", y=\"total_sales\", s=50)\n",
    "plt.xlabel(\"Prix\")\n",
    "plt.ylabel(\"Nombre de ventes\")\n",
    "plt.title(\"La relation entre le prix et le nombre de ventes\")\n",
    "plt.show()"
   ]
  },
  {
   "cell_type": "code",
   "execution_count": 59,
   "id": "0c5e7810",
   "metadata": {},
   "outputs": [
    {
     "name": "stdout",
     "output_type": "stream",
     "text": [
      "La corrélation entre le prix et le nombre de ventes est -0.133.\n"
     ]
    }
   ],
   "source": [
    "print('La corrélation entre le prix et le nombre de ventes est %.3f.' % st.pearsonr(data[\"price\"], data[\"total_sales\"])[0])"
   ]
  },
  {
   "cell_type": "code",
   "execution_count": 60,
   "id": "a553f980",
   "metadata": {},
   "outputs": [],
   "source": [
    "data[\"stock_value\"] = data[\"price\"]*data[\"stock_quantity\"]"
   ]
  },
  {
   "cell_type": "code",
   "execution_count": 61,
   "id": "22f67f1b",
   "metadata": {},
   "outputs": [
    {
     "name": "stdout",
     "output_type": "stream",
     "text": [
      "La valeur totale de tous les produits vendus en ligne est de 458406.20€\n"
     ]
    }
   ],
   "source": [
    "print('La valeur totale de tous les produits vendus en ligne est de %.2f€' % (data[\"stock_value\"].sum() + data[\"total_amount\"].sum()))"
   ]
  },
  {
   "cell_type": "code",
   "execution_count": 62,
   "id": "30faa6f6",
   "metadata": {
    "scrolled": true
   },
   "outputs": [
    {
     "data": {
      "text/plain": [
       "15.394338034694997"
      ]
     },
     "execution_count": 62,
     "metadata": {},
     "output_type": "execute_result"
    }
   ],
   "source": [
    "data[\"quantity\"] = data[\"total_sales\"]+data[\"stock_quantity\"]\n",
    "100*data[\"total_amount\"].sum()/(data[\"price\"]*data[\"quantity\"]).sum()"
   ]
  },
  {
   "cell_type": "markdown",
   "id": "d3f21a43",
   "metadata": {},
   "source": [
    "Le chiffre d'affaires total ne représente que 15.4% de la valeur totale de tous les produits mis en vente sur le web."
   ]
  },
  {
   "cell_type": "code",
   "execution_count": 63,
   "id": "6703e066",
   "metadata": {},
   "outputs": [
    {
     "data": {
      "image/png": "[encoded data removed]",
      "text/plain": [
       "<Figure size 360x360 with 1 Axes>"
      ]
     },
     "metadata": {},
     "output_type": "display_data"
    }
   ],
   "source": [
    "totals = [data[\"total_amount\"].sum(), data[\"stock_value\"].sum()]\n",
    "labels = [\"Valeur totale des ventes\", \"Valeur totale du stock\"]\n",
    "pie, ax = plt.subplots(figsize=[5,5])\n",
    "plt.pie(totals, labels=labels, autopct='%.1f%%')\n",
    "plt.title(\"La proportion de la valeur totale des produits vendus et restés en stock\")\n",
    "plt.show()"
   ]
  },
  {
   "cell_type": "code",
   "execution_count": 64,
   "id": "b39af389",
   "metadata": {},
   "outputs": [
    {
     "data": {
      "text/plain": [
       "(2865.0, 23390.0)"
      ]
     },
     "execution_count": 64,
     "metadata": {},
     "output_type": "execute_result"
    }
   ],
   "source": [
    "data[\"total_sales\"].sum(), data[\"quantity\"].sum()"
   ]
  },
  {
   "cell_type": "code",
   "execution_count": 65,
   "id": "0de08642",
   "metadata": {},
   "outputs": [
    {
     "data": {
      "text/plain": [
       "12.248824283882001"
      ]
     },
     "execution_count": 65,
     "metadata": {},
     "output_type": "execute_result"
    }
   ],
   "source": [
    "data[\"total_sales_perc\"] = 100*data[\"total_sales\"]/data[\"quantity\"]\n",
    "100*data[\"total_sales\"].sum()/data[\"quantity\"].sum()"
   ]
  },
  {
   "cell_type": "markdown",
   "id": "8fbedab3",
   "metadata": {},
   "source": [
    "Du nombre total de produits mis en vente sur le web (23 390), seuls 12.25% sont vendus (2 865)."
   ]
  },
  {
   "cell_type": "code",
   "execution_count": 66,
   "id": "3df3f5e1",
   "metadata": {},
   "outputs": [
    {
     "data": {
      "image/png": "[encoded data removed]",
      "text/plain": [
       "<Figure size 360x360 with 1 Axes>"
      ]
     },
     "metadata": {},
     "output_type": "display_data"
    }
   ],
   "source": [
    "totals = [data[\"total_sales\"].sum(), data[\"stock_quantity\"].sum()]\n",
    "labels = [\"Quantité totale vendue\", \"Quantité totale en stock\"]\n",
    "pie, ax = plt.subplots(figsize=[5,5])\n",
    "plt.pie(totals, labels=labels, autopct='%.1f%%')\n",
    "plt.title(\"La proportion du nombre total de produits vendus et laissés en stock\")\n",
    "plt.show()"
   ]
  },
  {
   "cell_type": "code",
   "execution_count": 67,
   "id": "48b378da",
   "metadata": {},
   "outputs": [],
   "source": [
    "stock = pd.pivot_table(data, values={\"total_sales\", \"stock_quantity\", \"quantity\"}, index=\"category\", aggfunc=np.sum )"
   ]
  },
  {
   "cell_type": "code",
   "execution_count": 68,
   "id": "0d594bd6",
   "metadata": {
    "scrolled": true
   },
   "outputs": [
    {
     "data": {
      "text/html": [
       "<div>\n",
       "<style scoped>\n",
       "    .dataframe tbody tr th:only-of-type {\n",
       "        vertical-align: middle;\n",
       "    }\n",
       "\n",
       "    .dataframe tbody tr th {\n",
       "        vertical-align: top;\n",
       "    }\n",
       "\n",
       "    .dataframe thead th {\n",
       "        text-align: right;\n",
       "    }\n",
       "</style>\n",
       "<table border=\"1\" class=\"dataframe\">\n",
       "  <thead>\n",
       "    <tr style=\"text-align: right;\">\n",
       "      <th></th>\n",
       "      <th>quantity</th>\n",
       "      <th>stock_quantity</th>\n",
       "      <th>total_sales</th>\n",
       "      <th>perc_onstock</th>\n",
       "      <th>perc_sold</th>\n",
       "      <th>price_range</th>\n",
       "    </tr>\n",
       "    <tr>\n",
       "      <th>category</th>\n",
       "      <th></th>\n",
       "      <th></th>\n",
       "      <th></th>\n",
       "      <th></th>\n",
       "      <th></th>\n",
       "      <th></th>\n",
       "    </tr>\n",
       "  </thead>\n",
       "  <tbody>\n",
       "    <tr>\n",
       "      <th>Bas</th>\n",
       "      <td>16063.0</td>\n",
       "      <td>14505</td>\n",
       "      <td>1558.0</td>\n",
       "      <td>90.300691</td>\n",
       "      <td>9.699309</td>\n",
       "      <td>&lt;20€</td>\n",
       "    </tr>\n",
       "    <tr>\n",
       "      <th>Haut</th>\n",
       "      <td>308.0</td>\n",
       "      <td>263</td>\n",
       "      <td>45.0</td>\n",
       "      <td>85.389610</td>\n",
       "      <td>14.610390</td>\n",
       "      <td>&gt;80€</td>\n",
       "    </tr>\n",
       "    <tr>\n",
       "      <th>Moyen bas</th>\n",
       "      <td>6186.0</td>\n",
       "      <td>5062</td>\n",
       "      <td>1124.0</td>\n",
       "      <td>81.829939</td>\n",
       "      <td>18.170061</td>\n",
       "      <td>20-50€</td>\n",
       "    </tr>\n",
       "    <tr>\n",
       "      <th>Moyen haut</th>\n",
       "      <td>833.0</td>\n",
       "      <td>695</td>\n",
       "      <td>138.0</td>\n",
       "      <td>83.433373</td>\n",
       "      <td>16.566627</td>\n",
       "      <td>50-80€</td>\n",
       "    </tr>\n",
       "  </tbody>\n",
       "</table>\n",
       "</div>"
      ],
      "text/plain": [
       "            quantity  stock_quantity  total_sales  perc_onstock  perc_sold  \\\n",
       "category                                                                     \n",
       "Bas          16063.0           14505       1558.0     90.300691   9.699309   \n",
       "Haut           308.0             263         45.0     85.389610  14.610390   \n",
       "Moyen bas     6186.0            5062       1124.0     81.829939  18.170061   \n",
       "Moyen haut     833.0             695        138.0     83.433373  16.566627   \n",
       "\n",
       "           price_range  \n",
       "category                \n",
       "Bas               <20€  \n",
       "Haut              >80€  \n",
       "Moyen bas       20-50€  \n",
       "Moyen haut      50-80€  "
      ]
     },
     "execution_count": 68,
     "metadata": {},
     "output_type": "execute_result"
    }
   ],
   "source": [
    "stock[\"perc_onstock\"] = 100*stock[\"stock_quantity\"]/(stock[\"quantity\"])\n",
    "stock[\"perc_sold\"] = 100*stock[\"total_sales\"]/(stock[\"quantity\"])\n",
    "stock[\"price_range\"] = [ \"<20€\", \">80€\", \"20-50€\", \"50-80€\"]\n",
    "stock"
   ]
  },
  {
   "cell_type": "markdown",
   "id": "d186f05d",
   "metadata": {},
   "source": [
    "Dans le tableau ci-dessus, on peut voir le pourcentage des produits vendus et restés en stock par catégorie."
   ]
  },
  {
   "cell_type": "markdown",
   "id": "e38946de",
   "metadata": {},
   "source": [
    "### Les valeurs aberrantes (Outliers)"
   ]
  },
  {
   "cell_type": "markdown",
   "id": "6eba4e9b",
   "metadata": {},
   "source": [
    "Pour analyser les valeurs aberrantes, je vais calculer les quartiles et définir une valeur aberrante comme la valeur supérieure à Q3 + 1.5 x IQR."
   ]
  },
  {
   "cell_type": "code",
   "execution_count": 69,
   "id": "d5ab567f",
   "metadata": {},
   "outputs": [],
   "source": [
    "q1 = np.percentile(data[\"price\"], 25)\n",
    "q2 = np.percentile(data[\"price\"], 50)\n",
    "q3 = np.percentile(data[\"price\"], 75)\n",
    "iqr = q3-q1"
   ]
  },
  {
   "cell_type": "code",
   "execution_count": 70,
   "id": "78dd432e",
   "metadata": {},
   "outputs": [
    {
     "name": "stdout",
     "output_type": "stream",
     "text": [
      "Le premier quartile des prix est de 14.10 €, le deuxième quartile ou médiane est de 23.55 €, et le troisième quartile est de 42.18 €. L'intervalle interquatile est 28.08 €.\n"
     ]
    }
   ],
   "source": [
    "print(\"Le premier quartile des prix est de %.2f €, le deuxième quartile ou médiane est de %.2f €, et le troisième quartile est de %.2f €. L'intervalle interquatile est %.2f €.\" % (q1, q2, q3, iqr))"
   ]
  },
  {
   "cell_type": "code",
   "execution_count": 93,
   "id": "67727fe6",
   "metadata": {},
   "outputs": [
    {
     "data": {
      "image/png": "[encoded data removed]",
      "text/plain": [
       "<Figure size 720x288 with 1 Axes>"
      ]
     },
     "metadata": {},
     "output_type": "display_data"
    }
   ],
   "source": [
    "plt.subplots(figsize=[10,4])\n",
    "sns.boxplot(data=data, x=\"price\")\n",
    "plt.title(\"Boîte à moustaches de prix\")\n",
    "plt.xlabel(\"Prix\")\n",
    "plt.show()"
   ]
  },
  {
   "cell_type": "code",
   "execution_count": 72,
   "id": "2ab5e2a6",
   "metadata": {},
   "outputs": [
    {
     "name": "stdout",
     "output_type": "stream",
     "text": [
      "84.28750000000001\n"
     ]
    }
   ],
   "source": [
    "lim = q3 + 1.5*iqr \n",
    "print(lim)"
   ]
  },
  {
   "cell_type": "markdown",
   "id": "7d9e89f4",
   "metadata": {},
   "source": [
    "Tous les prix supérieurs à 84.30€ sont aberrants. Voici la liste :"
   ]
  },
  {
   "cell_type": "code",
   "execution_count": 73,
   "id": "ac5d3062",
   "metadata": {
    "scrolled": true
   },
   "outputs": [
    {
     "data": {
      "text/html": [
       "<div>\n",
       "<style scoped>\n",
       "    .dataframe tbody tr th:only-of-type {\n",
       "        vertical-align: middle;\n",
       "    }\n",
       "\n",
       "    .dataframe tbody tr th {\n",
       "        vertical-align: top;\n",
       "    }\n",
       "\n",
       "    .dataframe thead th {\n",
       "        text-align: right;\n",
       "    }\n",
       "</style>\n",
       "<table border=\"1\" class=\"dataframe\">\n",
       "  <thead>\n",
       "    <tr style=\"text-align: right;\">\n",
       "      <th></th>\n",
       "      <th>product_id</th>\n",
       "      <th>post_title</th>\n",
       "      <th>price</th>\n",
       "      <th>total_sales</th>\n",
       "      <th>total_amount</th>\n",
       "    </tr>\n",
       "  </thead>\n",
       "  <tbody>\n",
       "    <tr>\n",
       "      <th>199</th>\n",
       "      <td>4352</td>\n",
       "      <td>Champagne Egly-Ouriet Grand Cru Millésimé 2008</td>\n",
       "      <td>225.0</td>\n",
       "      <td>5.0</td>\n",
       "      <td>1125.0</td>\n",
       "    </tr>\n",
       "    <tr>\n",
       "      <th>426</th>\n",
       "      <td>5001</td>\n",
       "      <td>David Duband Charmes-Chambertin Grand Cru 2014</td>\n",
       "      <td>217.5</td>\n",
       "      <td>0.0</td>\n",
       "      <td>0.0</td>\n",
       "    </tr>\n",
       "    <tr>\n",
       "      <th>587</th>\n",
       "      <td>5892</td>\n",
       "      <td>Coteaux Champenois Egly-Ouriet Ambonnay Rouge ...</td>\n",
       "      <td>191.3</td>\n",
       "      <td>3.0</td>\n",
       "      <td>573.9</td>\n",
       "    </tr>\n",
       "    <tr>\n",
       "      <th>218</th>\n",
       "      <td>4402</td>\n",
       "      <td>Cognac Frapin VIP XO</td>\n",
       "      <td>176.0</td>\n",
       "      <td>13.0</td>\n",
       "      <td>2288.0</td>\n",
       "    </tr>\n",
       "    <tr>\n",
       "      <th>553</th>\n",
       "      <td>5767</td>\n",
       "      <td>Camille Giroud Clos de Vougeot 2016</td>\n",
       "      <td>175.0</td>\n",
       "      <td>0.0</td>\n",
       "      <td>0.0</td>\n",
       "    </tr>\n",
       "    <tr>\n",
       "      <th>221</th>\n",
       "      <td>4406</td>\n",
       "      <td>Cognac Frapin Château de Fontpinot 1989 20 Ans...</td>\n",
       "      <td>157.0</td>\n",
       "      <td>0.0</td>\n",
       "      <td>0.0</td>\n",
       "    </tr>\n",
       "    <tr>\n",
       "      <th>381</th>\n",
       "      <td>4904</td>\n",
       "      <td>Domaine Des Croix Corton Charlemagne Grand Cru...</td>\n",
       "      <td>137.0</td>\n",
       "      <td>5.0</td>\n",
       "      <td>685.0</td>\n",
       "    </tr>\n",
       "    <tr>\n",
       "      <th>642</th>\n",
       "      <td>6126</td>\n",
       "      <td>Champagne Gosset Célébris Vintage 2007</td>\n",
       "      <td>135.0</td>\n",
       "      <td>2.0</td>\n",
       "      <td>270.0</td>\n",
       "    </tr>\n",
       "    <tr>\n",
       "      <th>201</th>\n",
       "      <td>4355</td>\n",
       "      <td>Champagne Egly-Ouriet Grand Cru Blanc de Noirs</td>\n",
       "      <td>126.5</td>\n",
       "      <td>11.0</td>\n",
       "      <td>1391.5</td>\n",
       "    </tr>\n",
       "    <tr>\n",
       "      <th>511</th>\n",
       "      <td>5612</td>\n",
       "      <td>Domaine Weinbach Gewurztraminer Grand Cru Furs...</td>\n",
       "      <td>124.8</td>\n",
       "      <td>0.0</td>\n",
       "      <td>0.0</td>\n",
       "    </tr>\n",
       "    <tr>\n",
       "      <th>603</th>\n",
       "      <td>5917</td>\n",
       "      <td>Wemyss Malts Single Cask Scotch Whisky Choc 'n...</td>\n",
       "      <td>122.0</td>\n",
       "      <td>0.0</td>\n",
       "      <td>0.0</td>\n",
       "    </tr>\n",
       "    <tr>\n",
       "      <th>654</th>\n",
       "      <td>6213</td>\n",
       "      <td>Domaine des Comtes Lafon Volnay 1er Cru Santen...</td>\n",
       "      <td>121.0</td>\n",
       "      <td>0.0</td>\n",
       "      <td>0.0</td>\n",
       "    </tr>\n",
       "    <tr>\n",
       "      <th>657</th>\n",
       "      <td>6216</td>\n",
       "      <td>Domaine des Comtes Lafon Volnay 1er Cru Champa...</td>\n",
       "      <td>121.0</td>\n",
       "      <td>0.0</td>\n",
       "      <td>0.0</td>\n",
       "    </tr>\n",
       "    <tr>\n",
       "      <th>648</th>\n",
       "      <td>6202</td>\n",
       "      <td>Domaine Clerget Echezeaux Grand Cru En Orveaux...</td>\n",
       "      <td>116.4</td>\n",
       "      <td>0.0</td>\n",
       "      <td>0.0</td>\n",
       "    </tr>\n",
       "    <tr>\n",
       "      <th>653</th>\n",
       "      <td>6212</td>\n",
       "      <td>Domaine des Comtes Lafon Volnay 1er Cru Santen...</td>\n",
       "      <td>115.0</td>\n",
       "      <td>2.0</td>\n",
       "      <td>230.0</td>\n",
       "    </tr>\n",
       "    <tr>\n",
       "      <th>656</th>\n",
       "      <td>6215</td>\n",
       "      <td>Domaine des Comtes Lafon Volnay 1er Cru Champa...</td>\n",
       "      <td>115.0</td>\n",
       "      <td>0.0</td>\n",
       "      <td>0.0</td>\n",
       "    </tr>\n",
       "    <tr>\n",
       "      <th>604</th>\n",
       "      <td>5918</td>\n",
       "      <td>Wemyss Malts Single Cask Scotch Whisky Chai Ca...</td>\n",
       "      <td>114.0</td>\n",
       "      <td>0.0</td>\n",
       "      <td>0.0</td>\n",
       "    </tr>\n",
       "    <tr>\n",
       "      <th>437</th>\n",
       "      <td>5025</td>\n",
       "      <td>Champagne Agrapart &amp;amp; Fils L'Avizoise Extra...</td>\n",
       "      <td>112.0</td>\n",
       "      <td>0.0</td>\n",
       "      <td>0.0</td>\n",
       "    </tr>\n",
       "    <tr>\n",
       "      <th>227</th>\n",
       "      <td>4582</td>\n",
       "      <td>Château de Meursault Puligny-Montrachet 1er Cr...</td>\n",
       "      <td>109.6</td>\n",
       "      <td>0.0</td>\n",
       "      <td>0.0</td>\n",
       "    </tr>\n",
       "    <tr>\n",
       "      <th>219</th>\n",
       "      <td>4404</td>\n",
       "      <td>Cognac Frapin Château de Fontpinot XO</td>\n",
       "      <td>108.5</td>\n",
       "      <td>2.0</td>\n",
       "      <td>217.0</td>\n",
       "    </tr>\n",
       "    <tr>\n",
       "      <th>647</th>\n",
       "      <td>6201</td>\n",
       "      <td>David Duband Chambolle-Musigny 1er Cru Les Sen...</td>\n",
       "      <td>105.6</td>\n",
       "      <td>0.0</td>\n",
       "      <td>0.0</td>\n",
       "    </tr>\n",
       "    <tr>\n",
       "      <th>431</th>\n",
       "      <td>5007</td>\n",
       "      <td>Domaine des Comtes Lafon Volnay 1er Cru Santen...</td>\n",
       "      <td>105.0</td>\n",
       "      <td>0.0</td>\n",
       "      <td>0.0</td>\n",
       "    </tr>\n",
       "    <tr>\n",
       "      <th>432</th>\n",
       "      <td>5008</td>\n",
       "      <td>Domaine des Comtes Lafon Volnay 1er Cru Santen...</td>\n",
       "      <td>105.0</td>\n",
       "      <td>0.0</td>\n",
       "      <td>0.0</td>\n",
       "    </tr>\n",
       "    <tr>\n",
       "      <th>222</th>\n",
       "      <td>4407</td>\n",
       "      <td>Cognac Frapin Cigar Blend</td>\n",
       "      <td>104.0</td>\n",
       "      <td>1.0</td>\n",
       "      <td>104.0</td>\n",
       "    </tr>\n",
       "    <tr>\n",
       "      <th>380</th>\n",
       "      <td>4903</td>\n",
       "      <td>Domaine Des Croix Corton Grand Cru Les Grèves ...</td>\n",
       "      <td>102.3</td>\n",
       "      <td>0.0</td>\n",
       "      <td>0.0</td>\n",
       "    </tr>\n",
       "    <tr>\n",
       "      <th>63</th>\n",
       "      <td>4115</td>\n",
       "      <td>Zind-Humbrecht Riesling Grand Cru Rangen De Th...</td>\n",
       "      <td>100.0</td>\n",
       "      <td>0.0</td>\n",
       "      <td>0.0</td>\n",
       "    </tr>\n",
       "    <tr>\n",
       "      <th>655</th>\n",
       "      <td>6214</td>\n",
       "      <td>Domaine des Comtes Lafon Volnay 1er Cru Champa...</td>\n",
       "      <td>99.0</td>\n",
       "      <td>0.0</td>\n",
       "      <td>0.0</td>\n",
       "    </tr>\n",
       "    <tr>\n",
       "      <th>602</th>\n",
       "      <td>5916</td>\n",
       "      <td>Wemyss Malts Single Cask Scotch Whisky Chocola...</td>\n",
       "      <td>93.0</td>\n",
       "      <td>0.0</td>\n",
       "      <td>0.0</td>\n",
       "    </tr>\n",
       "    <tr>\n",
       "      <th>502</th>\n",
       "      <td>5565</td>\n",
       "      <td>Tempier Bandol Cabassaou 2017</td>\n",
       "      <td>92.0</td>\n",
       "      <td>0.0</td>\n",
       "      <td>0.0</td>\n",
       "    </tr>\n",
       "    <tr>\n",
       "      <th>65</th>\n",
       "      <td>4132</td>\n",
       "      <td>Zind-Humbrecht Pinot Gris Grand Cru Rangen De ...</td>\n",
       "      <td>88.4</td>\n",
       "      <td>0.0</td>\n",
       "      <td>0.0</td>\n",
       "    </tr>\n",
       "    <tr>\n",
       "      <th>438</th>\n",
       "      <td>5026</td>\n",
       "      <td>Champagne Agrapart &amp;amp; Fils Minéral Extra Br...</td>\n",
       "      <td>86.8</td>\n",
       "      <td>0.0</td>\n",
       "      <td>0.0</td>\n",
       "    </tr>\n",
       "    <tr>\n",
       "      <th>205</th>\n",
       "      <td>4359</td>\n",
       "      <td>Champagne Larmandier-Bernier Grand Cru Les Che...</td>\n",
       "      <td>85.6</td>\n",
       "      <td>1.0</td>\n",
       "      <td>85.6</td>\n",
       "    </tr>\n",
       "  </tbody>\n",
       "</table>\n",
       "</div>"
      ],
      "text/plain": [
       "     product_id                                         post_title  price  \\\n",
       "199        4352     Champagne Egly-Ouriet Grand Cru Millésimé 2008  225.0   \n",
       "426        5001     David Duband Charmes-Chambertin Grand Cru 2014  217.5   \n",
       "587        5892  Coteaux Champenois Egly-Ouriet Ambonnay Rouge ...  191.3   \n",
       "218        4402                               Cognac Frapin VIP XO  176.0   \n",
       "553        5767                Camille Giroud Clos de Vougeot 2016  175.0   \n",
       "221        4406  Cognac Frapin Château de Fontpinot 1989 20 Ans...  157.0   \n",
       "381        4904  Domaine Des Croix Corton Charlemagne Grand Cru...  137.0   \n",
       "642        6126             Champagne Gosset Célébris Vintage 2007  135.0   \n",
       "201        4355     Champagne Egly-Ouriet Grand Cru Blanc de Noirs  126.5   \n",
       "511        5612  Domaine Weinbach Gewurztraminer Grand Cru Furs...  124.8   \n",
       "603        5917  Wemyss Malts Single Cask Scotch Whisky Choc 'n...  122.0   \n",
       "654        6213  Domaine des Comtes Lafon Volnay 1er Cru Santen...  121.0   \n",
       "657        6216  Domaine des Comtes Lafon Volnay 1er Cru Champa...  121.0   \n",
       "648        6202  Domaine Clerget Echezeaux Grand Cru En Orveaux...  116.4   \n",
       "653        6212  Domaine des Comtes Lafon Volnay 1er Cru Santen...  115.0   \n",
       "656        6215  Domaine des Comtes Lafon Volnay 1er Cru Champa...  115.0   \n",
       "604        5918  Wemyss Malts Single Cask Scotch Whisky Chai Ca...  114.0   \n",
       "437        5025  Champagne Agrapart &amp; Fils L'Avizoise Extra...  112.0   \n",
       "227        4582  Château de Meursault Puligny-Montrachet 1er Cr...  109.6   \n",
       "219        4404              Cognac Frapin Château de Fontpinot XO  108.5   \n",
       "647        6201  David Duband Chambolle-Musigny 1er Cru Les Sen...  105.6   \n",
       "431        5007  Domaine des Comtes Lafon Volnay 1er Cru Santen...  105.0   \n",
       "432        5008  Domaine des Comtes Lafon Volnay 1er Cru Santen...  105.0   \n",
       "222        4407                          Cognac Frapin Cigar Blend  104.0   \n",
       "380        4903  Domaine Des Croix Corton Grand Cru Les Grèves ...  102.3   \n",
       "63         4115  Zind-Humbrecht Riesling Grand Cru Rangen De Th...  100.0   \n",
       "655        6214  Domaine des Comtes Lafon Volnay 1er Cru Champa...   99.0   \n",
       "602        5916  Wemyss Malts Single Cask Scotch Whisky Chocola...   93.0   \n",
       "502        5565                      Tempier Bandol Cabassaou 2017   92.0   \n",
       "65         4132  Zind-Humbrecht Pinot Gris Grand Cru Rangen De ...   88.4   \n",
       "438        5026  Champagne Agrapart &amp; Fils Minéral Extra Br...   86.8   \n",
       "205        4359  Champagne Larmandier-Bernier Grand Cru Les Che...   85.6   \n",
       "\n",
       "     total_sales  total_amount  \n",
       "199          5.0        1125.0  \n",
       "426          0.0           0.0  \n",
       "587          3.0         573.9  \n",
       "218         13.0        2288.0  \n",
       "553          0.0           0.0  \n",
       "221          0.0           0.0  \n",
       "381          5.0         685.0  \n",
       "642          2.0         270.0  \n",
       "201         11.0        1391.5  \n",
       "511          0.0           0.0  \n",
       "603          0.0           0.0  \n",
       "654          0.0           0.0  \n",
       "657          0.0           0.0  \n",
       "648          0.0           0.0  \n",
       "653          2.0         230.0  \n",
       "656          0.0           0.0  \n",
       "604          0.0           0.0  \n",
       "437          0.0           0.0  \n",
       "227          0.0           0.0  \n",
       "219          2.0         217.0  \n",
       "647          0.0           0.0  \n",
       "431          0.0           0.0  \n",
       "432          0.0           0.0  \n",
       "222          1.0         104.0  \n",
       "380          0.0           0.0  \n",
       "63           0.0           0.0  \n",
       "655          0.0           0.0  \n",
       "602          0.0           0.0  \n",
       "502          0.0           0.0  \n",
       "65           0.0           0.0  \n",
       "438          0.0           0.0  \n",
       "205          1.0          85.6  "
      ]
     },
     "execution_count": 73,
     "metadata": {},
     "output_type": "execute_result"
    }
   ],
   "source": [
    "data[data[\"price\"]> lim][[ \"product_id\",\"post_title\", \"price\", \"total_sales\", \"total_amount\"]].sort_values(by=\"price\", ascending=False)"
   ]
  },
  {
   "cell_type": "markdown",
   "id": "12eb9c00",
   "metadata": {},
   "source": [
    "Les produits avec des prix aberrants sont majoritairement des champagnes, des cognac ou des whiskies."
   ]
  },
  {
   "cell_type": "code",
   "execution_count": 74,
   "id": "a22ede94",
   "metadata": {},
   "outputs": [
    {
     "data": {
      "text/plain": [
       "32"
      ]
     },
     "execution_count": 74,
     "metadata": {},
     "output_type": "execute_result"
    }
   ],
   "source": [
    "len(data[data[\"price\"]> lim])"
   ]
  },
  {
   "cell_type": "code",
   "execution_count": 75,
   "id": "ab5c9a69",
   "metadata": {},
   "outputs": [
    {
     "data": {
      "text/plain": [
       "124.571875"
      ]
     },
     "execution_count": 75,
     "metadata": {},
     "output_type": "execute_result"
    }
   ],
   "source": [
    "data[data[\"price\"]> lim][\"price\"].mean()"
   ]
  },
  {
   "cell_type": "code",
   "execution_count": 76,
   "id": "fbedeae5",
   "metadata": {},
   "outputs": [
    {
     "data": {
      "text/plain": [
       "32.49313725490197"
      ]
     },
     "execution_count": 76,
     "metadata": {},
     "output_type": "execute_result"
    }
   ],
   "source": [
    "data[\"price\"].mean()"
   ]
  },
  {
   "cell_type": "markdown",
   "id": "b44442d0",
   "metadata": {},
   "source": [
    "Il y a 32 valeurs aberrantes et leur prix moyen est de 124.57 €, tandis que la moyenne de l'ensemble est de 32.49 €."
   ]
  },
  {
   "cell_type": "code",
   "execution_count": 77,
   "id": "9fe3cd81",
   "metadata": {},
   "outputs": [
    {
     "data": {
      "text/plain": [
       "6970.0"
      ]
     },
     "execution_count": 77,
     "metadata": {},
     "output_type": "execute_result"
    }
   ],
   "source": [
    "data[data[\"price\"]> lim][\"total_amount\"].sum()"
   ]
  },
  {
   "cell_type": "code",
   "execution_count": 78,
   "id": "2ec7008b",
   "metadata": {},
   "outputs": [
    {
     "data": {
      "text/plain": [
       "9.876914094937408"
      ]
     },
     "execution_count": 78,
     "metadata": {},
     "output_type": "execute_result"
    }
   ],
   "source": [
    "100*data[data[\"price\"]> lim][\"total_amount\"].sum()/(data[\"total_amount\"].sum())"
   ]
  },
  {
   "cell_type": "markdown",
   "id": "047817f6",
   "metadata": {},
   "source": [
    "Sur les 32 produits au prix supérieur à 84.30€, seulement 10 produits se vendaient. Par contre, ils généraient un total de 6 970€, ce qui représente presque 10% du CA total. "
   ]
  },
  {
   "cell_type": "code",
   "execution_count": 79,
   "id": "ca286695",
   "metadata": {},
   "outputs": [
    {
     "data": {
      "image/png": "[encoded data removed]",
      "text/plain": [
       "<Figure size 360x360 with 1 Axes>"
      ]
     },
     "metadata": {},
     "output_type": "display_data"
    }
   ],
   "source": [
    "totals =[data[data[\"price\"]> lim][\"total_amount\"].sum(), data[\"total_amount\"].sum()]\n",
    "labels = [\"CA de produits plus chers de 83.40€\", \"CA de produits moins chers de 83.40€\"]\n",
    "pie, ax = plt.subplots(figsize=[5,5])\n",
    "plt.pie(totals, labels=labels, autopct='%.1f%%')\n",
    "plt.title(\"la proportion de CA généré par les produits dont les prix sont aberrants\")\n",
    "plt.show()"
   ]
  },
  {
   "cell_type": "markdown",
   "id": "64059ce8",
   "metadata": {},
   "source": [
    "## 3. Sentiment analysis of *post_excerpt*"
   ]
  },
  {
   "cell_type": "markdown",
   "id": "fbc8d353",
   "metadata": {},
   "source": [
    "Je vais analyser le texte de l'extrait qui décrit le vin, pour voir s'il y a une relation entre le sentiment de l'extrait et les ventes. \n",
    "\n",
    "J'aimerais savoir si les gens ont tendance à acheter plus de produits dont la description a un sentiment plus positif.\n"
   ]
  },
  {
   "cell_type": "code",
   "execution_count": 79,
   "id": "fe53cdce",
   "metadata": {},
   "outputs": [],
   "source": [
    "import tensorflow as tf\n",
    "assert tf.__version__ >= \"2.0\"\n",
    "from transformers import AutoTokenizer, TFAutoModelForSequenceClassification\n",
    "from transformers import pipeline"
   ]
  },
  {
   "cell_type": "code",
   "execution_count": 80,
   "id": "cbf560ba",
   "metadata": {},
   "outputs": [
    {
     "name": "stderr",
     "output_type": "stream",
     "text": [
      "All model checkpoint layers were used when initializing TFCamembertForSequenceClassification.\n",
      "\n",
      "All the layers of TFCamembertForSequenceClassification were initialized from the model checkpoint at tblard/tf-allocine.\n",
      "If your task is similar to the task the model of the checkpoint was trained on, you can already use TFCamembertForSequenceClassification for predictions without further training.\n"
     ]
    }
   ],
   "source": [
    "tokenizer = AutoTokenizer.from_pretrained(\"tblard/tf-allocine\", use_fast=True)\n",
    "model = TFAutoModelForSequenceClassification.from_pretrained(\"tblard/tf-allocine\")\n",
    "nlp = pipeline('sentiment-analysis', model=model, tokenizer=tokenizer)"
   ]
  },
  {
   "cell_type": "code",
   "execution_count": 81,
   "id": "70012173",
   "metadata": {},
   "outputs": [],
   "source": [
    "web_wine[\"score\"] = web_wine[\"post_excerpt\"].apply(nlp)"
   ]
  },
  {
   "cell_type": "code",
   "execution_count": 82,
   "id": "b24009cc",
   "metadata": {
    "scrolled": true
   },
   "outputs": [],
   "source": [
    "#web_wine.to_csv(r'C:\\Users\\majai\\Dropbox\\DATA ANALYST formation\\Project 5\\Livrables\\excel\\web_wine.csv', index = False, header=True)"
   ]
  },
  {
   "cell_type": "code",
   "execution_count": 81,
   "id": "04bfde1f",
   "metadata": {},
   "outputs": [],
   "source": [
    "wine = pd.read_csv(r'C:\\Users\\majai\\Dropbox\\DATA ANALYST formation\\Project 5\\Livrables\\excel\\web_wine.csv')"
   ]
  },
  {
   "cell_type": "code",
   "execution_count": 82,
   "id": "74d7852d",
   "metadata": {},
   "outputs": [],
   "source": [
    "from scipy.stats import pearsonr"
   ]
  },
  {
   "cell_type": "code",
   "execution_count": 83,
   "id": "c6be000b",
   "metadata": {},
   "outputs": [],
   "source": [
    "data = pd.merge(data, wine[{\"product_id\", \"score\"}], on=\"product_id\")"
   ]
  },
  {
   "cell_type": "code",
   "execution_count": 85,
   "id": "d5827fc8",
   "metadata": {},
   "outputs": [
    {
     "name": "stdout",
     "output_type": "stream",
     "text": [
      "Le score de sentiment est compris entre 0.532 et 0.999.\n",
      "Le score de sentiment moyen est 0.970, et le score median est 0.989.\n"
     ]
    }
   ],
   "source": [
    "print('Le score de sentiment est compris entre %.3f et %.3f.' % (data[\"score\"].min(), data[\"score\"].max()))\n",
    "print('Le score de sentiment moyen est %.3f, et le score median est %.3f.' % (data[\"score\"].mean(),data[\"score\"].median()))"
   ]
  },
  {
   "cell_type": "code",
   "execution_count": 86,
   "id": "38d40db8",
   "metadata": {
    "scrolled": true
   },
   "outputs": [
    {
     "name": "stdout",
     "output_type": "stream",
     "text": [
      "               score\n",
      "category            \n",
      "Moyen bas   0.967361\n",
      "Bas         0.969032\n",
      "Moyen haut  0.978965\n",
      "Haut        0.981407\n"
     ]
    }
   ],
   "source": [
    "print(pd.pivot_table(data, values=['score' ], index=['category'],  aggfunc=np.mean).sort_values(by='score'))"
   ]
  },
  {
   "cell_type": "markdown",
   "id": "b8a5b520",
   "metadata": {},
   "source": [
    "La note moyenne de la description du vin est de 0.97, ce qui représente un sentiment très positif.\n",
    "\n",
    "Les vins à prix élevés ont un sentiment plus positif que les vins moins chers."
   ]
  },
  {
   "cell_type": "code",
   "execution_count": 87,
   "id": "f3a01572",
   "metadata": {},
   "outputs": [
    {
     "data": {
      "text/plain": [
       "0.049428574107978615"
      ]
     },
     "execution_count": 87,
     "metadata": {},
     "output_type": "execute_result"
    }
   ],
   "source": [
    "pearsonr(data[\"score\"], data[\"total_amount\"])[0]"
   ]
  },
  {
   "cell_type": "code",
   "execution_count": 88,
   "id": "a7c3b22b",
   "metadata": {},
   "outputs": [
    {
     "data": {
      "text/plain": [
       "0.01879632012910588"
      ]
     },
     "execution_count": 88,
     "metadata": {},
     "output_type": "execute_result"
    }
   ],
   "source": [
    "pearsonr(data[\"score\"], data[\"total_sales\"])[0]"
   ]
  },
  {
   "cell_type": "code",
   "execution_count": 89,
   "id": "0726abb9",
   "metadata": {},
   "outputs": [
    {
     "data": {
      "text/plain": [
       "0.05385622139441657"
      ]
     },
     "execution_count": 89,
     "metadata": {},
     "output_type": "execute_result"
    }
   ],
   "source": [
    "pearsonr(data[data[\"total_sales_perc\"]>0][\"score\"], data[data[\"total_sales_perc\"]>0][\"total_sales_perc\"])[0]"
   ]
  },
  {
   "cell_type": "markdown",
   "id": "73dce9f1",
   "metadata": {},
   "source": [
    "La corrélation entre les ventes et le sentiment est positif mais très très faible."
   ]
  },
  {
   "cell_type": "code",
   "execution_count": 90,
   "id": "74be8c7d",
   "metadata": {},
   "outputs": [
    {
     "data": {
      "text/plain": [
       "225.0"
      ]
     },
     "execution_count": 90,
     "metadata": {},
     "output_type": "execute_result"
    }
   ],
   "source": [
    "data[\"price\"].max()"
   ]
  },
  {
   "cell_type": "code",
   "execution_count": 91,
   "id": "0d3c1025",
   "metadata": {},
   "outputs": [
    {
     "data": {
      "text/plain": [
       "307"
      ]
     },
     "execution_count": 91,
     "metadata": {},
     "output_type": "execute_result"
    }
   ],
   "source": [
    "len(data[data[\"price\"]<20])"
   ]
  },
  {
   "cell_type": "code",
   "execution_count": 92,
   "id": "ab50d66e",
   "metadata": {},
   "outputs": [
    {
     "data": {
      "text/plain": [
       "0.42997198879551823"
      ]
     },
     "execution_count": 92,
     "metadata": {},
     "output_type": "execute_result"
    }
   ],
   "source": [
    "307/714"
   ]
  },
  {
   "cell_type": "code",
   "execution_count": null,
   "id": "d1405739",
   "metadata": {},
   "outputs": [],
   "source": []
  }
 ],
 "metadata": {
  "kernelspec": {
   "display_name": "Python 3 (ipykernel)",
   "language": "python",
   "name": "python3"
  },
  "language_info": {
   "codemirror_mode": {
    "name": "ipython",
    "version": 3
   },
   "file_extension": ".py",
   "mimetype": "text/x-python",
   "name": "python",
   "nbconvert_exporter": "python",
   "pygments_lexer": "ipython3",
   "version": "3.9.7"
  }
 },
 "nbformat": 4,
 "nbformat_minor": 5
}

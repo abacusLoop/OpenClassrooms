{
 "cells": [
  {
   "cell_type": "markdown",
   "id": "0ba94795",
   "metadata": {},
   "source": [
    "# Food and Agriculture Organization\n",
    "## L'étude de santé publique"
   ]
  },
  {
   "cell_type": "markdown",
   "id": "0724d5cd",
   "metadata": {},
   "source": [
    "La MISSION: réaliser une étude de grande ampleur sur le thème de la sous-nutrition dans le monde.\n",
    "\n",
    "_____________________"
   ]
  },
  {
   "cell_type": "markdown",
   "id": "56b82fdb",
   "metadata": {},
   "source": [
    "Je commence avec l'importation des libraries et des données que je vais utiliser pour l'étude de santé public."
   ]
  },
  {
   "cell_type": "code",
   "execution_count": 1,
   "id": "86c4da6a",
   "metadata": {},
   "outputs": [],
   "source": [
    "import pandas as pd\n",
    "import numpy as np\n",
    "import matplotlib as plt\n",
    "import seaborn as sns\n",
    "import os\n",
    "\n",
    "os.chdir(\"C:/Users/majai/Dropbox/DATA ANALYST formation/Project 4/Livrables/DAN-P4-FAO\")\n",
    "aide_alimentaire = pd.read_csv('CSV/aide_alimentaire.csv')\n",
    "dispo_alimentaire = pd.read_csv('CSV/dispo_alimentaire.csv')\n",
    "population = pd.read_csv('CSV/population.csv')\n",
    "sous_nutrition = pd.read_csv('CSV/sous_nutrition.csv')"
   ]
  },
  {
   "cell_type": "markdown",
   "id": "148bba94",
   "metadata": {},
   "source": [
    "## L'exploration des donnees"
   ]
  },
  {
   "cell_type": "markdown",
   "id": "18302ce9",
   "metadata": {},
   "source": [
    "### Population"
   ]
  },
  {
   "cell_type": "code",
   "execution_count": 2,
   "id": "d558c559",
   "metadata": {},
   "outputs": [
    {
     "data": {
      "text/html": [
       "<div>\n",
       "<style scoped>\n",
       "    .dataframe tbody tr th:only-of-type {\n",
       "        vertical-align: middle;\n",
       "    }\n",
       "\n",
       "    .dataframe tbody tr th {\n",
       "        vertical-align: top;\n",
       "    }\n",
       "\n",
       "    .dataframe thead th {\n",
       "        text-align: right;\n",
       "    }\n",
       "</style>\n",
       "<table border=\"1\" class=\"dataframe\">\n",
       "  <thead>\n",
       "    <tr style=\"text-align: right;\">\n",
       "      <th></th>\n",
       "      <th>Zone</th>\n",
       "      <th>Annee</th>\n",
       "      <th>Valeur</th>\n",
       "    </tr>\n",
       "  </thead>\n",
       "  <tbody>\n",
       "    <tr>\n",
       "      <th>0</th>\n",
       "      <td>Afghanistan</td>\n",
       "      <td>2013</td>\n",
       "      <td>32269.589</td>\n",
       "    </tr>\n",
       "    <tr>\n",
       "      <th>1</th>\n",
       "      <td>Afghanistan</td>\n",
       "      <td>2014</td>\n",
       "      <td>33370.794</td>\n",
       "    </tr>\n",
       "    <tr>\n",
       "      <th>2</th>\n",
       "      <td>Afghanistan</td>\n",
       "      <td>2015</td>\n",
       "      <td>34413.603</td>\n",
       "    </tr>\n",
       "    <tr>\n",
       "      <th>3</th>\n",
       "      <td>Afghanistan</td>\n",
       "      <td>2016</td>\n",
       "      <td>35383.032</td>\n",
       "    </tr>\n",
       "    <tr>\n",
       "      <th>4</th>\n",
       "      <td>Afghanistan</td>\n",
       "      <td>2017</td>\n",
       "      <td>36296.113</td>\n",
       "    </tr>\n",
       "  </tbody>\n",
       "</table>\n",
       "</div>"
      ],
      "text/plain": [
       "          Zone  Annee     Valeur\n",
       "0  Afghanistan   2013  32269.589\n",
       "1  Afghanistan   2014  33370.794\n",
       "2  Afghanistan   2015  34413.603\n",
       "3  Afghanistan   2016  35383.032\n",
       "4  Afghanistan   2017  36296.113"
      ]
     },
     "execution_count": 2,
     "metadata": {},
     "output_type": "execute_result"
    }
   ],
   "source": [
    "population.head()"
   ]
  },
  {
   "cell_type": "code",
   "execution_count": 3,
   "id": "5c2e097c",
   "metadata": {},
   "outputs": [
    {
     "data": {
      "text/plain": [
       "236"
      ]
     },
     "execution_count": 3,
     "metadata": {},
     "output_type": "execute_result"
    }
   ],
   "source": [
    "len(population.Zone.unique())"
   ]
  },
  {
   "cell_type": "code",
   "execution_count": 4,
   "id": "3a460372",
   "metadata": {},
   "outputs": [
    {
     "data": {
      "text/plain": [
       "array([2013, 2014, 2015, 2016, 2017, 2018], dtype=int64)"
      ]
     },
     "execution_count": 4,
     "metadata": {},
     "output_type": "execute_result"
    }
   ],
   "source": [
    "population.Annee.unique()"
   ]
  },
  {
   "cell_type": "markdown",
   "id": "84f4a0dd",
   "metadata": {},
   "source": [
    "La table *population* contient le nombre d'habitants (en 1000) de 236 pays, de 2013 à 2018. \n",
    "\n",
    "J'ai besoin des informations pour l’année 2017, je vais donc créer la table *population_17*.  "
   ]
  },
  {
   "cell_type": "code",
   "execution_count": 5,
   "id": "6abb3750",
   "metadata": {},
   "outputs": [],
   "source": [
    "population_17 = population[population['Annee']==2017]\n",
    "population_17 = population_17.drop(columns=['Annee'])\n",
    "population_17 = population_17.rename(columns={'Valeur': 'Population'})"
   ]
  },
  {
   "cell_type": "code",
   "execution_count": 6,
   "id": "97dc97c8",
   "metadata": {},
   "outputs": [
    {
     "data": {
      "text/plain": [
       "7548134.1110000005"
      ]
     },
     "execution_count": 6,
     "metadata": {},
     "output_type": "execute_result"
    }
   ],
   "source": [
    "population_17['Population'].sum()"
   ]
  },
  {
   "cell_type": "markdown",
   "id": "a5ae5197",
   "metadata": {},
   "source": [
    "### Sous-nutrition"
   ]
  },
  {
   "cell_type": "code",
   "execution_count": 7,
   "id": "edb54d04",
   "metadata": {},
   "outputs": [
    {
     "data": {
      "text/html": [
       "<div>\n",
       "<style scoped>\n",
       "    .dataframe tbody tr th:only-of-type {\n",
       "        vertical-align: middle;\n",
       "    }\n",
       "\n",
       "    .dataframe tbody tr th {\n",
       "        vertical-align: top;\n",
       "    }\n",
       "\n",
       "    .dataframe thead th {\n",
       "        text-align: right;\n",
       "    }\n",
       "</style>\n",
       "<table border=\"1\" class=\"dataframe\">\n",
       "  <thead>\n",
       "    <tr style=\"text-align: right;\">\n",
       "      <th></th>\n",
       "      <th>Zone</th>\n",
       "      <th>Annee</th>\n",
       "      <th>Valeur</th>\n",
       "    </tr>\n",
       "  </thead>\n",
       "  <tbody>\n",
       "    <tr>\n",
       "      <th>0</th>\n",
       "      <td>Afghanistan</td>\n",
       "      <td>2012-2014</td>\n",
       "      <td>8.6</td>\n",
       "    </tr>\n",
       "    <tr>\n",
       "      <th>1</th>\n",
       "      <td>Afghanistan</td>\n",
       "      <td>2013-2015</td>\n",
       "      <td>8.8</td>\n",
       "    </tr>\n",
       "    <tr>\n",
       "      <th>2</th>\n",
       "      <td>Afghanistan</td>\n",
       "      <td>2014-2016</td>\n",
       "      <td>8.9</td>\n",
       "    </tr>\n",
       "    <tr>\n",
       "      <th>3</th>\n",
       "      <td>Afghanistan</td>\n",
       "      <td>2015-2017</td>\n",
       "      <td>9.7</td>\n",
       "    </tr>\n",
       "    <tr>\n",
       "      <th>4</th>\n",
       "      <td>Afghanistan</td>\n",
       "      <td>2016-2018</td>\n",
       "      <td>10.5</td>\n",
       "    </tr>\n",
       "  </tbody>\n",
       "</table>\n",
       "</div>"
      ],
      "text/plain": [
       "          Zone      Annee Valeur\n",
       "0  Afghanistan  2012-2014    8.6\n",
       "1  Afghanistan  2013-2015    8.8\n",
       "2  Afghanistan  2014-2016    8.9\n",
       "3  Afghanistan  2015-2017    9.7\n",
       "4  Afghanistan  2016-2018   10.5"
      ]
     },
     "execution_count": 7,
     "metadata": {},
     "output_type": "execute_result"
    }
   ],
   "source": [
    "sous_nutrition.head()"
   ]
  },
  {
   "cell_type": "markdown",
   "id": "b9c6a689",
   "metadata": {},
   "source": [
    "La table *sous_nutrition* montre le nombre de personnes en sous-alimentation en millions d’habitants, en intervalle de trois années. Pour definir la sous-nutrition en 2017, je vais prendre la moyenne de 2016-2018. "
   ]
  },
  {
   "cell_type": "code",
   "execution_count": 8,
   "id": "db8a3f21",
   "metadata": {},
   "outputs": [
    {
     "data": {
      "text/html": [
       "<div>\n",
       "<style scoped>\n",
       "    .dataframe tbody tr th:only-of-type {\n",
       "        vertical-align: middle;\n",
       "    }\n",
       "\n",
       "    .dataframe tbody tr th {\n",
       "        vertical-align: top;\n",
       "    }\n",
       "\n",
       "    .dataframe thead th {\n",
       "        text-align: right;\n",
       "    }\n",
       "</style>\n",
       "<table border=\"1\" class=\"dataframe\">\n",
       "  <thead>\n",
       "    <tr style=\"text-align: right;\">\n",
       "      <th></th>\n",
       "      <th>Zone</th>\n",
       "      <th>Annee</th>\n",
       "      <th>Valeur</th>\n",
       "    </tr>\n",
       "  </thead>\n",
       "  <tbody>\n",
       "    <tr>\n",
       "      <th>508</th>\n",
       "      <td>Inde</td>\n",
       "      <td>2017</td>\n",
       "      <td>190.1</td>\n",
       "    </tr>\n",
       "    <tr>\n",
       "      <th>820</th>\n",
       "      <td>Pakistan</td>\n",
       "      <td>2017</td>\n",
       "      <td>24.8</td>\n",
       "    </tr>\n",
       "    <tr>\n",
       "      <th>514</th>\n",
       "      <td>Indonesie</td>\n",
       "      <td>2017</td>\n",
       "      <td>23.6</td>\n",
       "    </tr>\n",
       "    <tr>\n",
       "      <th>772</th>\n",
       "      <td>Nigeria</td>\n",
       "      <td>2017</td>\n",
       "      <td>22.8</td>\n",
       "    </tr>\n",
       "    <tr>\n",
       "      <th>100</th>\n",
       "      <td>Bangladesh</td>\n",
       "      <td>2017</td>\n",
       "      <td>21.5</td>\n",
       "    </tr>\n",
       "  </tbody>\n",
       "</table>\n",
       "</div>"
      ],
      "text/plain": [
       "           Zone Annee  Valeur\n",
       "508        Inde  2017   190.1\n",
       "820    Pakistan  2017    24.8\n",
       "514   Indonesie  2017    23.6\n",
       "772     Nigeria  2017    22.8\n",
       "100  Bangladesh  2017    21.5"
      ]
     },
     "execution_count": 8,
     "metadata": {},
     "output_type": "execute_result"
    }
   ],
   "source": [
    "sous_nutrition_17 = sous_nutrition[sous_nutrition['Annee']==\"2016-2018\"]\n",
    "sous_nutrition_17 = sous_nutrition_17.replace({'Valeur': {'<0.1':'0'}})\n",
    "sous_nutrition_17['Valeur'] = sous_nutrition_17['Valeur'].astype(float)\n",
    "sous_nutrition_17['Valeur'] = sous_nutrition_17['Valeur'].fillna(0)\n",
    "sous_nutrition_17 = sous_nutrition_17.replace({'Annee': {\"2016-2018\": \"2017\"}})\n",
    "sous_nutrition_17.sort_values(by='Valeur', ascending=False).head()"
   ]
  },
  {
   "cell_type": "markdown",
   "id": "266b9e5e",
   "metadata": {},
   "source": [
    "### Aide alimentaire"
   ]
  },
  {
   "cell_type": "code",
   "execution_count": 9,
   "id": "db669f6f",
   "metadata": {},
   "outputs": [
    {
     "data": {
      "text/html": [
       "<div>\n",
       "<style scoped>\n",
       "    .dataframe tbody tr th:only-of-type {\n",
       "        vertical-align: middle;\n",
       "    }\n",
       "\n",
       "    .dataframe tbody tr th {\n",
       "        vertical-align: top;\n",
       "    }\n",
       "\n",
       "    .dataframe thead th {\n",
       "        text-align: right;\n",
       "    }\n",
       "</style>\n",
       "<table border=\"1\" class=\"dataframe\">\n",
       "  <thead>\n",
       "    <tr style=\"text-align: right;\">\n",
       "      <th></th>\n",
       "      <th>Pays beneficiaire</th>\n",
       "      <th>Annee</th>\n",
       "      <th>Produit</th>\n",
       "      <th>Valeur</th>\n",
       "    </tr>\n",
       "  </thead>\n",
       "  <tbody>\n",
       "    <tr>\n",
       "      <th>0</th>\n",
       "      <td>Afghanistan</td>\n",
       "      <td>2013</td>\n",
       "      <td>Autres non-cereales</td>\n",
       "      <td>682</td>\n",
       "    </tr>\n",
       "    <tr>\n",
       "      <th>1</th>\n",
       "      <td>Afghanistan</td>\n",
       "      <td>2014</td>\n",
       "      <td>Autres non-cereales</td>\n",
       "      <td>335</td>\n",
       "    </tr>\n",
       "    <tr>\n",
       "      <th>2</th>\n",
       "      <td>Afghanistan</td>\n",
       "      <td>2013</td>\n",
       "      <td>Ble et Farin</td>\n",
       "      <td>39224</td>\n",
       "    </tr>\n",
       "    <tr>\n",
       "      <th>3</th>\n",
       "      <td>Afghanistan</td>\n",
       "      <td>2014</td>\n",
       "      <td>Ble et Farin</td>\n",
       "      <td>15160</td>\n",
       "    </tr>\n",
       "    <tr>\n",
       "      <th>4</th>\n",
       "      <td>Afghanistan</td>\n",
       "      <td>2013</td>\n",
       "      <td>Cereales</td>\n",
       "      <td>40504</td>\n",
       "    </tr>\n",
       "  </tbody>\n",
       "</table>\n",
       "</div>"
      ],
      "text/plain": [
       "  Pays beneficiaire  Annee              Produit  Valeur\n",
       "0       Afghanistan   2013  Autres non-cereales     682\n",
       "1       Afghanistan   2014  Autres non-cereales     335\n",
       "2       Afghanistan   2013         Ble et Farin   39224\n",
       "3       Afghanistan   2014         Ble et Farin   15160\n",
       "4       Afghanistan   2013             Cereales   40504"
      ]
     },
     "execution_count": 9,
     "metadata": {},
     "output_type": "execute_result"
    }
   ],
   "source": [
    "aide_alimentaire.head()"
   ]
  },
  {
   "cell_type": "code",
   "execution_count": 10,
   "id": "5c6ab9a6",
   "metadata": {},
   "outputs": [],
   "source": [
    "aide_alimentaire = aide_alimentaire.rename(columns={'Pays beneficiaire':'Zone'})"
   ]
  },
  {
   "cell_type": "code",
   "execution_count": 11,
   "id": "9bd4d1fc",
   "metadata": {},
   "outputs": [
    {
     "data": {
      "text/plain": [
       "array([2013, 2014, 2015, 2016], dtype=int64)"
      ]
     },
     "execution_count": 11,
     "metadata": {},
     "output_type": "execute_result"
    }
   ],
   "source": [
    "aide_alimentaire.Annee.unique()"
   ]
  },
  {
   "cell_type": "code",
   "execution_count": 12,
   "id": "e1ecb2e0",
   "metadata": {},
   "outputs": [
    {
     "data": {
      "text/plain": [
       "76"
      ]
     },
     "execution_count": 12,
     "metadata": {},
     "output_type": "execute_result"
    }
   ],
   "source": [
    "len(aide_alimentaire.Zone.unique())"
   ]
  },
  {
   "cell_type": "code",
   "execution_count": 13,
   "id": "1e7cb66a",
   "metadata": {},
   "outputs": [
    {
     "data": {
      "text/plain": [
       "array(['Autres non-cereales', 'Ble et Farin', 'Cereales',\n",
       "       'Fruits secs, total', 'Huiles vegetales',\n",
       "       'Legumineuses Seches,Tot.', 'Non-cereales', 'Riz, total',\n",
       "       'Sucre, total', 'Cereales Secondaires', 'Lait, total',\n",
       "       'Melanges et preparations', 'Poiss&produi', 'BulgurFarEnt',\n",
       "       'Viande Total', 'Graisses Com'], dtype=object)"
      ]
     },
     "execution_count": 13,
     "metadata": {},
     "output_type": "execute_result"
    }
   ],
   "source": [
    "aide_alimentaire.Produit.unique()"
   ]
  },
  {
   "cell_type": "markdown",
   "id": "5446332f",
   "metadata": {},
   "source": [
    "La table *aide_alimentaire* contient l'information sur la quantité qui a été donnée comme aide alimentaire (en tonnes) à 76 pays entre 2013 et 2016. "
   ]
  },
  {
   "cell_type": "markdown",
   "id": "1004b7e8",
   "metadata": {},
   "source": [
    "### Disponibilité alimentaire"
   ]
  },
  {
   "cell_type": "code",
   "execution_count": 14,
   "id": "11002d9c",
   "metadata": {},
   "outputs": [
    {
     "name": "stdout",
     "output_type": "stream",
     "text": [
      "Zone\n",
      "Produit\n",
      "Origine\n",
      "Aliments pour animaux\n",
      "Autres Utilisations\n",
      "Disponibilite alimentaire (Kcal/personne/jour)\n",
      "Disponibilite alimentaire en quantite (kg/personne/an)\n",
      "Disponibilite de matiere grasse en quantite (g/personne/jour)\n",
      "Disponibilite de proteines en quantite (g/personne/jour)\n",
      "Disponibilite interieure\n",
      "Exportations - Quantite\n",
      "Importations - Quantite\n",
      "Nourriture\n",
      "Pertes\n",
      "Production\n",
      "Semences\n",
      "Traitement\n",
      "Variation de stock\n"
     ]
    }
   ],
   "source": [
    "for col in dispo_alimentaire.columns:\n",
    "    print(col)"
   ]
  },
  {
   "cell_type": "code",
   "execution_count": 15,
   "id": "43542eb7",
   "metadata": {},
   "outputs": [
    {
     "data": {
      "text/plain": [
       "174"
      ]
     },
     "execution_count": 15,
     "metadata": {},
     "output_type": "execute_result"
    }
   ],
   "source": [
    "len(dispo_alimentaire.Zone.unique())"
   ]
  },
  {
   "cell_type": "code",
   "execution_count": 16,
   "id": "d8ad2768",
   "metadata": {},
   "outputs": [
    {
     "data": {
      "text/plain": [
       "98"
      ]
     },
     "execution_count": 16,
     "metadata": {},
     "output_type": "execute_result"
    }
   ],
   "source": [
    "len(dispo_alimentaire.Produit.unique())"
   ]
  },
  {
   "cell_type": "markdown",
   "id": "8b4abe98",
   "metadata": {},
   "source": [
    "La table *dispo_alimentaire* montre la disponibilité alimentaire de 98 produits pour l’année 2017 pour 174 pays. \n",
    "\n",
    "La table contient 17 variables :\n",
    "-\tLe pays.\n",
    "\n",
    "-\tLe produit (98 type).\n",
    "\n",
    "-   Une variable type qui précise si le produit est d’origine animale ou végétale.\n",
    "\n",
    "-\t4 variables de disponibilité alimentaire (unités précisées directement dans le nom de la variable).\n",
    "\n",
    "-\t10 variables qui précisent les utilisations/moyens d’acquisition de la disponibilité alimentaire (en milliers de tonnes).\n",
    "\n"
   ]
  },
  {
   "cell_type": "code",
   "execution_count": 17,
   "id": "df9199f6",
   "metadata": {},
   "outputs": [],
   "source": [
    "dispo_alimentaire = dispo_alimentaire.fillna(0)"
   ]
  },
  {
   "cell_type": "code",
   "execution_count": 18,
   "id": "d5ce9256",
   "metadata": {},
   "outputs": [],
   "source": [
    "dispo_alimentaire = dispo_alimentaire.replace({'Zone':{'Tchequie (la)':'Tchequie'}})\n",
    "dispo_alimentaire = dispo_alimentaire.replace({'Zone':{'Royaume-Uni':\"Royaume-Uni de Grande-Bretagne et d'Irlande du Nord\"}})"
   ]
  },
  {
   "cell_type": "markdown",
   "id": "e8b68d6c",
   "metadata": {},
   "source": [
    "## 1. La proportion de personnes en état de sous-nutrition"
   ]
  },
  {
   "cell_type": "markdown",
   "id": "0ba91a4c",
   "metadata": {},
   "source": [
    "Pour calculer la proportion je vais ajouter la population à la table de sous-nutrition."
   ]
  },
  {
   "cell_type": "code",
   "execution_count": 19,
   "id": "4c413aa3",
   "metadata": {},
   "outputs": [],
   "source": [
    "sous_nutrition_17 = pd.merge(sous_nutrition_17, population_17, how='left', on='Zone')\n",
    "sous_nutrition_17['Pourcent sous-nutrition'] = 100*1000*sous_nutrition_17['Valeur']/sous_nutrition_17['Population']"
   ]
  },
  {
   "cell_type": "markdown",
   "id": "48aa911b",
   "metadata": {},
   "source": [
    "Les 5 pays avec le pourcentage de la population en sous-nutrition le plus elevé:"
   ]
  },
  {
   "cell_type": "code",
   "execution_count": 20,
   "id": "746d75b4",
   "metadata": {},
   "outputs": [
    {
     "data": {
      "text/html": [
       "<div>\n",
       "<style scoped>\n",
       "    .dataframe tbody tr th:only-of-type {\n",
       "        vertical-align: middle;\n",
       "    }\n",
       "\n",
       "    .dataframe tbody tr th {\n",
       "        vertical-align: top;\n",
       "    }\n",
       "\n",
       "    .dataframe thead th {\n",
       "        text-align: right;\n",
       "    }\n",
       "</style>\n",
       "<table border=\"1\" class=\"dataframe\">\n",
       "  <thead>\n",
       "    <tr style=\"text-align: right;\">\n",
       "      <th></th>\n",
       "      <th>Zone</th>\n",
       "      <th>Annee</th>\n",
       "      <th>Valeur</th>\n",
       "      <th>Population</th>\n",
       "      <th>Pourcent sous-nutrition</th>\n",
       "    </tr>\n",
       "  </thead>\n",
       "  <tbody>\n",
       "    <tr>\n",
       "      <th>78</th>\n",
       "      <td>Haiti</td>\n",
       "      <td>2017</td>\n",
       "      <td>5.3</td>\n",
       "      <td>10982.366</td>\n",
       "      <td>48.259182</td>\n",
       "    </tr>\n",
       "    <tr>\n",
       "      <th>157</th>\n",
       "      <td>Republique populaire democratique de Coree</td>\n",
       "      <td>2017</td>\n",
       "      <td>12.0</td>\n",
       "      <td>25429.825</td>\n",
       "      <td>47.188685</td>\n",
       "    </tr>\n",
       "    <tr>\n",
       "      <th>108</th>\n",
       "      <td>Madagascar</td>\n",
       "      <td>2017</td>\n",
       "      <td>10.5</td>\n",
       "      <td>25570.512</td>\n",
       "      <td>41.062924</td>\n",
       "    </tr>\n",
       "    <tr>\n",
       "      <th>103</th>\n",
       "      <td>Liberia</td>\n",
       "      <td>2017</td>\n",
       "      <td>1.8</td>\n",
       "      <td>4702.226</td>\n",
       "      <td>38.279742</td>\n",
       "    </tr>\n",
       "    <tr>\n",
       "      <th>100</th>\n",
       "      <td>Lesotho</td>\n",
       "      <td>2017</td>\n",
       "      <td>0.8</td>\n",
       "      <td>2091.534</td>\n",
       "      <td>38.249438</td>\n",
       "    </tr>\n",
       "  </tbody>\n",
       "</table>\n",
       "</div>"
      ],
      "text/plain": [
       "                                           Zone Annee  Valeur  Population  \\\n",
       "78                                        Haiti  2017     5.3   10982.366   \n",
       "157  Republique populaire democratique de Coree  2017    12.0   25429.825   \n",
       "108                                  Madagascar  2017    10.5   25570.512   \n",
       "103                                     Liberia  2017     1.8    4702.226   \n",
       "100                                     Lesotho  2017     0.8    2091.534   \n",
       "\n",
       "     Pourcent sous-nutrition  \n",
       "78                 48.259182  \n",
       "157                47.188685  \n",
       "108                41.062924  \n",
       "103                38.279742  \n",
       "100                38.249438  "
      ]
     },
     "execution_count": 20,
     "metadata": {},
     "output_type": "execute_result"
    }
   ],
   "source": [
    "sous_nutrition_17.sort_values(by='Pourcent sous-nutrition', ascending=False).head()"
   ]
  },
  {
   "cell_type": "code",
   "execution_count": 21,
   "id": "0d1ff8bc",
   "metadata": {},
   "outputs": [
    {
     "data": {
      "text/plain": [
       "535.7"
      ]
     },
     "execution_count": 21,
     "metadata": {},
     "output_type": "execute_result"
    }
   ],
   "source": [
    "sous_nutrition_17['Valeur'].sum()"
   ]
  },
  {
   "cell_type": "code",
   "execution_count": 22,
   "id": "e51da439",
   "metadata": {},
   "outputs": [
    {
     "data": {
      "text/plain": [
       "7.1011968332354165"
      ]
     },
     "execution_count": 22,
     "metadata": {},
     "output_type": "execute_result"
    }
   ],
   "source": [
    "100*1000*sous_nutrition_17['Valeur'].sum()/sous_nutrition_17['Population'].sum()"
   ]
  },
  {
   "cell_type": "markdown",
   "id": "b5bb4ad6",
   "metadata": {},
   "source": [
    "Le nombre total de population en sous-nutrition en 2017 est 535.7 million, ou 7.10% de la planete."
   ]
  },
  {
   "cell_type": "markdown",
   "id": "0a87739f",
   "metadata": {},
   "source": [
    "## 2. Le nombre théorique de personnes qui pourraient être nourries"
   ]
  },
  {
   "cell_type": "markdown",
   "id": "f8db1111",
   "metadata": {},
   "source": [
    "Je vais creer la table *dispo_personne* qui montre la disponibilité alimentaire total par personne, pour chaque pays."
   ]
  },
  {
   "cell_type": "code",
   "execution_count": 23,
   "id": "0bf6c780",
   "metadata": {},
   "outputs": [],
   "source": [
    "dispo_personne = pd.pivot_table(dispo_alimentaire, values=['Disponibilite alimentaire (Kcal/personne/jour)','Disponibilite alimentaire en quantite (kg/personne/an)'], index=['Zone'],  aggfunc=sum)"
   ]
  },
  {
   "cell_type": "code",
   "execution_count": 24,
   "id": "238e4484",
   "metadata": {},
   "outputs": [],
   "source": [
    "dispo_personne = pd.merge(dispo_personne, population_17, how='left', on='Zone')"
   ]
  },
  {
   "cell_type": "code",
   "execution_count": 25,
   "id": "35982e4b",
   "metadata": {},
   "outputs": [
    {
     "data": {
      "text/html": [
       "<div>\n",
       "<style scoped>\n",
       "    .dataframe tbody tr th:only-of-type {\n",
       "        vertical-align: middle;\n",
       "    }\n",
       "\n",
       "    .dataframe tbody tr th {\n",
       "        vertical-align: top;\n",
       "    }\n",
       "\n",
       "    .dataframe thead th {\n",
       "        text-align: right;\n",
       "    }\n",
       "</style>\n",
       "<table border=\"1\" class=\"dataframe\">\n",
       "  <thead>\n",
       "    <tr style=\"text-align: right;\">\n",
       "      <th></th>\n",
       "      <th>Zone</th>\n",
       "      <th>Disponibilite alimentaire (Kcal/personne/jour)</th>\n",
       "      <th>Disponibilite alimentaire en quantite (kg/personne/an)</th>\n",
       "      <th>Population</th>\n",
       "    </tr>\n",
       "  </thead>\n",
       "  <tbody>\n",
       "    <tr>\n",
       "      <th>131</th>\n",
       "      <td>Republique centrafricaine</td>\n",
       "      <td>1879.0</td>\n",
       "      <td>453.73</td>\n",
       "      <td>4596.023</td>\n",
       "    </tr>\n",
       "    <tr>\n",
       "      <th>172</th>\n",
       "      <td>Zambie</td>\n",
       "      <td>1924.0</td>\n",
       "      <td>350.12</td>\n",
       "      <td>16853.599</td>\n",
       "    </tr>\n",
       "    <tr>\n",
       "      <th>97</th>\n",
       "      <td>Madagascar</td>\n",
       "      <td>2056.0</td>\n",
       "      <td>425.07</td>\n",
       "      <td>25570.512</td>\n",
       "    </tr>\n",
       "    <tr>\n",
       "      <th>0</th>\n",
       "      <td>Afghanistan</td>\n",
       "      <td>2087.0</td>\n",
       "      <td>351.41</td>\n",
       "      <td>36296.113</td>\n",
       "    </tr>\n",
       "    <tr>\n",
       "      <th>70</th>\n",
       "      <td>Haiti</td>\n",
       "      <td>2089.0</td>\n",
       "      <td>397.78</td>\n",
       "      <td>10982.366</td>\n",
       "    </tr>\n",
       "    <tr>\n",
       "      <th>...</th>\n",
       "      <td>...</td>\n",
       "      <td>...</td>\n",
       "      <td>...</td>\n",
       "      <td>...</td>\n",
       "    </tr>\n",
       "    <tr>\n",
       "      <th>80</th>\n",
       "      <td>Israel</td>\n",
       "      <td>3610.0</td>\n",
       "      <td>922.14</td>\n",
       "      <td>8243.848</td>\n",
       "    </tr>\n",
       "    <tr>\n",
       "      <th>54</th>\n",
       "      <td>Etats-Unis d'Amerique</td>\n",
       "      <td>3682.0</td>\n",
       "      <td>1002.39</td>\n",
       "      <td>325084.756</td>\n",
       "    </tr>\n",
       "    <tr>\n",
       "      <th>165</th>\n",
       "      <td>Turquie</td>\n",
       "      <td>3708.0</td>\n",
       "      <td>968.15</td>\n",
       "      <td>81116.450</td>\n",
       "    </tr>\n",
       "    <tr>\n",
       "      <th>17</th>\n",
       "      <td>Belgique</td>\n",
       "      <td>3737.0</td>\n",
       "      <td>1002.09</td>\n",
       "      <td>11419.748</td>\n",
       "    </tr>\n",
       "    <tr>\n",
       "      <th>11</th>\n",
       "      <td>Autriche</td>\n",
       "      <td>3770.0</td>\n",
       "      <td>1069.20</td>\n",
       "      <td>8819.901</td>\n",
       "    </tr>\n",
       "  </tbody>\n",
       "</table>\n",
       "<p>174 rows × 4 columns</p>\n",
       "</div>"
      ],
      "text/plain": [
       "                          Zone  \\\n",
       "131  Republique centrafricaine   \n",
       "172                     Zambie   \n",
       "97                  Madagascar   \n",
       "0                  Afghanistan   \n",
       "70                       Haiti   \n",
       "..                         ...   \n",
       "80                      Israel   \n",
       "54       Etats-Unis d'Amerique   \n",
       "165                    Turquie   \n",
       "17                    Belgique   \n",
       "11                    Autriche   \n",
       "\n",
       "     Disponibilite alimentaire (Kcal/personne/jour)  \\\n",
       "131                                          1879.0   \n",
       "172                                          1924.0   \n",
       "97                                           2056.0   \n",
       "0                                            2087.0   \n",
       "70                                           2089.0   \n",
       "..                                              ...   \n",
       "80                                           3610.0   \n",
       "54                                           3682.0   \n",
       "165                                          3708.0   \n",
       "17                                           3737.0   \n",
       "11                                           3770.0   \n",
       "\n",
       "     Disponibilite alimentaire en quantite (kg/personne/an)  Population  \n",
       "131                                             453.73         4596.023  \n",
       "172                                             350.12        16853.599  \n",
       "97                                              425.07        25570.512  \n",
       "0                                               351.41        36296.113  \n",
       "70                                              397.78        10982.366  \n",
       "..                                                 ...              ...  \n",
       "80                                              922.14         8243.848  \n",
       "54                                             1002.39       325084.756  \n",
       "165                                             968.15        81116.450  \n",
       "17                                             1002.09        11419.748  \n",
       "11                                             1069.20         8819.901  \n",
       "\n",
       "[174 rows x 4 columns]"
      ]
     },
     "execution_count": 25,
     "metadata": {},
     "output_type": "execute_result"
    }
   ],
   "source": [
    "dispo_personne.sort_values(by=['Disponibilite alimentaire (Kcal/personne/jour)'])"
   ]
  },
  {
   "cell_type": "code",
   "execution_count": 26,
   "id": "8e7a939c",
   "metadata": {},
   "outputs": [],
   "source": [
    "dispo_personne['total_kcal'] = dispo_personne['Disponibilite alimentaire (Kcal/personne/jour)']*dispo_personne['Population']*1000"
   ]
  },
  {
   "cell_type": "code",
   "execution_count": 27,
   "id": "394177c0",
   "metadata": {},
   "outputs": [
    {
     "data": {
      "text/plain": [
       "7369.269325000005"
      ]
     },
     "execution_count": 27,
     "metadata": {},
     "output_type": "execute_result"
    }
   ],
   "source": [
    "sum(dispo_personne['Population'])/1000"
   ]
  },
  {
   "cell_type": "code",
   "execution_count": 28,
   "id": "03c9b4b7",
   "metadata": {},
   "outputs": [
    {
     "data": {
      "text/plain": [
       "9414.294554189333"
      ]
     },
     "execution_count": 28,
     "metadata": {},
     "output_type": "execute_result"
    }
   ],
   "source": [
    "sum(dispo_personne['total_kcal'])/2250/1000000"
   ]
  },
  {
   "cell_type": "code",
   "execution_count": 29,
   "id": "5a4c44a6",
   "metadata": {},
   "outputs": [
    {
     "data": {
      "text/plain": [
       "127.75071908759864"
      ]
     },
     "execution_count": 29,
     "metadata": {},
     "output_type": "execute_result"
    }
   ],
   "source": [
    "100*(sum(dispo_personne['total_kcal'])/2250/1000000)/(sum(dispo_personne['Population'])/1000)"
   ]
  },
  {
   "cell_type": "markdown",
   "id": "c206dd17",
   "metadata": {},
   "source": [
    "Théoriquement, 9.4 milliard de personnes pourraient être nourries en 2017, ce qui représente 27,75% de plus de la population mondiale, en supposant qu'une personne a besoin de 2250 calories par jour en moyenne (femme 2000kcal, homme 2500kcal)."
   ]
  },
  {
   "cell_type": "markdown",
   "id": "41b44239",
   "metadata": {},
   "source": [
    "## 3. Le nombre théorique de personnes qui pourraient être nourries avec des produits végétaux"
   ]
  },
  {
   "cell_type": "markdown",
   "id": "bfd78981",
   "metadata": {},
   "source": [
    "Je vais creer la table *dispo_personne_tot_vege* qui montre la disponibilité alimentaire des produits vegetaux par personne, pour chaque pays. "
   ]
  },
  {
   "cell_type": "code",
   "execution_count": 30,
   "id": "7eda0dda",
   "metadata": {},
   "outputs": [],
   "source": [
    "dispo_alimentaire_vege = dispo_alimentaire[dispo_alimentaire['Origine']==\"vegetale\"]\n",
    "dispo_personne_vege = pd.pivot_table(dispo_alimentaire_vege, values=['Disponibilite alimentaire (Kcal/personne/jour)'], index=['Zone'],  aggfunc=sum)\n",
    "dispo_personne_tot_vege = pd.merge(dispo_personne, dispo_personne_vege, on='Zone')\n",
    "dispo_personne_tot_vege = dispo_personne_tot_vege.drop(columns=['Disponibilite alimentaire en quantite (kg/personne/an)'])\n",
    "dispo_personne_tot_vege = dispo_personne_tot_vege.rename(columns={'Disponibilite alimentaire (Kcal/personne/jour)_x':'Disponibilite alimentaire (Kcal/personne/jour)_total', 'Disponibilite alimentaire (Kcal/personne/jour)_y':'Disponibilite alimentaire (Kcal/personne/jour)_vege'})\n",
    "dispo_personne_tot_vege['Pourcentage kcal vege'] = 100*dispo_personne_tot_vege['Disponibilite alimentaire (Kcal/personne/jour)_vege']/dispo_personne_tot_vege['Disponibilite alimentaire (Kcal/personne/jour)_total']\n",
    "dispo_personne_tot_vege['total kcal vege'] = dispo_personne_tot_vege['Disponibilite alimentaire (Kcal/personne/jour)_vege']*1000*dispo_personne_tot_vege['Population']"
   ]
  },
  {
   "cell_type": "code",
   "execution_count": 31,
   "id": "0b4d49c3",
   "metadata": {},
   "outputs": [
    {
     "data": {
      "text/plain": [
       "7755.337519527111"
      ]
     },
     "execution_count": 31,
     "metadata": {},
     "output_type": "execute_result"
    }
   ],
   "source": [
    "sum(dispo_personne_tot_vege['total kcal vege'])/2250/1000000"
   ]
  },
  {
   "cell_type": "code",
   "execution_count": 32,
   "id": "36d03867",
   "metadata": {},
   "outputs": [
    {
     "data": {
      "text/plain": [
       "105.23889381023683"
      ]
     },
     "execution_count": 32,
     "metadata": {},
     "output_type": "execute_result"
    }
   ],
   "source": [
    "100*(sum(dispo_personne_tot_vege['total kcal vege'])/2250/1000000)/(sum(dispo_personne['Population'])/1000)"
   ]
  },
  {
   "cell_type": "markdown",
   "id": "7e1609cb",
   "metadata": {},
   "source": [
    "Théoriquement, toute la population mondiale pourraient être nourries avec des produits végétaux (plus précisément, 5.24% de plus). "
   ]
  },
  {
   "cell_type": "code",
   "execution_count": 33,
   "id": "7c5423c8",
   "metadata": {},
   "outputs": [
    {
     "data": {
      "text/plain": [
       "52.87356321839081"
      ]
     },
     "execution_count": 33,
     "metadata": {},
     "output_type": "execute_result"
    }
   ],
   "source": [
    "100*sum(dispo_personne_tot_vege['Disponibilite alimentaire (Kcal/personne/jour)_vege']>=2250)/len(dispo_personne_tot_vege)"
   ]
  },
  {
   "cell_type": "markdown",
   "id": "c28bccb0",
   "metadata": {},
   "source": [
    "Cependant, à cause de la répartition inégale, seulement 52.87% des pays pourraient en réalité être nourris uniquement avec des produits végétaux."
   ]
  },
  {
   "cell_type": "markdown",
   "id": "c1b12fcd",
   "metadata": {},
   "source": [
    "## 4. L’utilisation de la disponibilité intérieure (la part qui est attribuée à l’alimentation animale, celle qui est perdue et celle qui est concrètement utilisée pour l'alimentation humaine)"
   ]
  },
  {
   "cell_type": "markdown",
   "id": "02946fc2",
   "metadata": {},
   "source": [
    "Je vais creer une table *dispo_interieur* comme le tableau croisé dynamique à partir de la table *dispo_alimentaire. "
   ]
  },
  {
   "cell_type": "code",
   "execution_count": 34,
   "id": "1fb680b4",
   "metadata": {},
   "outputs": [],
   "source": [
    "dispo_interieur = pd.pivot_table(dispo_alimentaire, values=['Disponibilite interieure','Production','Importations - Quantite','Exportations - Quantite','Variation de stock', 'Nourriture', 'Aliments pour animaux','Semences','Traitement','Autres Utilisations', 'Pertes' ], index=['Zone'],  aggfunc=sum )"
   ]
  },
  {
   "cell_type": "code",
   "execution_count": 35,
   "id": "32e5b2b6",
   "metadata": {},
   "outputs": [
    {
     "data": {
      "text/html": [
       "<div>\n",
       "<style scoped>\n",
       "    .dataframe tbody tr th:only-of-type {\n",
       "        vertical-align: middle;\n",
       "    }\n",
       "\n",
       "    .dataframe tbody tr th {\n",
       "        vertical-align: top;\n",
       "    }\n",
       "\n",
       "    .dataframe thead th {\n",
       "        text-align: right;\n",
       "    }\n",
       "</style>\n",
       "<table border=\"1\" class=\"dataframe\">\n",
       "  <thead>\n",
       "    <tr style=\"text-align: right;\">\n",
       "      <th></th>\n",
       "      <th>Aliments pour animaux</th>\n",
       "      <th>Autres Utilisations</th>\n",
       "      <th>Disponibilite interieure</th>\n",
       "      <th>Exportations - Quantite</th>\n",
       "      <th>Importations - Quantite</th>\n",
       "      <th>Nourriture</th>\n",
       "      <th>Pertes</th>\n",
       "      <th>Production</th>\n",
       "      <th>Semences</th>\n",
       "      <th>Traitement</th>\n",
       "      <th>Variation de stock</th>\n",
       "    </tr>\n",
       "    <tr>\n",
       "      <th>Zone</th>\n",
       "      <th></th>\n",
       "      <th></th>\n",
       "      <th></th>\n",
       "      <th></th>\n",
       "      <th></th>\n",
       "      <th></th>\n",
       "      <th></th>\n",
       "      <th></th>\n",
       "      <th></th>\n",
       "      <th></th>\n",
       "      <th></th>\n",
       "    </tr>\n",
       "  </thead>\n",
       "  <tbody>\n",
       "    <tr>\n",
       "      <th>Afghanistan</th>\n",
       "      <td>768.0</td>\n",
       "      <td>415.0</td>\n",
       "      <td>13515.0</td>\n",
       "      <td>278.0</td>\n",
       "      <td>2988.0</td>\n",
       "      <td>10735.0</td>\n",
       "      <td>1135.0</td>\n",
       "      <td>11171.0</td>\n",
       "      <td>395.0</td>\n",
       "      <td>63.0</td>\n",
       "      <td>-368.0</td>\n",
       "    </tr>\n",
       "    <tr>\n",
       "      <th>Afrique du Sud</th>\n",
       "      <td>5309.0</td>\n",
       "      <td>876.0</td>\n",
       "      <td>61256.0</td>\n",
       "      <td>11674.0</td>\n",
       "      <td>7517.0</td>\n",
       "      <td>29812.0</td>\n",
       "      <td>2193.0</td>\n",
       "      <td>63263.0</td>\n",
       "      <td>253.0</td>\n",
       "      <td>22819.0</td>\n",
       "      <td>2153.0</td>\n",
       "    </tr>\n",
       "    <tr>\n",
       "      <th>Albanie</th>\n",
       "      <td>660.0</td>\n",
       "      <td>174.0</td>\n",
       "      <td>4758.0</td>\n",
       "      <td>94.0</td>\n",
       "      <td>933.0</td>\n",
       "      <td>3476.0</td>\n",
       "      <td>276.0</td>\n",
       "      <td>3964.0</td>\n",
       "      <td>55.0</td>\n",
       "      <td>113.0</td>\n",
       "      <td>-45.0</td>\n",
       "    </tr>\n",
       "    <tr>\n",
       "      <th>Algerie</th>\n",
       "      <td>4352.0</td>\n",
       "      <td>1707.0</td>\n",
       "      <td>42630.0</td>\n",
       "      <td>655.0</td>\n",
       "      <td>17403.0</td>\n",
       "      <td>31729.0</td>\n",
       "      <td>3753.0</td>\n",
       "      <td>26359.0</td>\n",
       "      <td>449.0</td>\n",
       "      <td>637.0</td>\n",
       "      <td>-479.0</td>\n",
       "    </tr>\n",
       "    <tr>\n",
       "      <th>Allemagne</th>\n",
       "      <td>30209.0</td>\n",
       "      <td>7711.0</td>\n",
       "      <td>162275.0</td>\n",
       "      <td>57431.0</td>\n",
       "      <td>65353.0</td>\n",
       "      <td>79238.0</td>\n",
       "      <td>3781.0</td>\n",
       "      <td>154547.0</td>\n",
       "      <td>1551.0</td>\n",
       "      <td>39842.0</td>\n",
       "      <td>-192.0</td>\n",
       "    </tr>\n",
       "  </tbody>\n",
       "</table>\n",
       "</div>"
      ],
      "text/plain": [
       "                Aliments pour animaux  Autres Utilisations  \\\n",
       "Zone                                                         \n",
       "Afghanistan                     768.0                415.0   \n",
       "Afrique du Sud                 5309.0                876.0   \n",
       "Albanie                         660.0                174.0   \n",
       "Algerie                        4352.0               1707.0   \n",
       "Allemagne                     30209.0               7711.0   \n",
       "\n",
       "                Disponibilite interieure  Exportations - Quantite  \\\n",
       "Zone                                                                \n",
       "Afghanistan                      13515.0                    278.0   \n",
       "Afrique du Sud                   61256.0                  11674.0   \n",
       "Albanie                           4758.0                     94.0   \n",
       "Algerie                          42630.0                    655.0   \n",
       "Allemagne                       162275.0                  57431.0   \n",
       "\n",
       "                Importations - Quantite  Nourriture  Pertes  Production  \\\n",
       "Zone                                                                      \n",
       "Afghanistan                      2988.0     10735.0  1135.0     11171.0   \n",
       "Afrique du Sud                   7517.0     29812.0  2193.0     63263.0   \n",
       "Albanie                           933.0      3476.0   276.0      3964.0   \n",
       "Algerie                         17403.0     31729.0  3753.0     26359.0   \n",
       "Allemagne                       65353.0     79238.0  3781.0    154547.0   \n",
       "\n",
       "                Semences  Traitement  Variation de stock  \n",
       "Zone                                                      \n",
       "Afghanistan        395.0        63.0              -368.0  \n",
       "Afrique du Sud     253.0     22819.0              2153.0  \n",
       "Albanie             55.0       113.0               -45.0  \n",
       "Algerie            449.0       637.0              -479.0  \n",
       "Allemagne         1551.0     39842.0              -192.0  "
      ]
     },
     "execution_count": 35,
     "metadata": {},
     "output_type": "execute_result"
    }
   ],
   "source": [
    "dispo_interieur.head()"
   ]
  },
  {
   "cell_type": "code",
   "execution_count": 36,
   "id": "be45b78c",
   "metadata": {
    "scrolled": true
   },
   "outputs": [],
   "source": [
    "dispo_interieur['dispo_interieur calculee'] = dispo_interieur['Production']+dispo_interieur['Variation de stock']+dispo_interieur['Importations - Quantite']-dispo_interieur['Exportations - Quantite']"
   ]
  },
  {
   "cell_type": "code",
   "execution_count": 37,
   "id": "2e543114",
   "metadata": {},
   "outputs": [
    {
     "data": {
      "text/plain": [
       "(0.9999999998062397, 0.0)"
      ]
     },
     "execution_count": 37,
     "metadata": {},
     "output_type": "execute_result"
    }
   ],
   "source": [
    "from scipy.stats import pearsonr\n",
    "pearsonr(dispo_interieur['Disponibilite interieure'], dispo_interieur['dispo_interieur calculee'])"
   ]
  },
  {
   "cell_type": "code",
   "execution_count": 38,
   "id": "2d807fe6",
   "metadata": {},
   "outputs": [
    {
     "data": {
      "text/html": [
       "<div>\n",
       "<style scoped>\n",
       "    .dataframe tbody tr th:only-of-type {\n",
       "        vertical-align: middle;\n",
       "    }\n",
       "\n",
       "    .dataframe tbody tr th {\n",
       "        vertical-align: top;\n",
       "    }\n",
       "\n",
       "    .dataframe thead th {\n",
       "        text-align: right;\n",
       "    }\n",
       "</style>\n",
       "<table border=\"1\" class=\"dataframe\">\n",
       "  <thead>\n",
       "    <tr style=\"text-align: right;\">\n",
       "      <th></th>\n",
       "      <th>Disponibilite interieure</th>\n",
       "      <th>dispo_interieur calculee</th>\n",
       "    </tr>\n",
       "  </thead>\n",
       "  <tbody>\n",
       "    <tr>\n",
       "      <th>count</th>\n",
       "      <td>1.740000e+02</td>\n",
       "      <td>1.740000e+02</td>\n",
       "    </tr>\n",
       "    <tr>\n",
       "      <th>mean</th>\n",
       "      <td>5.660341e+04</td>\n",
       "      <td>5.660444e+04</td>\n",
       "    </tr>\n",
       "    <tr>\n",
       "      <th>std</th>\n",
       "      <td>2.008030e+05</td>\n",
       "      <td>2.008034e+05</td>\n",
       "    </tr>\n",
       "    <tr>\n",
       "      <th>min</th>\n",
       "      <td>5.900000e+01</td>\n",
       "      <td>5.900000e+01</td>\n",
       "    </tr>\n",
       "    <tr>\n",
       "      <th>25%</th>\n",
       "      <td>2.854500e+03</td>\n",
       "      <td>2.857750e+03</td>\n",
       "    </tr>\n",
       "    <tr>\n",
       "      <th>50%</th>\n",
       "      <td>1.113200e+04</td>\n",
       "      <td>1.113350e+04</td>\n",
       "    </tr>\n",
       "    <tr>\n",
       "      <th>75%</th>\n",
       "      <td>3.122925e+04</td>\n",
       "      <td>3.122550e+04</td>\n",
       "    </tr>\n",
       "    <tr>\n",
       "      <th>max</th>\n",
       "      <td>2.036726e+06</td>\n",
       "      <td>2.036728e+06</td>\n",
       "    </tr>\n",
       "  </tbody>\n",
       "</table>\n",
       "</div>"
      ],
      "text/plain": [
       "       Disponibilite interieure  dispo_interieur calculee\n",
       "count              1.740000e+02              1.740000e+02\n",
       "mean               5.660341e+04              5.660444e+04\n",
       "std                2.008030e+05              2.008034e+05\n",
       "min                5.900000e+01              5.900000e+01\n",
       "25%                2.854500e+03              2.857750e+03\n",
       "50%                1.113200e+04              1.113350e+04\n",
       "75%                3.122925e+04              3.122550e+04\n",
       "max                2.036726e+06              2.036728e+06"
      ]
     },
     "execution_count": 38,
     "metadata": {},
     "output_type": "execute_result"
    }
   ],
   "source": [
    "dispo_interieur[{'Disponibilite interieure', 'dispo_interieur calculee'}].describe()"
   ]
  },
  {
   "cell_type": "markdown",
   "id": "c6a58153",
   "metadata": {},
   "source": [
    "Les résultats ci-dessus confirment que la formule de disponibilité alimentaire est :\n",
    "\n",
    "$$Disponibilité\\,\\, interieur = Production + Importations - Exportations + Variation\\,\\, des\\,\\, Stocks$$"
   ]
  },
  {
   "cell_type": "code",
   "execution_count": 39,
   "id": "1488fe90",
   "metadata": {},
   "outputs": [],
   "source": [
    "dispo_interieur['alimentation humaine'] = dispo_interieur['Disponibilite interieure']-dispo_interieur['Aliments pour animaux']-dispo_interieur['Autres Utilisations']-dispo_interieur['Semences']-dispo_interieur['Traitement']-dispo_interieur['Pertes']"
   ]
  },
  {
   "cell_type": "code",
   "execution_count": 40,
   "id": "cc26a43e",
   "metadata": {},
   "outputs": [
    {
     "data": {
      "text/plain": [
       "(0.9999947122144711, 0.0)"
      ]
     },
     "execution_count": 40,
     "metadata": {},
     "output_type": "execute_result"
    }
   ],
   "source": [
    "pearsonr(dispo_interieur['Nourriture'], dispo_interieur['alimentation humaine'])"
   ]
  },
  {
   "cell_type": "markdown",
   "id": "f4045c8a",
   "metadata": {},
   "source": [
    "Les résultats ci-dessus confirment que la formule de disponibilité de l’alimentation humaine est : \n",
    "\n",
    "$$Nouriture = Disponibilite\\,\\, interieur - Alimentation\\,\\, animale - Autres\\,\\, usages- Semences – Traitement  – Pertes$$"
   ]
  },
  {
   "cell_type": "markdown",
   "id": "9138da49",
   "metadata": {},
   "source": [
    "En combinant les deux formules ensemble, on a l'identité suivante:\n",
    "\n",
    "$Disponibilite\\,\\, interieur =$\n",
    "\n",
    "$=Production + Importations - Exportations + Variation\\,\\, des\\,\\, Stocks$\n",
    "\n",
    "$=Nouriture+Alimentation\\,\\, animale + Autres\\,\\, usages + Semences + Traitement + Pertes$\n"
   ]
  },
  {
   "cell_type": "code",
   "execution_count": 41,
   "id": "3a11b178",
   "metadata": {},
   "outputs": [],
   "source": [
    "dispo_interieur['pourcent animaux'] = 100*(dispo_interieur['Aliments pour animaux'])/(dispo_interieur['Disponibilite interieure'])\n",
    "dispo_interieur['pourcent pertes'] = 100*(dispo_interieur['Pertes'])/(dispo_interieur['Disponibilite interieure'])\n",
    "dispo_interieur['pourcent nourriture'] = 100*(dispo_interieur['Nourriture'])/(dispo_interieur['Disponibilite interieure'])"
   ]
  },
  {
   "cell_type": "code",
   "execution_count": 42,
   "id": "dccc7809",
   "metadata": {},
   "outputs": [
    {
     "data": {
      "text/html": [
       "<div>\n",
       "<style scoped>\n",
       "    .dataframe tbody tr th:only-of-type {\n",
       "        vertical-align: middle;\n",
       "    }\n",
       "\n",
       "    .dataframe tbody tr th {\n",
       "        vertical-align: top;\n",
       "    }\n",
       "\n",
       "    .dataframe thead th {\n",
       "        text-align: right;\n",
       "    }\n",
       "</style>\n",
       "<table border=\"1\" class=\"dataframe\">\n",
       "  <thead>\n",
       "    <tr style=\"text-align: right;\">\n",
       "      <th></th>\n",
       "      <th>pourcent pertes</th>\n",
       "      <th>pourcent animaux</th>\n",
       "      <th>pourcent nourriture</th>\n",
       "    </tr>\n",
       "  </thead>\n",
       "  <tbody>\n",
       "    <tr>\n",
       "      <th>count</th>\n",
       "      <td>174.000000</td>\n",
       "      <td>174.000000</td>\n",
       "      <td>174.000000</td>\n",
       "    </tr>\n",
       "    <tr>\n",
       "      <th>mean</th>\n",
       "      <td>4.656214</td>\n",
       "      <td>12.024054</td>\n",
       "      <td>57.522398</td>\n",
       "    </tr>\n",
       "    <tr>\n",
       "      <th>std</th>\n",
       "      <td>4.094526</td>\n",
       "      <td>9.754659</td>\n",
       "      <td>18.520794</td>\n",
       "    </tr>\n",
       "    <tr>\n",
       "      <th>min</th>\n",
       "      <td>0.000000</td>\n",
       "      <td>0.000000</td>\n",
       "      <td>9.788155</td>\n",
       "    </tr>\n",
       "    <tr>\n",
       "      <th>25%</th>\n",
       "      <td>2.121844</td>\n",
       "      <td>3.548217</td>\n",
       "      <td>46.268607</td>\n",
       "    </tr>\n",
       "    <tr>\n",
       "      <th>50%</th>\n",
       "      <td>3.633931</td>\n",
       "      <td>10.223261</td>\n",
       "      <td>57.743815</td>\n",
       "    </tr>\n",
       "    <tr>\n",
       "      <th>75%</th>\n",
       "      <td>5.891000</td>\n",
       "      <td>17.821802</td>\n",
       "      <td>71.837118</td>\n",
       "    </tr>\n",
       "    <tr>\n",
       "      <th>max</th>\n",
       "      <td>33.348554</td>\n",
       "      <td>39.672895</td>\n",
       "      <td>96.083551</td>\n",
       "    </tr>\n",
       "  </tbody>\n",
       "</table>\n",
       "</div>"
      ],
      "text/plain": [
       "       pourcent pertes  pourcent animaux  pourcent nourriture\n",
       "count       174.000000        174.000000           174.000000\n",
       "mean          4.656214         12.024054            57.522398\n",
       "std           4.094526          9.754659            18.520794\n",
       "min           0.000000          0.000000             9.788155\n",
       "25%           2.121844          3.548217            46.268607\n",
       "50%           3.633931         10.223261            57.743815\n",
       "75%           5.891000         17.821802            71.837118\n",
       "max          33.348554         39.672895            96.083551"
      ]
     },
     "execution_count": 42,
     "metadata": {},
     "output_type": "execute_result"
    }
   ],
   "source": [
    "dispo_interieur[{'pourcent animaux', 'pourcent pertes', 'pourcent nourriture'}].describe()"
   ]
  },
  {
   "cell_type": "markdown",
   "id": "b0b428c1",
   "metadata": {},
   "source": [
    "En moyenne, 57.5% de disponibilité alimentaire total est utilisé pour l'alimentation humaine, 12% pour l'alimentation animal, et 4.66% est perdu."
   ]
  },
  {
   "cell_type": "markdown",
   "id": "ec280a1d",
   "metadata": {},
   "source": [
    "Les dix pays ou le pourcentage des pertes est le plus eleve sont:"
   ]
  },
  {
   "cell_type": "code",
   "execution_count": 43,
   "id": "028d4feb",
   "metadata": {},
   "outputs": [
    {
     "data": {
      "text/html": [
       "<div>\n",
       "<style scoped>\n",
       "    .dataframe tbody tr th:only-of-type {\n",
       "        vertical-align: middle;\n",
       "    }\n",
       "\n",
       "    .dataframe tbody tr th {\n",
       "        vertical-align: top;\n",
       "    }\n",
       "\n",
       "    .dataframe thead th {\n",
       "        text-align: right;\n",
       "    }\n",
       "</style>\n",
       "<table border=\"1\" class=\"dataframe\">\n",
       "  <thead>\n",
       "    <tr style=\"text-align: right;\">\n",
       "      <th></th>\n",
       "      <th>Zone</th>\n",
       "      <th>Disponibilite interieure</th>\n",
       "      <th>Nourriture</th>\n",
       "      <th>Pertes</th>\n",
       "      <th>pourcent animaux</th>\n",
       "      <th>pourcent pertes</th>\n",
       "      <th>pourcent nourriture</th>\n",
       "      <th>Pourcent sous-nutrition</th>\n",
       "    </tr>\n",
       "  </thead>\n",
       "  <tbody>\n",
       "    <tr>\n",
       "      <th>148</th>\n",
       "      <td>Sierra Leone</td>\n",
       "      <td>6570.0</td>\n",
       "      <td>3070.0</td>\n",
       "      <td>2191.0</td>\n",
       "      <td>13.713851</td>\n",
       "      <td>33.348554</td>\n",
       "      <td>46.727549</td>\n",
       "      <td>26.707893</td>\n",
       "    </tr>\n",
       "    <tr>\n",
       "      <th>63</th>\n",
       "      <td>Ghana</td>\n",
       "      <td>38998.0</td>\n",
       "      <td>22482.0</td>\n",
       "      <td>7442.0</td>\n",
       "      <td>12.508334</td>\n",
       "      <td>19.083030</td>\n",
       "      <td>57.649110</td>\n",
       "      <td>6.867786</td>\n",
       "    </tr>\n",
       "    <tr>\n",
       "      <th>30</th>\n",
       "      <td>Cameroun</td>\n",
       "      <td>26222.0</td>\n",
       "      <td>15259.0</td>\n",
       "      <td>3981.0</td>\n",
       "      <td>8.260239</td>\n",
       "      <td>15.181908</td>\n",
       "      <td>58.191595</td>\n",
       "      <td>6.513047</td>\n",
       "    </tr>\n",
       "    <tr>\n",
       "      <th>5</th>\n",
       "      <td>Angola</td>\n",
       "      <td>32029.0</td>\n",
       "      <td>15059.0</td>\n",
       "      <td>4799.0</td>\n",
       "      <td>28.908177</td>\n",
       "      <td>14.983296</td>\n",
       "      <td>47.016766</td>\n",
       "      <td>19.452143</td>\n",
       "    </tr>\n",
       "    <tr>\n",
       "      <th>46</th>\n",
       "      <td>Dominique</td>\n",
       "      <td>141.0</td>\n",
       "      <td>68.0</td>\n",
       "      <td>20.0</td>\n",
       "      <td>14.184397</td>\n",
       "      <td>14.184397</td>\n",
       "      <td>48.226950</td>\n",
       "      <td>0.000000</td>\n",
       "    </tr>\n",
       "    <tr>\n",
       "      <th>67</th>\n",
       "      <td>Guinee</td>\n",
       "      <td>8404.0</td>\n",
       "      <td>5711.0</td>\n",
       "      <td>1074.0</td>\n",
       "      <td>7.710614</td>\n",
       "      <td>12.779629</td>\n",
       "      <td>67.955735</td>\n",
       "      <td>0.000000</td>\n",
       "    </tr>\n",
       "    <tr>\n",
       "      <th>99</th>\n",
       "      <td>Malawi</td>\n",
       "      <td>19877.0</td>\n",
       "      <td>8607.0</td>\n",
       "      <td>2428.0</td>\n",
       "      <td>20.169040</td>\n",
       "      <td>12.215123</td>\n",
       "      <td>43.301303</td>\n",
       "      <td>18.675514</td>\n",
       "    </tr>\n",
       "    <tr>\n",
       "      <th>161</th>\n",
       "      <td>Togo</td>\n",
       "      <td>4095.0</td>\n",
       "      <td>3186.0</td>\n",
       "      <td>476.0</td>\n",
       "      <td>3.687424</td>\n",
       "      <td>11.623932</td>\n",
       "      <td>77.802198</td>\n",
       "      <td>20.783340</td>\n",
       "    </tr>\n",
       "    <tr>\n",
       "      <th>26</th>\n",
       "      <td>Bulgarie</td>\n",
       "      <td>9458.0</td>\n",
       "      <td>5111.0</td>\n",
       "      <td>1090.0</td>\n",
       "      <td>11.154578</td>\n",
       "      <td>11.524635</td>\n",
       "      <td>54.038909</td>\n",
       "      <td>2.815932</td>\n",
       "    </tr>\n",
       "  </tbody>\n",
       "</table>\n",
       "</div>"
      ],
      "text/plain": [
       "             Zone  Disponibilite interieure  Nourriture  Pertes  \\\n",
       "148  Sierra Leone                    6570.0      3070.0  2191.0   \n",
       "63          Ghana                   38998.0     22482.0  7442.0   \n",
       "30       Cameroun                   26222.0     15259.0  3981.0   \n",
       "5          Angola                   32029.0     15059.0  4799.0   \n",
       "46      Dominique                     141.0        68.0    20.0   \n",
       "67         Guinee                    8404.0      5711.0  1074.0   \n",
       "99         Malawi                   19877.0      8607.0  2428.0   \n",
       "161          Togo                    4095.0      3186.0   476.0   \n",
       "26       Bulgarie                    9458.0      5111.0  1090.0   \n",
       "\n",
       "     pourcent animaux  pourcent pertes  pourcent nourriture  \\\n",
       "148         13.713851        33.348554            46.727549   \n",
       "63          12.508334        19.083030            57.649110   \n",
       "30           8.260239        15.181908            58.191595   \n",
       "5           28.908177        14.983296            47.016766   \n",
       "46          14.184397        14.184397            48.226950   \n",
       "67           7.710614        12.779629            67.955735   \n",
       "99          20.169040        12.215123            43.301303   \n",
       "161          3.687424        11.623932            77.802198   \n",
       "26          11.154578        11.524635            54.038909   \n",
       "\n",
       "     Pourcent sous-nutrition  \n",
       "148                26.707893  \n",
       "63                  6.867786  \n",
       "30                  6.513047  \n",
       "5                  19.452143  \n",
       "46                  0.000000  \n",
       "67                  0.000000  \n",
       "99                 18.675514  \n",
       "161                20.783340  \n",
       "26                  2.815932  "
      ]
     },
     "execution_count": 43,
     "metadata": {},
     "output_type": "execute_result"
    }
   ],
   "source": [
    "pd.merge(dispo_interieur.drop(columns=['alimentation humaine','dispo_interieur calculee','Variation de stock','Traitement','Semences','Production','Importations - Quantite','Exportations - Quantite','Aliments pour animaux','Autres Utilisations',]),sous_nutrition_17[{'Zone', 'Pourcent sous-nutrition'}], how='left', on='Zone').sort_values(by='pourcent pertes',ascending=False)[0:9]"
   ]
  },
  {
   "cell_type": "markdown",
   "id": "f07a6c1f",
   "metadata": {},
   "source": [
    "C'est interesant de voir que les pays ou le pourcentage des pertes est le plus eleve, sont les pays avec beaucoup de habitants en sous-nutrition.\n",
    "Par contre, les pays ou il n'y a pas de famine, il n'y a meme pas beaucoup de pertes, ce que nous pouvons voir ci-desous."
   ]
  },
  {
   "cell_type": "code",
   "execution_count": 44,
   "id": "b65551bb",
   "metadata": {},
   "outputs": [
    {
     "data": {
      "text/html": [
       "<div>\n",
       "<style scoped>\n",
       "    .dataframe tbody tr th:only-of-type {\n",
       "        vertical-align: middle;\n",
       "    }\n",
       "\n",
       "    .dataframe tbody tr th {\n",
       "        vertical-align: top;\n",
       "    }\n",
       "\n",
       "    .dataframe thead th {\n",
       "        text-align: right;\n",
       "    }\n",
       "</style>\n",
       "<table border=\"1\" class=\"dataframe\">\n",
       "  <thead>\n",
       "    <tr style=\"text-align: right;\">\n",
       "      <th></th>\n",
       "      <th>Zone</th>\n",
       "      <th>Disponibilite interieure</th>\n",
       "      <th>Nourriture</th>\n",
       "      <th>Pertes</th>\n",
       "      <th>pourcent animaux</th>\n",
       "      <th>pourcent pertes</th>\n",
       "      <th>pourcent nourriture</th>\n",
       "      <th>Pourcent sous-nutrition</th>\n",
       "    </tr>\n",
       "  </thead>\n",
       "  <tbody>\n",
       "    <tr>\n",
       "      <th>79</th>\n",
       "      <td>Islande</td>\n",
       "      <td>474.0</td>\n",
       "      <td>301.0</td>\n",
       "      <td>0.0</td>\n",
       "      <td>22.573840</td>\n",
       "      <td>0.000000</td>\n",
       "      <td>63.502110</td>\n",
       "      <td>0.0</td>\n",
       "    </tr>\n",
       "    <tr>\n",
       "      <th>100</th>\n",
       "      <td>Maldives</td>\n",
       "      <td>337.0</td>\n",
       "      <td>277.0</td>\n",
       "      <td>0.0</td>\n",
       "      <td>0.000000</td>\n",
       "      <td>0.000000</td>\n",
       "      <td>82.195846</td>\n",
       "      <td>0.0</td>\n",
       "    </tr>\n",
       "    <tr>\n",
       "      <th>141</th>\n",
       "      <td>Saint-Kitts-et-Nevis</td>\n",
       "      <td>65.0</td>\n",
       "      <td>26.0</td>\n",
       "      <td>0.0</td>\n",
       "      <td>0.000000</td>\n",
       "      <td>0.000000</td>\n",
       "      <td>40.000000</td>\n",
       "      <td>0.0</td>\n",
       "    </tr>\n",
       "    <tr>\n",
       "      <th>6</th>\n",
       "      <td>Antigua-et-Barbuda</td>\n",
       "      <td>79.0</td>\n",
       "      <td>58.0</td>\n",
       "      <td>0.0</td>\n",
       "      <td>0.000000</td>\n",
       "      <td>0.000000</td>\n",
       "      <td>73.417722</td>\n",
       "      <td>0.0</td>\n",
       "    </tr>\n",
       "    <tr>\n",
       "      <th>20</th>\n",
       "      <td>Bermudes</td>\n",
       "      <td>59.0</td>\n",
       "      <td>51.0</td>\n",
       "      <td>0.0</td>\n",
       "      <td>1.694915</td>\n",
       "      <td>0.000000</td>\n",
       "      <td>86.440678</td>\n",
       "      <td>0.0</td>\n",
       "    </tr>\n",
       "    <tr>\n",
       "      <th>88</th>\n",
       "      <td>Kiribati</td>\n",
       "      <td>241.0</td>\n",
       "      <td>67.0</td>\n",
       "      <td>0.0</td>\n",
       "      <td>0.000000</td>\n",
       "      <td>0.000000</td>\n",
       "      <td>27.800830</td>\n",
       "      <td>0.0</td>\n",
       "    </tr>\n",
       "    <tr>\n",
       "      <th>34</th>\n",
       "      <td>Chine - RAS de Macao</td>\n",
       "      <td>383.0</td>\n",
       "      <td>368.0</td>\n",
       "      <td>1.0</td>\n",
       "      <td>0.000000</td>\n",
       "      <td>0.261097</td>\n",
       "      <td>96.083551</td>\n",
       "      <td>0.0</td>\n",
       "    </tr>\n",
       "    <tr>\n",
       "      <th>104</th>\n",
       "      <td>Maurice</td>\n",
       "      <td>4767.0</td>\n",
       "      <td>794.0</td>\n",
       "      <td>15.0</td>\n",
       "      <td>2.139711</td>\n",
       "      <td>0.314663</td>\n",
       "      <td>16.656178</td>\n",
       "      <td>0.0</td>\n",
       "    </tr>\n",
       "    <tr>\n",
       "      <th>58</th>\n",
       "      <td>Finlande</td>\n",
       "      <td>10034.0</td>\n",
       "      <td>5938.0</td>\n",
       "      <td>40.0</td>\n",
       "      <td>21.467012</td>\n",
       "      <td>0.398645</td>\n",
       "      <td>59.178792</td>\n",
       "      <td>0.0</td>\n",
       "    </tr>\n",
       "  </tbody>\n",
       "</table>\n",
       "</div>"
      ],
      "text/plain": [
       "                     Zone  Disponibilite interieure  Nourriture  Pertes  \\\n",
       "79                Islande                     474.0       301.0     0.0   \n",
       "100              Maldives                     337.0       277.0     0.0   \n",
       "141  Saint-Kitts-et-Nevis                      65.0        26.0     0.0   \n",
       "6      Antigua-et-Barbuda                      79.0        58.0     0.0   \n",
       "20               Bermudes                      59.0        51.0     0.0   \n",
       "88               Kiribati                     241.0        67.0     0.0   \n",
       "34   Chine - RAS de Macao                     383.0       368.0     1.0   \n",
       "104               Maurice                    4767.0       794.0    15.0   \n",
       "58               Finlande                   10034.0      5938.0    40.0   \n",
       "\n",
       "     pourcent animaux  pourcent pertes  pourcent nourriture  \\\n",
       "79          22.573840         0.000000            63.502110   \n",
       "100          0.000000         0.000000            82.195846   \n",
       "141          0.000000         0.000000            40.000000   \n",
       "6            0.000000         0.000000            73.417722   \n",
       "20           1.694915         0.000000            86.440678   \n",
       "88           0.000000         0.000000            27.800830   \n",
       "34           0.000000         0.261097            96.083551   \n",
       "104          2.139711         0.314663            16.656178   \n",
       "58          21.467012         0.398645            59.178792   \n",
       "\n",
       "     Pourcent sous-nutrition  \n",
       "79                       0.0  \n",
       "100                      0.0  \n",
       "141                      0.0  \n",
       "6                        0.0  \n",
       "20                       0.0  \n",
       "88                       0.0  \n",
       "34                       0.0  \n",
       "104                      0.0  \n",
       "58                       0.0  "
      ]
     },
     "execution_count": 44,
     "metadata": {},
     "output_type": "execute_result"
    }
   ],
   "source": [
    "pd.merge(dispo_interieur.drop(columns=['alimentation humaine','dispo_interieur calculee','Variation de stock','Traitement','Semences','Production','Importations - Quantite','Exportations - Quantite','Aliments pour animaux','Autres Utilisations',]),sous_nutrition_17[{'Zone', 'Pourcent sous-nutrition'}], how='left', on='Zone').sort_values(by='pourcent pertes')[0:9]"
   ]
  },
  {
   "cell_type": "markdown",
   "id": "7e155b84",
   "metadata": {},
   "source": [
    "## 5. Résultats supplémentaires"
   ]
  },
  {
   "cell_type": "code",
   "execution_count": 45,
   "id": "da469203",
   "metadata": {},
   "outputs": [
    {
     "data": {
      "text/html": [
       "<div>\n",
       "<style scoped>\n",
       "    .dataframe tbody tr th:only-of-type {\n",
       "        vertical-align: middle;\n",
       "    }\n",
       "\n",
       "    .dataframe tbody tr th {\n",
       "        vertical-align: top;\n",
       "    }\n",
       "\n",
       "    .dataframe thead th {\n",
       "        text-align: right;\n",
       "    }\n",
       "</style>\n",
       "<table border=\"1\" class=\"dataframe\">\n",
       "  <thead>\n",
       "    <tr style=\"text-align: right;\">\n",
       "      <th></th>\n",
       "      <th>Zone</th>\n",
       "      <th>Produit</th>\n",
       "      <th>Origine</th>\n",
       "      <th>Aliments pour animaux</th>\n",
       "      <th>Autres Utilisations</th>\n",
       "      <th>Disponibilite alimentaire (Kcal/personne/jour)</th>\n",
       "      <th>Disponibilite alimentaire en quantite (kg/personne/an)</th>\n",
       "      <th>Disponibilite de matiere grasse en quantite (g/personne/jour)</th>\n",
       "      <th>Disponibilite de proteines en quantite (g/personne/jour)</th>\n",
       "      <th>Disponibilite interieure</th>\n",
       "      <th>Exportations - Quantite</th>\n",
       "      <th>Importations - Quantite</th>\n",
       "      <th>Nourriture</th>\n",
       "      <th>Pertes</th>\n",
       "      <th>Production</th>\n",
       "      <th>Semences</th>\n",
       "      <th>Traitement</th>\n",
       "      <th>Variation de stock</th>\n",
       "    </tr>\n",
       "  </thead>\n",
       "  <tbody>\n",
       "    <tr>\n",
       "      <th>13809</th>\n",
       "      <td>Thailande</td>\n",
       "      <td>Manioc</td>\n",
       "      <td>vegetale</td>\n",
       "      <td>1800.0</td>\n",
       "      <td>2081.0</td>\n",
       "      <td>40.0</td>\n",
       "      <td>13.0</td>\n",
       "      <td>0.05</td>\n",
       "      <td>0.14</td>\n",
       "      <td>6264.0</td>\n",
       "      <td>25214.0</td>\n",
       "      <td>1250.0</td>\n",
       "      <td>871.0</td>\n",
       "      <td>1511.0</td>\n",
       "      <td>30228.0</td>\n",
       "      <td>0.0</td>\n",
       "      <td>0.0</td>\n",
       "      <td>0.0</td>\n",
       "    </tr>\n",
       "  </tbody>\n",
       "</table>\n",
       "</div>"
      ],
      "text/plain": [
       "            Zone Produit   Origine  Aliments pour animaux  \\\n",
       "13809  Thailande  Manioc  vegetale                 1800.0   \n",
       "\n",
       "       Autres Utilisations  Disponibilite alimentaire (Kcal/personne/jour)  \\\n",
       "13809               2081.0                                            40.0   \n",
       "\n",
       "       Disponibilite alimentaire en quantite (kg/personne/an)  \\\n",
       "13809                                               13.0        \n",
       "\n",
       "       Disponibilite de matiere grasse en quantite (g/personne/jour)  \\\n",
       "13809                                               0.05               \n",
       "\n",
       "       Disponibilite de proteines en quantite (g/personne/jour)  \\\n",
       "13809                                               0.14          \n",
       "\n",
       "       Disponibilite interieure  Exportations - Quantite  \\\n",
       "13809                    6264.0                  25214.0   \n",
       "\n",
       "       Importations - Quantite  Nourriture  Pertes  Production  Semences  \\\n",
       "13809                   1250.0       871.0  1511.0     30228.0       0.0   \n",
       "\n",
       "       Traitement  Variation de stock  \n",
       "13809         0.0                 0.0  "
      ]
     },
     "execution_count": 45,
     "metadata": {},
     "output_type": "execute_result"
    }
   ],
   "source": [
    "dispo_alimentaire[(dispo_alimentaire['Zone']=='Thailande') & (dispo_alimentaire['Produit']=='Manioc')]"
   ]
  },
  {
   "cell_type": "code",
   "execution_count": 46,
   "id": "1c21d5be",
   "metadata": {},
   "outputs": [
    {
     "data": {
      "text/plain": [
       "83.41272991928014"
      ]
     },
     "execution_count": 46,
     "metadata": {},
     "output_type": "execute_result"
    }
   ],
   "source": [
    "100*25214.0/30228.0"
   ]
  },
  {
   "cell_type": "code",
   "execution_count": 47,
   "id": "fe68393a",
   "metadata": {},
   "outputs": [
    {
     "data": {
      "text/plain": [
       "19.955300127713922"
      ]
     },
     "execution_count": 47,
     "metadata": {},
     "output_type": "execute_result"
    }
   ],
   "source": [
    "100*1250.0/6264.0"
   ]
  },
  {
   "cell_type": "code",
   "execution_count": 48,
   "id": "cc934458",
   "metadata": {},
   "outputs": [
    {
     "data": {
      "text/plain": [
       "13.90485312899106"
      ]
     },
     "execution_count": 48,
     "metadata": {},
     "output_type": "execute_result"
    }
   ],
   "source": [
    "100*871/6264"
   ]
  },
  {
   "cell_type": "markdown",
   "id": "b39750c1",
   "metadata": {},
   "source": [
    "En 2017, la Thaïlande a produit 30 228 mille tonnes de manioc, dont 83% ont été exportées. Par contre, ils ont dû importer 1250 mille tonnes (ou 20% de disponibilité interieur total) pour pouvoir couvrir les besoins.\n",
    "\n",
    "Seulement 14% de la disponibilité intérieure est utilisée pour l'alimentation humaine."
   ]
  },
  {
   "cell_type": "code",
   "execution_count": 49,
   "id": "34895911",
   "metadata": {},
   "outputs": [
    {
     "data": {
      "text/html": [
       "<div>\n",
       "<style scoped>\n",
       "    .dataframe tbody tr th:only-of-type {\n",
       "        vertical-align: middle;\n",
       "    }\n",
       "\n",
       "    .dataframe tbody tr th {\n",
       "        vertical-align: top;\n",
       "    }\n",
       "\n",
       "    .dataframe thead th {\n",
       "        text-align: right;\n",
       "    }\n",
       "</style>\n",
       "<table border=\"1\" class=\"dataframe\">\n",
       "  <thead>\n",
       "    <tr style=\"text-align: right;\">\n",
       "      <th></th>\n",
       "      <th>Zone</th>\n",
       "      <th>Exportations - Quantite</th>\n",
       "      <th>Importations - Quantite</th>\n",
       "      <th>Production</th>\n",
       "      <th>Disponibilite interieure</th>\n",
       "    </tr>\n",
       "  </thead>\n",
       "  <tbody>\n",
       "    <tr>\n",
       "      <th>9830</th>\n",
       "      <td>Nigeria</td>\n",
       "      <td>11.0</td>\n",
       "      <td>15.0</td>\n",
       "      <td>53000.0</td>\n",
       "      <td>53004.0</td>\n",
       "    </tr>\n",
       "    <tr>\n",
       "      <th>13809</th>\n",
       "      <td>Thailande</td>\n",
       "      <td>25214.0</td>\n",
       "      <td>1250.0</td>\n",
       "      <td>30228.0</td>\n",
       "      <td>6264.0</td>\n",
       "    </tr>\n",
       "  </tbody>\n",
       "</table>\n",
       "</div>"
      ],
      "text/plain": [
       "            Zone  Exportations - Quantite  Importations - Quantite  \\\n",
       "9830     Nigeria                     11.0                     15.0   \n",
       "13809  Thailande                  25214.0                   1250.0   \n",
       "\n",
       "       Production  Disponibilite interieure  \n",
       "9830      53000.0                   53004.0  \n",
       "13809     30228.0                    6264.0  "
      ]
     },
     "execution_count": 49,
     "metadata": {},
     "output_type": "execute_result"
    }
   ],
   "source": [
    "dispo_alimentaire[(dispo_alimentaire['Production']>30000) & (dispo_alimentaire['Produit']=='Manioc')][{'Zone', 'Production', 'Disponibilite interieure', 'Exportations - Quantite', 'Importations - Quantite'}]"
   ]
  },
  {
   "cell_type": "markdown",
   "id": "d9fae282",
   "metadata": {},
   "source": [
    "Seul le Nigéria produit plus de manioc que la Thaïlande, mais tout est utilisé en interne."
   ]
  },
  {
   "cell_type": "markdown",
   "id": "9b8c3e36",
   "metadata": {},
   "source": [
    "## 6. Les pays pour lesquels la proportion de personnes sous-alimentées est la plus forte en 2017"
   ]
  },
  {
   "cell_type": "code",
   "execution_count": 50,
   "id": "6385d885",
   "metadata": {},
   "outputs": [
    {
     "data": {
      "text/html": [
       "<div>\n",
       "<style scoped>\n",
       "    .dataframe tbody tr th:only-of-type {\n",
       "        vertical-align: middle;\n",
       "    }\n",
       "\n",
       "    .dataframe tbody tr th {\n",
       "        vertical-align: top;\n",
       "    }\n",
       "\n",
       "    .dataframe thead th {\n",
       "        text-align: right;\n",
       "    }\n",
       "</style>\n",
       "<table border=\"1\" class=\"dataframe\">\n",
       "  <thead>\n",
       "    <tr style=\"text-align: right;\">\n",
       "      <th></th>\n",
       "      <th>Zone</th>\n",
       "      <th>Pourcent sous-nutrition</th>\n",
       "    </tr>\n",
       "  </thead>\n",
       "  <tbody>\n",
       "    <tr>\n",
       "      <th>78</th>\n",
       "      <td>Haiti</td>\n",
       "      <td>48.259182</td>\n",
       "    </tr>\n",
       "    <tr>\n",
       "      <th>157</th>\n",
       "      <td>Republique populaire democratique de Coree</td>\n",
       "      <td>47.188685</td>\n",
       "    </tr>\n",
       "    <tr>\n",
       "      <th>108</th>\n",
       "      <td>Madagascar</td>\n",
       "      <td>41.062924</td>\n",
       "    </tr>\n",
       "    <tr>\n",
       "      <th>103</th>\n",
       "      <td>Liberia</td>\n",
       "      <td>38.279742</td>\n",
       "    </tr>\n",
       "    <tr>\n",
       "      <th>100</th>\n",
       "      <td>Lesotho</td>\n",
       "      <td>38.249438</td>\n",
       "    </tr>\n",
       "    <tr>\n",
       "      <th>183</th>\n",
       "      <td>Tchad</td>\n",
       "      <td>37.957606</td>\n",
       "    </tr>\n",
       "    <tr>\n",
       "      <th>161</th>\n",
       "      <td>Rwanda</td>\n",
       "      <td>35.055619</td>\n",
       "    </tr>\n",
       "    <tr>\n",
       "      <th>121</th>\n",
       "      <td>Mozambique</td>\n",
       "      <td>32.810898</td>\n",
       "    </tr>\n",
       "    <tr>\n",
       "      <th>186</th>\n",
       "      <td>Timor-Leste</td>\n",
       "      <td>32.173531</td>\n",
       "    </tr>\n",
       "    <tr>\n",
       "      <th>0</th>\n",
       "      <td>Afghanistan</td>\n",
       "      <td>28.928718</td>\n",
       "    </tr>\n",
       "    <tr>\n",
       "      <th>44</th>\n",
       "      <td>Congo</td>\n",
       "      <td>27.393535</td>\n",
       "    </tr>\n",
       "    <tr>\n",
       "      <th>198</th>\n",
       "      <td>Venezuela (Republique bolivarienne du)</td>\n",
       "      <td>27.208586</td>\n",
       "    </tr>\n",
       "    <tr>\n",
       "      <th>171</th>\n",
       "      <td>Sierra Leone</td>\n",
       "      <td>26.707893</td>\n",
       "    </tr>\n",
       "    <tr>\n",
       "      <th>158</th>\n",
       "      <td>Republique-Unie de Tanzanie</td>\n",
       "      <td>24.515033</td>\n",
       "    </tr>\n",
       "    <tr>\n",
       "      <th>87</th>\n",
       "      <td>Iraq</td>\n",
       "      <td>23.966268</td>\n",
       "    </tr>\n",
       "    <tr>\n",
       "      <th>96</th>\n",
       "      <td>Kenya</td>\n",
       "      <td>23.695200</td>\n",
       "    </tr>\n",
       "    <tr>\n",
       "      <th>26</th>\n",
       "      <td>Botswana</td>\n",
       "      <td>22.674914</td>\n",
       "    </tr>\n",
       "    <tr>\n",
       "      <th>187</th>\n",
       "      <td>Togo</td>\n",
       "      <td>20.783340</td>\n",
       "    </tr>\n",
       "    <tr>\n",
       "      <th>46</th>\n",
       "      <td>Cote d'Ivoire</td>\n",
       "      <td>20.051176</td>\n",
       "    </tr>\n",
       "  </tbody>\n",
       "</table>\n",
       "</div>"
      ],
      "text/plain": [
       "                                           Zone  Pourcent sous-nutrition\n",
       "78                                        Haiti                48.259182\n",
       "157  Republique populaire democratique de Coree                47.188685\n",
       "108                                  Madagascar                41.062924\n",
       "103                                     Liberia                38.279742\n",
       "100                                     Lesotho                38.249438\n",
       "183                                       Tchad                37.957606\n",
       "161                                      Rwanda                35.055619\n",
       "121                                  Mozambique                32.810898\n",
       "186                                 Timor-Leste                32.173531\n",
       "0                                   Afghanistan                28.928718\n",
       "44                                        Congo                27.393535\n",
       "198      Venezuela (Republique bolivarienne du)                27.208586\n",
       "171                                Sierra Leone                26.707893\n",
       "158                 Republique-Unie de Tanzanie                24.515033\n",
       "87                                         Iraq                23.966268\n",
       "96                                        Kenya                23.695200\n",
       "26                                     Botswana                22.674914\n",
       "187                                        Togo                20.783340\n",
       "46                                Cote d'Ivoire                20.051176"
      ]
     },
     "execution_count": 50,
     "metadata": {},
     "output_type": "execute_result"
    }
   ],
   "source": [
    "sous_nutrition_17[{'Zone', 'Pourcent sous-nutrition'}].sort_values(by='Pourcent sous-nutrition', ascending=False)[0:19]"
   ]
  },
  {
   "cell_type": "markdown",
   "id": "409a39e9",
   "metadata": {},
   "source": [
    "Presque 50% de population de Haiti et Republique populaire democratique de Coree est en sous-nutrition, suivi par Madagascar (41%), Liberia et Lesotho (38%), etc. \n",
    "\n",
    "Entre les premiers 20 pays avec une sous-nutrition tres eleve, plus que une moitie sont des pays africaines. \n"
   ]
  },
  {
   "cell_type": "code",
   "execution_count": 51,
   "id": "d8fa6a99",
   "metadata": {},
   "outputs": [
    {
     "data": {
      "text/plain": [
       "5.845468875057933"
      ]
     },
     "execution_count": 51,
     "metadata": {},
     "output_type": "execute_result"
    }
   ],
   "source": [
    "sous_nutrition_17['Pourcent sous-nutrition'].mean()"
   ]
  },
  {
   "cell_type": "markdown",
   "id": "25054ac5",
   "metadata": {},
   "source": [
    "Le pourcentage moyen de la population en sous-nutrition par pays est 5.85%. "
   ]
  },
  {
   "cell_type": "code",
   "execution_count": 52,
   "id": "fa5e2819",
   "metadata": {},
   "outputs": [
    {
     "data": {
      "text/plain": [
       "42"
      ]
     },
     "execution_count": 52,
     "metadata": {},
     "output_type": "execute_result"
    }
   ],
   "source": [
    "sum(sous_nutrition_17['Pourcent sous-nutrition']>10)"
   ]
  },
  {
   "cell_type": "markdown",
   "id": "ab3d61c3",
   "metadata": {},
   "source": [
    "Le pourcentage de la population en sous-nutrition est plus que 10% dans 42 pays au monde."
   ]
  },
  {
   "cell_type": "markdown",
   "id": "acd19799",
   "metadata": {},
   "source": [
    "## 7. Les pays qui ont le plus bénéficié d’aide depuis 2013 "
   ]
  },
  {
   "cell_type": "markdown",
   "id": "510f562b",
   "metadata": {},
   "source": [
    "Je vais creer la table *aide_total* pour calculer l'aide total reçu depuis 2013."
   ]
  },
  {
   "cell_type": "code",
   "execution_count": 53,
   "id": "9254cbcc",
   "metadata": {},
   "outputs": [],
   "source": [
    "aide_total=pd.pivot_table(aide_alimentaire, values='Valeur', index=['Zone'],  aggfunc=sum).sort_values(by=['Valeur'], ascending=False)"
   ]
  },
  {
   "cell_type": "markdown",
   "id": "07934334",
   "metadata": {},
   "source": [
    "15 pays qui ont reçu le plus d'aide:"
   ]
  },
  {
   "cell_type": "code",
   "execution_count": 54,
   "id": "adbe311c",
   "metadata": {},
   "outputs": [
    {
     "data": {
      "text/html": [
       "<div>\n",
       "<style scoped>\n",
       "    .dataframe tbody tr th:only-of-type {\n",
       "        vertical-align: middle;\n",
       "    }\n",
       "\n",
       "    .dataframe tbody tr th {\n",
       "        vertical-align: top;\n",
       "    }\n",
       "\n",
       "    .dataframe thead th {\n",
       "        text-align: right;\n",
       "    }\n",
       "</style>\n",
       "<table border=\"1\" class=\"dataframe\">\n",
       "  <thead>\n",
       "    <tr style=\"text-align: right;\">\n",
       "      <th></th>\n",
       "      <th>Valeur</th>\n",
       "    </tr>\n",
       "    <tr>\n",
       "      <th>Zone</th>\n",
       "      <th></th>\n",
       "    </tr>\n",
       "  </thead>\n",
       "  <tbody>\n",
       "    <tr>\n",
       "      <th>Republique arabe syrienne</th>\n",
       "      <td>1858943</td>\n",
       "    </tr>\n",
       "    <tr>\n",
       "      <th>Ethiopie</th>\n",
       "      <td>1381294</td>\n",
       "    </tr>\n",
       "    <tr>\n",
       "      <th>Yemen</th>\n",
       "      <td>1206484</td>\n",
       "    </tr>\n",
       "    <tr>\n",
       "      <th>Soudan du Sud</th>\n",
       "      <td>695248</td>\n",
       "    </tr>\n",
       "    <tr>\n",
       "      <th>Soudan</th>\n",
       "      <td>669784</td>\n",
       "    </tr>\n",
       "    <tr>\n",
       "      <th>Kenya</th>\n",
       "      <td>552836</td>\n",
       "    </tr>\n",
       "    <tr>\n",
       "      <th>Bangladesh</th>\n",
       "      <td>348188</td>\n",
       "    </tr>\n",
       "    <tr>\n",
       "      <th>Somalie</th>\n",
       "      <td>292678</td>\n",
       "    </tr>\n",
       "    <tr>\n",
       "      <th>Republique democratique du Congo</th>\n",
       "      <td>288502</td>\n",
       "    </tr>\n",
       "    <tr>\n",
       "      <th>Niger</th>\n",
       "      <td>276344</td>\n",
       "    </tr>\n",
       "    <tr>\n",
       "      <th>Tchad</th>\n",
       "      <td>267966</td>\n",
       "    </tr>\n",
       "    <tr>\n",
       "      <th>Pakistan</th>\n",
       "      <td>231072</td>\n",
       "    </tr>\n",
       "    <tr>\n",
       "      <th>Republique populaire democratique de Coree</th>\n",
       "      <td>187412</td>\n",
       "    </tr>\n",
       "    <tr>\n",
       "      <th>Afghanistan</th>\n",
       "      <td>185452</td>\n",
       "    </tr>\n",
       "  </tbody>\n",
       "</table>\n",
       "</div>"
      ],
      "text/plain": [
       "                                             Valeur\n",
       "Zone                                               \n",
       "Republique arabe syrienne                   1858943\n",
       "Ethiopie                                    1381294\n",
       "Yemen                                       1206484\n",
       "Soudan du Sud                                695248\n",
       "Soudan                                       669784\n",
       "Kenya                                        552836\n",
       "Bangladesh                                   348188\n",
       "Somalie                                      292678\n",
       "Republique democratique du Congo             288502\n",
       "Niger                                        276344\n",
       "Tchad                                        267966\n",
       "Pakistan                                     231072\n",
       "Republique populaire democratique de Coree   187412\n",
       "Afghanistan                                  185452"
      ]
     },
     "execution_count": 54,
     "metadata": {},
     "output_type": "execute_result"
    }
   ],
   "source": [
    "aide_total[0:14]"
   ]
  },
  {
   "cell_type": "code",
   "execution_count": 55,
   "id": "91be4127",
   "metadata": {},
   "outputs": [],
   "source": [
    "aide_personne = pd.merge(sous_nutrition_17[{'Zone', 'Population'}],aide_total, how='right', on='Zone')"
   ]
  },
  {
   "cell_type": "code",
   "execution_count": 56,
   "id": "814b61d9",
   "metadata": {},
   "outputs": [],
   "source": [
    "aide_personne['aide/personne'] = aide_personne['Valeur']/aide_personne['Population']"
   ]
  },
  {
   "cell_type": "markdown",
   "id": "e0afad8a",
   "metadata": {},
   "source": [
    "15 pays qui ont reçu le plus d'aide par personne:"
   ]
  },
  {
   "cell_type": "code",
   "execution_count": 57,
   "id": "637a3910",
   "metadata": {},
   "outputs": [
    {
     "data": {
      "text/html": [
       "<div>\n",
       "<style scoped>\n",
       "    .dataframe tbody tr th:only-of-type {\n",
       "        vertical-align: middle;\n",
       "    }\n",
       "\n",
       "    .dataframe tbody tr th {\n",
       "        vertical-align: top;\n",
       "    }\n",
       "\n",
       "    .dataframe thead th {\n",
       "        text-align: right;\n",
       "    }\n",
       "</style>\n",
       "<table border=\"1\" class=\"dataframe\">\n",
       "  <thead>\n",
       "    <tr style=\"text-align: right;\">\n",
       "      <th></th>\n",
       "      <th>Zone</th>\n",
       "      <th>Population</th>\n",
       "      <th>Valeur</th>\n",
       "      <th>aide/personne</th>\n",
       "    </tr>\n",
       "  </thead>\n",
       "  <tbody>\n",
       "    <tr>\n",
       "      <th>0</th>\n",
       "      <td>Republique arabe syrienne</td>\n",
       "      <td>17095.678</td>\n",
       "      <td>1858943</td>\n",
       "      <td>108.737600</td>\n",
       "    </tr>\n",
       "    <tr>\n",
       "      <th>3</th>\n",
       "      <td>Soudan du Sud</td>\n",
       "      <td>10910.763</td>\n",
       "      <td>695248</td>\n",
       "      <td>63.721300</td>\n",
       "    </tr>\n",
       "    <tr>\n",
       "      <th>37</th>\n",
       "      <td>Djibouti</td>\n",
       "      <td>944.099</td>\n",
       "      <td>41296</td>\n",
       "      <td>43.741175</td>\n",
       "    </tr>\n",
       "    <tr>\n",
       "      <th>2</th>\n",
       "      <td>Yemen</td>\n",
       "      <td>27834.819</td>\n",
       "      <td>1206484</td>\n",
       "      <td>43.344417</td>\n",
       "    </tr>\n",
       "    <tr>\n",
       "      <th>16</th>\n",
       "      <td>Palestine</td>\n",
       "      <td>4747.227</td>\n",
       "      <td>169684</td>\n",
       "      <td>35.743814</td>\n",
       "    </tr>\n",
       "    <tr>\n",
       "      <th>7</th>\n",
       "      <td>Somalie</td>\n",
       "      <td>14589.179</td>\n",
       "      <td>292678</td>\n",
       "      <td>20.061307</td>\n",
       "    </tr>\n",
       "    <tr>\n",
       "      <th>19</th>\n",
       "      <td>Nicaragua</td>\n",
       "      <td>6384.846</td>\n",
       "      <td>115332</td>\n",
       "      <td>18.063396</td>\n",
       "    </tr>\n",
       "    <tr>\n",
       "      <th>10</th>\n",
       "      <td>Tchad</td>\n",
       "      <td>15016.753</td>\n",
       "      <td>267966</td>\n",
       "      <td>17.844470</td>\n",
       "    </tr>\n",
       "    <tr>\n",
       "      <th>4</th>\n",
       "      <td>Soudan</td>\n",
       "      <td>40813.397</td>\n",
       "      <td>669784</td>\n",
       "      <td>16.410886</td>\n",
       "    </tr>\n",
       "    <tr>\n",
       "      <th>27</th>\n",
       "      <td>Republique centrafricaine</td>\n",
       "      <td>4596.023</td>\n",
       "      <td>66610</td>\n",
       "      <td>14.492965</td>\n",
       "    </tr>\n",
       "    <tr>\n",
       "      <th>43</th>\n",
       "      <td>Guinee-Bissau</td>\n",
       "      <td>1828.145</td>\n",
       "      <td>25674</td>\n",
       "      <td>14.043744</td>\n",
       "    </tr>\n",
       "    <tr>\n",
       "      <th>32</th>\n",
       "      <td>Mauritanie</td>\n",
       "      <td>4282.570</td>\n",
       "      <td>57182</td>\n",
       "      <td>13.352263</td>\n",
       "    </tr>\n",
       "    <tr>\n",
       "      <th>1</th>\n",
       "      <td>Ethiopie</td>\n",
       "      <td>106399.924</td>\n",
       "      <td>1381294</td>\n",
       "      <td>12.982096</td>\n",
       "    </tr>\n",
       "    <tr>\n",
       "      <th>9</th>\n",
       "      <td>Niger</td>\n",
       "      <td>21602.382</td>\n",
       "      <td>276344</td>\n",
       "      <td>12.792293</td>\n",
       "    </tr>\n",
       "  </tbody>\n",
       "</table>\n",
       "</div>"
      ],
      "text/plain": [
       "                         Zone  Population   Valeur  aide/personne\n",
       "0   Republique arabe syrienne   17095.678  1858943     108.737600\n",
       "3               Soudan du Sud   10910.763   695248      63.721300\n",
       "37                   Djibouti     944.099    41296      43.741175\n",
       "2                       Yemen   27834.819  1206484      43.344417\n",
       "16                  Palestine    4747.227   169684      35.743814\n",
       "7                     Somalie   14589.179   292678      20.061307\n",
       "19                  Nicaragua    6384.846   115332      18.063396\n",
       "10                      Tchad   15016.753   267966      17.844470\n",
       "4                      Soudan   40813.397   669784      16.410886\n",
       "27  Republique centrafricaine    4596.023    66610      14.492965\n",
       "43              Guinee-Bissau    1828.145    25674      14.043744\n",
       "32                 Mauritanie    4282.570    57182      13.352263\n",
       "1                    Ethiopie  106399.924  1381294      12.982096\n",
       "9                       Niger   21602.382   276344      12.792293"
      ]
     },
     "execution_count": 57,
     "metadata": {},
     "output_type": "execute_result"
    }
   ],
   "source": [
    "aide_personne.sort_values(by='aide/personne', ascending=False)[0:14]"
   ]
  },
  {
   "cell_type": "markdown",
   "id": "4ca8bd98",
   "metadata": {},
   "source": [
    "## 8. Les pays ayant le plus/le moins de disponibilité/habitant, etc."
   ]
  },
  {
   "cell_type": "code",
   "execution_count": 58,
   "id": "0416c630",
   "metadata": {},
   "outputs": [],
   "source": [
    "disponibilite = pd.pivot_table(dispo_alimentaire, index=['Zone'], aggfunc=sum)"
   ]
  },
  {
   "cell_type": "code",
   "execution_count": 59,
   "id": "767e8e01",
   "metadata": {},
   "outputs": [],
   "source": [
    "disponibilite = pd.merge(disponibilite, sous_nutrition_17, how='left', on='Zone')"
   ]
  },
  {
   "cell_type": "markdown",
   "id": "325590d8",
   "metadata": {},
   "source": [
    "10 pays avec le plus de  disponibilité/habitant:"
   ]
  },
  {
   "cell_type": "code",
   "execution_count": 60,
   "id": "e7b10f14",
   "metadata": {
    "scrolled": true
   },
   "outputs": [
    {
     "data": {
      "text/html": [
       "<div>\n",
       "<style scoped>\n",
       "    .dataframe tbody tr th:only-of-type {\n",
       "        vertical-align: middle;\n",
       "    }\n",
       "\n",
       "    .dataframe tbody tr th {\n",
       "        vertical-align: top;\n",
       "    }\n",
       "\n",
       "    .dataframe thead th {\n",
       "        text-align: right;\n",
       "    }\n",
       "</style>\n",
       "<table border=\"1\" class=\"dataframe\">\n",
       "  <thead>\n",
       "    <tr style=\"text-align: right;\">\n",
       "      <th></th>\n",
       "      <th>Zone</th>\n",
       "      <th>Pourcent sous-nutrition</th>\n",
       "      <th>Disponibilite alimentaire (Kcal/personne/jour)</th>\n",
       "    </tr>\n",
       "  </thead>\n",
       "  <tbody>\n",
       "    <tr>\n",
       "      <th>11</th>\n",
       "      <td>Autriche</td>\n",
       "      <td>0.000000</td>\n",
       "      <td>3770.0</td>\n",
       "    </tr>\n",
       "    <tr>\n",
       "      <th>17</th>\n",
       "      <td>Belgique</td>\n",
       "      <td>0.000000</td>\n",
       "      <td>3737.0</td>\n",
       "    </tr>\n",
       "    <tr>\n",
       "      <th>165</th>\n",
       "      <td>Turquie</td>\n",
       "      <td>0.000000</td>\n",
       "      <td>3708.0</td>\n",
       "    </tr>\n",
       "    <tr>\n",
       "      <th>54</th>\n",
       "      <td>Etats-Unis d'Amerique</td>\n",
       "      <td>0.000000</td>\n",
       "      <td>3682.0</td>\n",
       "    </tr>\n",
       "    <tr>\n",
       "      <th>80</th>\n",
       "      <td>Israel</td>\n",
       "      <td>0.000000</td>\n",
       "      <td>3610.0</td>\n",
       "    </tr>\n",
       "    <tr>\n",
       "      <th>78</th>\n",
       "      <td>Irlande</td>\n",
       "      <td>0.000000</td>\n",
       "      <td>3602.0</td>\n",
       "    </tr>\n",
       "    <tr>\n",
       "      <th>81</th>\n",
       "      <td>Italie</td>\n",
       "      <td>0.000000</td>\n",
       "      <td>3578.0</td>\n",
       "    </tr>\n",
       "    <tr>\n",
       "      <th>95</th>\n",
       "      <td>Luxembourg</td>\n",
       "      <td>0.000000</td>\n",
       "      <td>3540.0</td>\n",
       "    </tr>\n",
       "    <tr>\n",
       "      <th>47</th>\n",
       "      <td>Egypte</td>\n",
       "      <td>4.769677</td>\n",
       "      <td>3518.0</td>\n",
       "    </tr>\n",
       "  </tbody>\n",
       "</table>\n",
       "</div>"
      ],
      "text/plain": [
       "                      Zone  Pourcent sous-nutrition  \\\n",
       "11                Autriche                 0.000000   \n",
       "17                Belgique                 0.000000   \n",
       "165                Turquie                 0.000000   \n",
       "54   Etats-Unis d'Amerique                 0.000000   \n",
       "80                  Israel                 0.000000   \n",
       "78                 Irlande                 0.000000   \n",
       "81                  Italie                 0.000000   \n",
       "95              Luxembourg                 0.000000   \n",
       "47                  Egypte                 4.769677   \n",
       "\n",
       "     Disponibilite alimentaire (Kcal/personne/jour)  \n",
       "11                                           3770.0  \n",
       "17                                           3737.0  \n",
       "165                                          3708.0  \n",
       "54                                           3682.0  \n",
       "80                                           3610.0  \n",
       "78                                           3602.0  \n",
       "81                                           3578.0  \n",
       "95                                           3540.0  \n",
       "47                                           3518.0  "
      ]
     },
     "execution_count": 60,
     "metadata": {},
     "output_type": "execute_result"
    }
   ],
   "source": [
    "disponibilite[{'Zone', 'Disponibilite alimentaire (Kcal/personne/jour)', 'Pourcent sous-nutrition'}].sort_values(by='Disponibilite alimentaire (Kcal/personne/jour)', ascending=False)[0:9]"
   ]
  },
  {
   "cell_type": "markdown",
   "id": "367bff0e",
   "metadata": {},
   "source": [
    "10 pays avec le moins de disponibilité/habitant:"
   ]
  },
  {
   "cell_type": "code",
   "execution_count": 61,
   "id": "6775d856",
   "metadata": {},
   "outputs": [
    {
     "data": {
      "text/html": [
       "<div>\n",
       "<style scoped>\n",
       "    .dataframe tbody tr th:only-of-type {\n",
       "        vertical-align: middle;\n",
       "    }\n",
       "\n",
       "    .dataframe tbody tr th {\n",
       "        vertical-align: top;\n",
       "    }\n",
       "\n",
       "    .dataframe thead th {\n",
       "        text-align: right;\n",
       "    }\n",
       "</style>\n",
       "<table border=\"1\" class=\"dataframe\">\n",
       "  <thead>\n",
       "    <tr style=\"text-align: right;\">\n",
       "      <th></th>\n",
       "      <th>Zone</th>\n",
       "      <th>Pourcent sous-nutrition</th>\n",
       "      <th>Disponibilite alimentaire (Kcal/personne/jour)</th>\n",
       "    </tr>\n",
       "  </thead>\n",
       "  <tbody>\n",
       "    <tr>\n",
       "      <th>131</th>\n",
       "      <td>Republique centrafricaine</td>\n",
       "      <td>0.000000</td>\n",
       "      <td>1879.0</td>\n",
       "    </tr>\n",
       "    <tr>\n",
       "      <th>172</th>\n",
       "      <td>Zambie</td>\n",
       "      <td>0.000000</td>\n",
       "      <td>1924.0</td>\n",
       "    </tr>\n",
       "    <tr>\n",
       "      <th>97</th>\n",
       "      <td>Madagascar</td>\n",
       "      <td>41.062924</td>\n",
       "      <td>2056.0</td>\n",
       "    </tr>\n",
       "    <tr>\n",
       "      <th>0</th>\n",
       "      <td>Afghanistan</td>\n",
       "      <td>28.928718</td>\n",
       "      <td>2087.0</td>\n",
       "    </tr>\n",
       "    <tr>\n",
       "      <th>70</th>\n",
       "      <td>Haiti</td>\n",
       "      <td>48.259182</td>\n",
       "      <td>2089.0</td>\n",
       "    </tr>\n",
       "    <tr>\n",
       "      <th>136</th>\n",
       "      <td>Republique populaire democratique de Coree</td>\n",
       "      <td>47.188685</td>\n",
       "      <td>2093.0</td>\n",
       "    </tr>\n",
       "    <tr>\n",
       "      <th>157</th>\n",
       "      <td>Tchad</td>\n",
       "      <td>37.957606</td>\n",
       "      <td>2109.0</td>\n",
       "    </tr>\n",
       "    <tr>\n",
       "      <th>173</th>\n",
       "      <td>Zimbabwe</td>\n",
       "      <td>0.000000</td>\n",
       "      <td>2113.0</td>\n",
       "    </tr>\n",
       "    <tr>\n",
       "      <th>120</th>\n",
       "      <td>Ouganda</td>\n",
       "      <td>0.000000</td>\n",
       "      <td>2126.0</td>\n",
       "    </tr>\n",
       "    <tr>\n",
       "      <th>55</th>\n",
       "      <td>Ethiopie</td>\n",
       "      <td>19.830841</td>\n",
       "      <td>2129.0</td>\n",
       "    </tr>\n",
       "    <tr>\n",
       "      <th>160</th>\n",
       "      <td>Timor-Leste</td>\n",
       "      <td>32.173531</td>\n",
       "      <td>2129.0</td>\n",
       "    </tr>\n",
       "    <tr>\n",
       "      <th>111</th>\n",
       "      <td>Namibie</td>\n",
       "      <td>12.486301</td>\n",
       "      <td>2166.0</td>\n",
       "    </tr>\n",
       "    <tr>\n",
       "      <th>156</th>\n",
       "      <td>Tadjikistan</td>\n",
       "      <td>0.000000</td>\n",
       "      <td>2199.0</td>\n",
       "    </tr>\n",
       "    <tr>\n",
       "      <th>137</th>\n",
       "      <td>Republique-Unie de Tanzanie</td>\n",
       "      <td>24.515033</td>\n",
       "      <td>2204.0</td>\n",
       "    </tr>\n",
       "    <tr>\n",
       "      <th>86</th>\n",
       "      <td>Kenya</td>\n",
       "      <td>23.695200</td>\n",
       "      <td>2205.0</td>\n",
       "    </tr>\n",
       "    <tr>\n",
       "      <th>39</th>\n",
       "      <td>Congo</td>\n",
       "      <td>27.393535</td>\n",
       "      <td>2206.0</td>\n",
       "    </tr>\n",
       "    <tr>\n",
       "      <th>93</th>\n",
       "      <td>Liberia</td>\n",
       "      <td>38.279742</td>\n",
       "      <td>2206.0</td>\n",
       "    </tr>\n",
       "    <tr>\n",
       "      <th>171</th>\n",
       "      <td>Yemen</td>\n",
       "      <td>0.000000</td>\n",
       "      <td>2217.0</td>\n",
       "    </tr>\n",
       "    <tr>\n",
       "      <th>140</th>\n",
       "      <td>Rwanda</td>\n",
       "      <td>35.055619</td>\n",
       "      <td>2224.0</td>\n",
       "    </tr>\n",
       "    <tr>\n",
       "      <th>21</th>\n",
       "      <td>Bolivie (Etat plurinational de)</td>\n",
       "      <td>15.188261</td>\n",
       "      <td>2250.0</td>\n",
       "    </tr>\n",
       "  </tbody>\n",
       "</table>\n",
       "</div>"
      ],
      "text/plain": [
       "                                           Zone  Pourcent sous-nutrition  \\\n",
       "131                   Republique centrafricaine                 0.000000   \n",
       "172                                      Zambie                 0.000000   \n",
       "97                                   Madagascar                41.062924   \n",
       "0                                   Afghanistan                28.928718   \n",
       "70                                        Haiti                48.259182   \n",
       "136  Republique populaire democratique de Coree                47.188685   \n",
       "157                                       Tchad                37.957606   \n",
       "173                                    Zimbabwe                 0.000000   \n",
       "120                                     Ouganda                 0.000000   \n",
       "55                                     Ethiopie                19.830841   \n",
       "160                                 Timor-Leste                32.173531   \n",
       "111                                     Namibie                12.486301   \n",
       "156                                 Tadjikistan                 0.000000   \n",
       "137                 Republique-Unie de Tanzanie                24.515033   \n",
       "86                                        Kenya                23.695200   \n",
       "39                                        Congo                27.393535   \n",
       "93                                      Liberia                38.279742   \n",
       "171                                       Yemen                 0.000000   \n",
       "140                                      Rwanda                35.055619   \n",
       "21              Bolivie (Etat plurinational de)                15.188261   \n",
       "\n",
       "     Disponibilite alimentaire (Kcal/personne/jour)  \n",
       "131                                          1879.0  \n",
       "172                                          1924.0  \n",
       "97                                           2056.0  \n",
       "0                                            2087.0  \n",
       "70                                           2089.0  \n",
       "136                                          2093.0  \n",
       "157                                          2109.0  \n",
       "173                                          2113.0  \n",
       "120                                          2126.0  \n",
       "55                                           2129.0  \n",
       "160                                          2129.0  \n",
       "111                                          2166.0  \n",
       "156                                          2199.0  \n",
       "137                                          2204.0  \n",
       "86                                           2205.0  \n",
       "39                                           2206.0  \n",
       "93                                           2206.0  \n",
       "171                                          2217.0  \n",
       "140                                          2224.0  \n",
       "21                                           2250.0  "
      ]
     },
     "execution_count": 61,
     "metadata": {},
     "output_type": "execute_result"
    }
   ],
   "source": [
    "disponibilite[{'Zone', 'Disponibilite alimentaire (Kcal/personne/jour)', 'Pourcent sous-nutrition'}].sort_values(by='Disponibilite alimentaire (Kcal/personne/jour)')[0:20]"
   ]
  },
  {
   "cell_type": "code",
   "execution_count": 62,
   "id": "3bde183a",
   "metadata": {},
   "outputs": [
    {
     "data": {
      "text/plain": [
       "19"
      ]
     },
     "execution_count": 62,
     "metadata": {},
     "output_type": "execute_result"
    }
   ],
   "source": [
    "sum(disponibilite['Disponibilite alimentaire (Kcal/personne/jour)']<2250)"
   ]
  },
  {
   "cell_type": "code",
   "execution_count": 63,
   "id": "772237ee",
   "metadata": {},
   "outputs": [
    {
     "data": {
      "text/plain": [
       "84"
      ]
     },
     "execution_count": 63,
     "metadata": {},
     "output_type": "execute_result"
    }
   ],
   "source": [
    "sum(disponibilite['Pourcent sous-nutrition']>0)"
   ]
  },
  {
   "cell_type": "markdown",
   "id": "68230a2a",
   "metadata": {},
   "source": [
    "Il n'y a que 19 pays où la disponibilité alimentaire (en kcal par personne et par jour) est inférieure à 2250, mais en réalité il y a au moins 84 pays où le pourcentage de personnes en sous-nutrition est supérieur à zéro (ou plus que 84, parce que il y a des valuers manquants pour la sous-nutrition)."
   ]
  },
  {
   "cell_type": "markdown",
   "id": "4be2e5d5",
   "metadata": {},
   "source": [
    "# CONCLUSION"
   ]
  },
  {
   "cell_type": "markdown",
   "id": "88194230",
   "metadata": {},
   "source": [
    "En 2017, la population mondiale était de 7,4 milliards.\n",
    "\n",
    "Même s'il y avait assez de nourriture dans le monde pour nourrir 9,4 milliards de personnes, plus de 7% de la population mondiale était en sous-nutrition. \n",
    "\n",
    "La famine était présente dans plus de 80 pays, avec Haïti, la Corée du Nord, Madagascar, Liberia, Lesotho, Tchad, Rwanda, Mozambique, Timor-Leste et Afghanistan étant les plus en difficulté.\n",
    "\n",
    "76 pays ont reçu une aide alimentaire de 2013 à 2017, parmi lesquels Syria, Ethiopie, Yemen, Soudan du Sud, Soudan, Kenya, Bangladesh, Somalie, Congo et Niger ont le plus bénéficié d’aide.\n",
    "\n",
    "En conclusion, le problème du monde n'est pas le manque de nourriture, mais la distribution inégale: certaines parties du monde ont trop de nourriture alors que d'autres n'en ont pas assez."
   ]
  }
 ],
 "metadata": {
  "kernelspec": {
   "display_name": "Python 3 (ipykernel)",
   "language": "python",
   "name": "python3"
  },
  "language_info": {
   "codemirror_mode": {
    "name": "ipython",
    "version": 3
   },
   "file_extension": ".py",
   "mimetype": "text/x-python",
   "name": "python",
   "nbconvert_exporter": "python",
   "pygments_lexer": "ipython3",
   "version": "3.9.7"
  }
 },
 "nbformat": 4,
 "nbformat_minor": 5
}
